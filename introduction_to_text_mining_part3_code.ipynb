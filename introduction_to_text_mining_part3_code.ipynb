{
 "cells": [
  {
   "cell_type": "code",
   "execution_count": null,
   "id": "7ba33bc7",
   "metadata": {},
   "outputs": [],
   "source": [
    "\n",
    "#######################################################\n",
    "#######################################################\n",
    "############    COPYRIGHT - DATA SOCIETY   ############\n",
    "#######################################################\n",
    "#######################################################\n",
    "\n",
    "## INTRODUCTION TO TEXT MINING PART3 ##\n",
    "\n",
    "## NOTE: To run individual pieces of code, select the line of code and\n",
    "##       press ctrl + enter for PCs or command + enter for Macs\n",
    "\n"
   ]
  },
  {
   "cell_type": "code",
   "execution_count": 1,
   "id": "cfbb5bcf",
   "metadata": {},
   "outputs": [],
   "source": [
    "#=================================================-\n",
    "#### Slide 7: Directory settings  ####\n",
    "\n",
    "from pathlib import Path\n",
    "# Set `home_dir` to the root directory of your computer. \n",
    "home_dir = Path.home()\n",
    "\n",
    "# Set `main_dir` to the location of your `booz-allen-hamilton` folder.\n",
    "main_dir = home_dir / \"Documents\" / \"NLP_Intro\" / \"intro-to-text-mining-main\"\n",
    "# Make `data_dir` from the `main_dir` and remainder of the path to data directory.\n",
    "data_dir = main_dir / \"data\"\n"
   ]
  },
  {
   "cell_type": "code",
   "execution_count": 2,
   "id": "f5af2306",
   "metadata": {},
   "outputs": [
    {
     "name": "stdout",
     "output_type": "stream",
     "text": [
      "/Users/amirmokhtari/Documents/NLP_Intro/intro-to-text-mining-main/data\n"
     ]
    }
   ],
   "source": [
    "#=================================================-\n",
    "#### Slide 8: Working directory  ####\n",
    "import os\n",
    "# Set working directory.\n",
    "os.chdir(data_dir)\n",
    "\n",
    "# Check working directory.\n",
    "print(os.getcwd())"
   ]
  },
  {
   "cell_type": "code",
   "execution_count": 3,
   "id": "871f1c2c",
   "metadata": {},
   "outputs": [
    {
     "name": "stderr",
     "output_type": "stream",
     "text": [
      "/Users/amirmokhtari/anaconda3/lib/python3.7/site-packages/scipy/sparse/sparsetools.py:21: DeprecationWarning: `scipy.sparse.sparsetools` is deprecated!\n",
      "scipy.sparse.sparsetools is a private module for scipy.sparse, and should not be used.\n",
      "  _deprecated()\n"
     ]
    }
   ],
   "source": [
    "#=================================================-\n",
    "#### Slide 9: Import packages  ####\n",
    "\n",
    "# Helper packages.\n",
    "import os\n",
    "import pickle\n",
    "import pandas as pd\n",
    "import numpy as np\n",
    "\n",
    "# Cosine similarity and clustering packages.\n",
    "from sklearn.metrics.pairwise import cosine_similarity\n",
    "from scipy.cluster.hierarchy import ward, dendrogram, fcluster\n",
    "\n",
    "# Network creation and visualization.\n",
    "import networkx as nx\n",
    "from pyvis.network import Network\n",
    "\n",
    "import pyLDAvis\n",
    "import pyLDAvis.gensim\n",
    "import matplotlib.pyplot as plt\n",
    "\n",
    "import gensim\n",
    "from gensim import matutils\n",
    "from gensim.models.coherencemodel import CoherenceModel\n",
    "\n"
   ]
  },
  {
   "cell_type": "code",
   "execution_count": 4,
   "id": "1bed07f2",
   "metadata": {},
   "outputs": [
    {
     "name": "stderr",
     "output_type": "stream",
     "text": [
      "/Users/amirmokhtari/anaconda3/lib/python3.7/site-packages/ipykernel/ipkernel.py:287: DeprecationWarning: `should_run_async` will not call `transform_cell` automatically in the future. Please pass the result to `transformed_cell` argument and any exception that happen during thetransform in `preprocessing_exc_tuple` in IPython 7.17 and above.\n",
      "  and should_run_async(code)\n"
     ]
    }
   ],
   "source": [
    "#=================================================-\n",
    "#### Slide 10: Import data we saved   ####\n",
    "\n",
    "# Load pickled data and models.\n",
    "processed_docs = pickle.load(open(\"NYT_clean.sav\",\"rb\"))\n",
    "dictionary = pickle.load(open(\"dictionary.sav\",\"rb\"))\n",
    "corpus_tfidf = pickle.load(open(\"corpus_tfidf.sav\",\"rb\"))\n",
    "DTM = pickle.load(open(\"DTM.sav\",\"rb\"))\n",
    "\n",
    "# Load NYT article data from original file.\n",
    "NYT = pd.read_csv('NYT_article_data.csv')\n",
    "\n",
    "# Load pre-saved word counts array we pickled.\n",
    "word_counts_array = pickle.load(open(\"word_counts_array.sav\",\"rb\"))\n",
    "\n"
   ]
  },
  {
   "cell_type": "code",
   "execution_count": 5,
   "id": "96567164",
   "metadata": {},
   "outputs": [
    {
     "name": "stderr",
     "output_type": "stream",
     "text": [
      "/Users/amirmokhtari/anaconda3/lib/python3.7/site-packages/ipykernel/ipkernel.py:287: DeprecationWarning: `should_run_async` will not call `transform_cell` automatically in the future. Please pass the result to `transformed_cell` argument and any exception that happen during thetransform in `preprocessing_exc_tuple` in IPython 7.17 and above.\n",
      "  and should_run_async(code)\n"
     ]
    },
    {
     "data": {
      "text/plain": [
       "<gensim.interfaces.TransformedCorpus at 0x7ff588e40cd0>"
      ]
     },
     "execution_count": 5,
     "metadata": {},
     "output_type": "execute_result"
    }
   ],
   "source": [
    "corpus_tfidf"
   ]
  },
  {
   "cell_type": "code",
   "execution_count": 6,
   "id": "6c14978c",
   "metadata": {},
   "outputs": [
    {
     "name": "stderr",
     "output_type": "stream",
     "text": [
      "/Users/amirmokhtari/anaconda3/lib/python3.7/site-packages/ipykernel/ipkernel.py:287: DeprecationWarning: `should_run_async` will not call `transform_cell` automatically in the future. Please pass the result to `transformed_cell` argument and any exception that happen during thetransform in `preprocessing_exc_tuple` in IPython 7.17 and above.\n",
      "  and should_run_async(code)\n"
     ]
    },
    {
     "ename": "ValueError",
     "evalue": "at least one of corpus/id2word must be specified, to establish input space dimensionality",
     "output_type": "error",
     "traceback": [
      "\u001b[0;31m---------------------------------------------------------------------------\u001b[0m",
      "\u001b[0;31mValueError\u001b[0m                                Traceback (most recent call last)",
      "\u001b[0;32m<ipython-input-6-715f8ebcb935>\u001b[0m in \u001b[0;36m<module>\u001b[0;34m\u001b[0m\n\u001b[1;32m      6\u001b[0m                        \u001b[0mid2word\u001b[0m \u001b[0;34m=\u001b[0m \u001b[0;32mNone\u001b[0m\u001b[0;34m,\u001b[0m\u001b[0;34m\u001b[0m\u001b[0;34m\u001b[0m\u001b[0m\n\u001b[1;32m      7\u001b[0m                        \u001b[0mpasses\u001b[0m \u001b[0;34m=\u001b[0m \u001b[0;36m1\u001b[0m\u001b[0;34m,\u001b[0m\u001b[0;34m\u001b[0m\u001b[0;34m\u001b[0m\u001b[0m\n\u001b[0;32m----> 8\u001b[0;31m                        random_state = 1)\n\u001b[0m\u001b[1;32m      9\u001b[0m \u001b[0;34m\u001b[0m\u001b[0m\n",
      "\u001b[0;32m~/anaconda3/lib/python3.7/site-packages/gensim/models/ldamodel.py\u001b[0m in \u001b[0;36m__init__\u001b[0;34m(self, corpus, num_topics, id2word, distributed, chunksize, passes, update_every, alpha, eta, decay, offset, eval_every, iterations, gamma_threshold, minimum_probability, random_state, ns_conf, minimum_phi_value, per_word_topics, callbacks, dtype)\u001b[0m\n\u001b[1;32m    426\u001b[0m         \u001b[0;32mif\u001b[0m \u001b[0mcorpus\u001b[0m \u001b[0;32mis\u001b[0m \u001b[0;32mNone\u001b[0m \u001b[0;32mand\u001b[0m \u001b[0mself\u001b[0m\u001b[0;34m.\u001b[0m\u001b[0mid2word\u001b[0m \u001b[0;32mis\u001b[0m \u001b[0;32mNone\u001b[0m\u001b[0;34m:\u001b[0m\u001b[0;34m\u001b[0m\u001b[0;34m\u001b[0m\u001b[0m\n\u001b[1;32m    427\u001b[0m             raise ValueError(\n\u001b[0;32m--> 428\u001b[0;31m                 \u001b[0;34m'at least one of corpus/id2word must be specified, to establish input space dimensionality'\u001b[0m\u001b[0;34m\u001b[0m\u001b[0;34m\u001b[0m\u001b[0m\n\u001b[0m\u001b[1;32m    429\u001b[0m             )\n\u001b[1;32m    430\u001b[0m \u001b[0;34m\u001b[0m\u001b[0m\n",
      "\u001b[0;31mValueError\u001b[0m: at least one of corpus/id2word must be specified, to establish input space dimensionality"
     ]
    }
   ],
   "source": [
    "#=================================================-\n",
    "#### Slide 25: LdaModel  ####\n",
    "\n",
    "gensim.models.LdaModel(corpus = None,\n",
    "                       num_topics = 100,\n",
    "                       id2word = None,\n",
    "                       passes = 1,\n",
    "                       random_state = 1)\n",
    "\n"
   ]
  },
  {
   "cell_type": "code",
   "execution_count": 7,
   "id": "56ed065b",
   "metadata": {},
   "outputs": [
    {
     "name": "stderr",
     "output_type": "stream",
     "text": [
      "/Users/amirmokhtari/anaconda3/lib/python3.7/site-packages/ipykernel/ipkernel.py:287: DeprecationWarning: `should_run_async` will not call `transform_cell` automatically in the future. Please pass the result to `transformed_cell` argument and any exception that happen during thetransform in `preprocessing_exc_tuple` in IPython 7.17 and above.\n",
      "  and should_run_async(code)\n"
     ]
    },
    {
     "name": "stdout",
     "output_type": "stream",
     "text": [
      "LdaModel(num_terms=155, num_topics=5, decay=0.5, chunksize=2000)\n"
     ]
    }
   ],
   "source": [
    "#=================================================-\n",
    "#### Slide 26: Running LdaModel  ####\n",
    "\n",
    "lda_model_tfidf = gensim.models.LdaModel(corpus_tfidf,\n",
    "                                         num_topics = 5,\n",
    "                                         id2word = dictionary,\n",
    "                                         passes = 2,\n",
    "                                         random_state = 1)\n",
    "print(lda_model_tfidf)\n",
    "\n"
   ]
  },
  {
   "cell_type": "code",
   "execution_count": 8,
   "id": "be110823",
   "metadata": {},
   "outputs": [
    {
     "name": "stdout",
     "output_type": "stream",
     "text": [
      "Topic: 0 Word: 0.034*\"state\" + 0.023*\"even\" + 0.020*\"charg\" + 0.020*\"said\" + 0.020*\"north\" + 0.019*\"court\" + 0.017*\"china\" + 0.017*\"local\" + 0.016*\"case\" + 0.016*\"like\"\n",
      "Topic: 1 Word: 0.037*\"new\" + 0.029*\"year\" + 0.025*\"world\" + 0.024*\"presid\" + 0.023*\"two\" + 0.020*\"offici\" + 0.020*\"trump\" + 0.020*\"move\" + 0.018*\"democrat\" + 0.017*\"hous\"\n",
      "Topic: 2 Word: 0.031*\"latest\" + 0.028*\"time\" + 0.027*\"say\" + 0.025*\"local\" + 0.023*\"one\" + 0.022*\"young\" + 0.022*\"defend\" + 0.021*\"win\" + 0.019*\"final\" + 0.017*\"investig\"\n",
      "Topic: 3 Word: 0.032*\"leagu\" + 0.022*\"first\" + 0.020*\"billion\" + 0.019*\"premier\" + 0.018*\"group\" + 0.017*\"start\" + 0.016*\"forward\" + 0.016*\"saturday\" + 0.016*\"back\" + 0.016*\"south\"\n",
      "Topic: 4 Word: 0.031*\"said\" + 0.024*\"accus\" + 0.022*\"week\" + 0.021*\"night\" + 0.019*\"play\" + 0.018*\"monday\" + 0.018*\"help\" + 0.017*\"show\" + 0.017*\"tuesday\" + 0.017*\"friday\"\n"
     ]
    },
    {
     "name": "stderr",
     "output_type": "stream",
     "text": [
      "/Users/amirmokhtari/anaconda3/lib/python3.7/site-packages/ipykernel/ipkernel.py:287: DeprecationWarning: `should_run_async` will not call `transform_cell` automatically in the future. Please pass the result to `transformed_cell` argument and any exception that happen during thetransform in `preprocessing_exc_tuple` in IPython 7.17 and above.\n",
      "  and should_run_async(code)\n"
     ]
    }
   ],
   "source": [
    "#=================================================-\n",
    "#### Slide 27: LDA output  ####\n",
    "\n",
    "for idx, topic in lda_model_tfidf.print_topics(-1):\n",
    "    print('Topic: {} Word: {}'.format(idx, topic))\n",
    "\n"
   ]
  },
  {
   "cell_type": "code",
   "execution_count": 9,
   "id": "3cc2d134",
   "metadata": {},
   "outputs": [
    {
     "name": "stdout",
     "output_type": "stream",
     "text": [
      "['pakistan', 'struggl', 'batsmen', 'must', 'find', 'way', 'handl', 'south', 'africa', 'potent', 'pace', 'attack', 'claw', 'way', 'back', 'seri', 'second', 'test', 'start', 'like', 'live', 'newland', 'wicket', 'thursday']\n"
     ]
    },
    {
     "name": "stderr",
     "output_type": "stream",
     "text": [
      "/Users/amirmokhtari/anaconda3/lib/python3.7/site-packages/ipykernel/ipkernel.py:287: DeprecationWarning: `should_run_async` will not call `transform_cell` automatically in the future. Please pass the result to `transformed_cell` argument and any exception that happen during thetransform in `preprocessing_exc_tuple` in IPython 7.17 and above.\n",
      "  and should_run_async(code)\n"
     ]
    }
   ],
   "source": [
    "#=================================================-\n",
    "#### Slide 28: Classify our documents within topics  ####\n",
    "\n",
    "# Let's look at our first document as an example.\n",
    "print(processed_docs[0])\n",
    "\n"
   ]
  },
  {
   "cell_type": "code",
   "execution_count": 10,
   "id": "3ae3e823",
   "metadata": {},
   "outputs": [
    {
     "name": "stdout",
     "output_type": "stream",
     "text": [
      "\n",
      "Score: 0.7982503771781921\t \n",
      "Topic: 0.032*\"leagu\" + 0.022*\"first\" + 0.020*\"billion\" + 0.019*\"premier\" + 0.018*\"group\" + 0.017*\"start\" + 0.016*\"forward\" + 0.016*\"saturday\" + 0.016*\"back\" + 0.016*\"south\"\n",
      "\n",
      "Score: 0.0506187304854393\t \n",
      "Topic: 0.031*\"latest\" + 0.028*\"time\" + 0.027*\"say\" + 0.025*\"local\" + 0.023*\"one\" + 0.022*\"young\" + 0.022*\"defend\" + 0.021*\"win\" + 0.019*\"final\" + 0.017*\"investig\"\n",
      "\n",
      "Score: 0.050531040877103806\t \n",
      "Topic: 0.034*\"state\" + 0.023*\"even\" + 0.020*\"charg\" + 0.020*\"said\" + 0.020*\"north\" + 0.019*\"court\" + 0.017*\"china\" + 0.017*\"local\" + 0.016*\"case\" + 0.016*\"like\"\n",
      "\n",
      "Score: 0.050302181392908096\t \n",
      "Topic: 0.037*\"new\" + 0.029*\"year\" + 0.025*\"world\" + 0.024*\"presid\" + 0.023*\"two\" + 0.020*\"offici\" + 0.020*\"trump\" + 0.020*\"move\" + 0.018*\"democrat\" + 0.017*\"hous\"\n",
      "\n",
      "Score: 0.05029762536287308\t \n",
      "Topic: 0.031*\"said\" + 0.024*\"accus\" + 0.022*\"week\" + 0.021*\"night\" + 0.019*\"play\" + 0.018*\"monday\" + 0.018*\"help\" + 0.017*\"show\" + 0.017*\"tuesday\" + 0.017*\"friday\"\n"
     ]
    },
    {
     "name": "stderr",
     "output_type": "stream",
     "text": [
      "/Users/amirmokhtari/anaconda3/lib/python3.7/site-packages/ipykernel/ipkernel.py:287: DeprecationWarning: `should_run_async` will not call `transform_cell` automatically in the future. Please pass the result to `transformed_cell` argument and any exception that happen during thetransform in `preprocessing_exc_tuple` in IPython 7.17 and above.\n",
      "  and should_run_async(code)\n"
     ]
    }
   ],
   "source": [
    "#=================================================-\n",
    "#### Slide 29: Classify our documents within topics (cont'd)  ####\n",
    "\n",
    "for index, score in sorted(lda_model_tfidf[corpus_tfidf[0]], key=lambda tup: -1*tup[1]):\n",
    "    print(\"\\nScore: {}\\t \\nTopic: {}\".format(score, lda_model_tfidf.print_topic(index, 10)))\n",
    "\n"
   ]
  },
  {
   "cell_type": "code",
   "execution_count": 11,
   "id": "16808dcc",
   "metadata": {},
   "outputs": [
    {
     "name": "stderr",
     "output_type": "stream",
     "text": [
      "/Users/amirmokhtari/anaconda3/lib/python3.7/site-packages/ipykernel/ipkernel.py:287: DeprecationWarning: `should_run_async` will not call `transform_cell` automatically in the future. Please pass the result to `transformed_cell` argument and any exception that happen during thetransform in `preprocessing_exc_tuple` in IPython 7.17 and above.\n",
      "  and should_run_async(code)\n"
     ]
    }
   ],
   "source": [
    "#=================================================-\n",
    "#### Slide 31: Exercise 1  ####\n",
    "\n",
    "\n",
    "\n"
   ]
  },
  {
   "cell_type": "code",
   "execution_count": 12,
   "id": "0424e89c",
   "metadata": {},
   "outputs": [
    {
     "name": "stderr",
     "output_type": "stream",
     "text": [
      "/Users/amirmokhtari/anaconda3/lib/python3.7/site-packages/ipykernel/ipkernel.py:287: DeprecationWarning: `should_run_async` will not call `transform_cell` automatically in the future. Please pass the result to `transformed_cell` argument and any exception that happen during thetransform in `preprocessing_exc_tuple` in IPython 7.17 and above.\n",
      "  and should_run_async(code)\n"
     ]
    },
    {
     "ename": "NameError",
     "evalue": "name 'your_lda_model' is not defined",
     "output_type": "error",
     "traceback": [
      "\u001b[0;31m---------------------------------------------------------------------------\u001b[0m",
      "\u001b[0;31mNameError\u001b[0m                                 Traceback (most recent call last)",
      "\u001b[0;32m<ipython-input-12-d04e78f34433>\u001b[0m in \u001b[0;36m<module>\u001b[0;34m\u001b[0m\n\u001b[1;32m      2\u001b[0m \u001b[0;31m#### Slide 37: Topic coherence: compute the score  ####\u001b[0m\u001b[0;34m\u001b[0m\u001b[0;34m\u001b[0m\u001b[0;34m\u001b[0m\u001b[0m\n\u001b[1;32m      3\u001b[0m \u001b[0;34m\u001b[0m\u001b[0m\n\u001b[0;32m----> 4\u001b[0;31m coherence_model = CoherenceModel(model = your_lda_model,\n\u001b[0m\u001b[1;32m      5\u001b[0m                                  \u001b[0mtexts\u001b[0m \u001b[0;34m=\u001b[0m \u001b[0myour_documents\u001b[0m\u001b[0;34m,\u001b[0m\u001b[0;34m\u001b[0m\u001b[0;34m\u001b[0m\u001b[0m\n\u001b[1;32m      6\u001b[0m                                  \u001b[0mdictionary\u001b[0m \u001b[0;34m=\u001b[0m \u001b[0myour_model_dictionary\u001b[0m\u001b[0;34m,\u001b[0m\u001b[0;34m\u001b[0m\u001b[0;34m\u001b[0m\u001b[0m\n",
      "\u001b[0;31mNameError\u001b[0m: name 'your_lda_model' is not defined"
     ]
    }
   ],
   "source": [
    "#=================================================-\n",
    "#### Slide 37: Topic coherence: compute the score  ####\n",
    "\n",
    "coherence_model = CoherenceModel(model = your_lda_model,\n",
    "                                 texts = your_documents,\n",
    "                                 dictionary = your_model_dictionary,\n",
    "                                 coherence = 'c_v') #<- coherence metric\n",
    "\n",
    "coherence_score = coherence_model.get_coherence()\n",
    "\n"
   ]
  },
  {
   "cell_type": "code",
   "execution_count": 13,
   "id": "afcfa582",
   "metadata": {},
   "outputs": [
    {
     "name": "stderr",
     "output_type": "stream",
     "text": [
      "/Users/amirmokhtari/anaconda3/lib/python3.7/site-packages/ipykernel/ipkernel.py:287: DeprecationWarning: `should_run_async` will not call `transform_cell` automatically in the future. Please pass the result to `transformed_cell` argument and any exception that happen during thetransform in `preprocessing_exc_tuple` in IPython 7.17 and above.\n",
      "  and should_run_async(code)\n"
     ]
    },
    {
     "name": "stdout",
     "output_type": "stream",
     "text": [
      "Coherence Score:  0.47755503368452945\n"
     ]
    }
   ],
   "source": [
    "#=================================================-\n",
    "#### Slide 38: Topic coherence: compute the score (cont'd)  ####\n",
    "\n",
    "# Compute Coherence Score using c_v.\n",
    "coherence_model_lda = CoherenceModel(model = lda_model_tfidf,\n",
    "                                     texts = processed_docs,\n",
    "                                     dictionary = dictionary,\n",
    "                                     coherence = 'c_v')\n",
    "\n",
    "coherence_lda = coherence_model_lda.get_coherence()\n",
    "print('Coherence Score: ', coherence_lda)\n",
    "\n"
   ]
  },
  {
   "cell_type": "code",
   "execution_count": 14,
   "id": "d1a5f1a0",
   "metadata": {},
   "outputs": [
    {
     "name": "stderr",
     "output_type": "stream",
     "text": [
      "/Users/amirmokhtari/anaconda3/lib/python3.7/site-packages/ipykernel/ipkernel.py:287: DeprecationWarning: `should_run_async` will not call `transform_cell` automatically in the future. Please pass the result to `transformed_cell` argument and any exception that happen during thetransform in `preprocessing_exc_tuple` in IPython 7.17 and above.\n",
      "  and should_run_async(code)\n"
     ]
    }
   ],
   "source": [
    "#=================================================-\n",
    "#### Slide 40: Convenience function to compute coherence  ####\n",
    "\n",
    "def compute_coherence_values(dictionary, corpus, texts, limit, start = 2, step = 1):\n",
    "    coherence_values = []\n",
    "    model_list = []\n",
    "    for num_topics in range(start, limit, step):\n",
    "        model = gensim.models.LdaMulticore(corpus = corpus,\n",
    "                                           id2word = dictionary,\n",
    "                                           num_topics = num_topics)\n",
    "        model_list.append(model)\n",
    "        \n",
    "        coherencemodel = CoherenceModel(model = model,\n",
    "                                        texts = texts,\n",
    "                                        dictionary = dictionary,\n",
    "                                        coherence = 'c_v')\n",
    "        coherence_values.append(coherencemodel.get_coherence())\n",
    "        \n",
    "    return model_list, coherence_values\n",
    "\n"
   ]
  },
  {
   "cell_type": "code",
   "execution_count": 15,
   "id": "3f5f95f8",
   "metadata": {},
   "outputs": [
    {
     "name": "stderr",
     "output_type": "stream",
     "text": [
      "/Users/amirmokhtari/anaconda3/lib/python3.7/site-packages/ipykernel/ipkernel.py:287: DeprecationWarning: `should_run_async` will not call `transform_cell` automatically in the future. Please pass the result to `transformed_cell` argument and any exception that happen during thetransform in `preprocessing_exc_tuple` in IPython 7.17 and above.\n",
      "  and should_run_async(code)\n"
     ]
    }
   ],
   "source": [
    "#=================================================-\n",
    "#### Slide 41: Run compute_coherence_values function  ####\n",
    "\n",
    "np.random.seed(1)\n",
    "\n",
    "start = 2  #<- let's start with 2 topics\n",
    "limit = 40 #<- and set a max value at 40 (arbitrary number, something that a human can interpret)\n",
    "step = 3   #<- set step to be neither too small, nor to big, so it doesn't skip over too much\n",
    "topic_range = range(start, limit, step)\n",
    "\n",
    "\n",
    "model_list, coherence_values = compute_coherence_values(dictionary = dictionary,\n",
    "                                                        corpus = corpus_tfidf,\n",
    "                                                        texts = processed_docs,\n",
    "                                                        start = start,\n",
    "                                                        limit = limit,\n",
    "                                                        step = step)\n",
    "\n"
   ]
  },
  {
   "cell_type": "code",
   "execution_count": 16,
   "id": "ac9e20cc",
   "metadata": {},
   "outputs": [
    {
     "name": "stderr",
     "output_type": "stream",
     "text": [
      "/Users/amirmokhtari/anaconda3/lib/python3.7/site-packages/ipykernel/ipkernel.py:287: DeprecationWarning: `should_run_async` will not call `transform_cell` automatically in the future. Please pass the result to `transformed_cell` argument and any exception that happen during thetransform in `preprocessing_exc_tuple` in IPython 7.17 and above.\n",
      "  and should_run_async(code)\n"
     ]
    },
    {
     "data": {
      "image/png": "[encoded data removed]",
      "text/plain": [
       "<Figure size 432x288 with 1 Axes>"
      ]
     },
     "metadata": {
      "needs_background": "light"
     },
     "output_type": "display_data"
    }
   ],
   "source": [
    "#=================================================-\n",
    "#### Slide 42: Plot coherence scores  ####\n",
    "\n",
    "# Plot graph of topic list.\n",
    "plt.plot(topic_range, coherence_values)\n",
    "plt.xlabel(\"Num Topics\")\n",
    "plt.ylabel(\"Coherence score\")\n",
    "plt.legend((\"coherence_values\"), loc = 'best')\n",
    "plt.show()\n",
    "\n"
   ]
  },
  {
   "cell_type": "code",
   "execution_count": 17,
   "id": "aba9f2cf",
   "metadata": {},
   "outputs": [
    {
     "name": "stdout",
     "output_type": "stream",
     "text": [
      "0.5310675148866303\n",
      "23\n"
     ]
    },
    {
     "name": "stderr",
     "output_type": "stream",
     "text": [
      "/Users/amirmokhtari/anaconda3/lib/python3.7/site-packages/ipykernel/ipkernel.py:287: DeprecationWarning: `should_run_async` will not call `transform_cell` automatically in the future. Please pass the result to `transformed_cell` argument and any exception that happen during thetransform in `preprocessing_exc_tuple` in IPython 7.17 and above.\n",
      "  and should_run_async(code)\n"
     ]
    }
   ],
   "source": [
    "#=================================================-\n",
    "#### Slide 44: Get optimal number of topics  ####\n",
    "\n",
    "max_coherence = np.max(coherence_values)\n",
    "print(max_coherence)\n",
    "\n",
    "optimal_num_topics = topic_range[np.argmax(coherence_values)]\n",
    "print(optimal_num_topics)\n",
    "\n"
   ]
  },
  {
   "cell_type": "code",
   "execution_count": 18,
   "id": "ceee1ce6",
   "metadata": {},
   "outputs": [
    {
     "name": "stderr",
     "output_type": "stream",
     "text": [
      "/Users/amirmokhtari/anaconda3/lib/python3.7/site-packages/ipykernel/ipkernel.py:287: DeprecationWarning: `should_run_async` will not call `transform_cell` automatically in the future. Please pass the result to `transformed_cell` argument and any exception that happen during thetransform in `preprocessing_exc_tuple` in IPython 7.17 and above.\n",
      "  and should_run_async(code)\n"
     ]
    },
    {
     "data": {
      "text/html": [
       "\n",
       "<link rel=\"stylesheet\" type=\"text/css\" href=\"https://cdn.rawgit.com/bmabey/pyLDAvis/files/ldavis.v1.0.0.css\">\n",
       "\n",
       "\n",
       "<div id=\"ldavis_el788451406930752457768916555914\"></div>\n",
       "<script type=\"text/javascript\">\n",
       "\n",
       "var ldavis_el788451406930752457768916555914_data = {\"mdsDat\": {\"x\": [0.07226155855894743, 0.05667509304748901, -0.013639908462116882, -0.07636284235252414, -0.038933900791795456], \"y\": [-0.07326542941822475, 0.09385920906360332, -0.019481219326058646, 0.008930085551171356, -0.01004264587049129], \"topics\": [1, 2, 3, 4, 5], \"cluster\": [1, 1, 1, 1, 1], \"Freq\": [24.21262279427127, 20.807952522770705, 18.87773287642989, 18.407161783417685, 17.694530023110463]}, \"tinfo\": {\"Term\": [\"leagu\", \"state\", \"latest\", \"defend\", \"win\", \"accus\", \"young\", \"time\", \"first\", \"charg\", \"local\", \"night\", \"billion\", \"one\", \"even\", \"play\", \"north\", \"premier\", \"final\", \"group\", \"say\", \"democrat\", \"offici\", \"week\", \"two\", \"forward\", \"compani\", \"investig\", \"meet\", \"said\", \"democrat\", \"wall\", \"two\", \"move\", \"hous\", \"work\", \"donald\", \"trump\", \"top\", \"world\", \"chang\", \"build\", \"york\", \"head\", \"use\", \"new\", \"talk\", \"next\", \"year\", \"offici\", \"presid\", \"thousand\", \"border\", \"countri\", \"team\", \"tri\", \"leader\", \"money\", \"former\", \"european\", \"make\", \"suspect\", \"week\", \"monday\", \"govern\", \"time\", \"show\", \"peopl\", \"play\", \"compani\", \"accus\", \"night\", \"anoth\", \"execut\", \"help\", \"includ\", \"secur\", \"order\", \"leav\", \"week\", \"school\", \"warn\", \"chines\", \"minist\", \"end\", \"close\", \"suspect\", \"show\", \"said\", \"polit\", \"support\", \"test\", \"candid\", \"feder\", \"monday\", \"former\", \"sunday\", \"score\", \"offici\", \"friday\", \"tuesday\", \"saturday\", \"govern\", \"day\", \"new\", \"leagu\", \"billion\", \"group\", \"forward\", \"provid\", \"rais\", \"back\", \"south\", \"premier\", \"start\", \"cup\", \"first\", \"three\", \"way\", \"forc\", \"attack\", \"report\", \"find\", \"border\", \"long\", \"set\", \"market\", \"kill\", \"polic\", \"unit\", \"citi\", \"critic\", \"saturday\", \"million\", \"white\", \"leader\", \"time\", \"friday\", \"say\", \"presid\", \"new\", \"charg\", \"state\", \"north\", \"face\", \"appear\", \"even\", \"meet\", \"case\", \"court\", \"china\", \"parti\", \"race\", \"march\", \"made\", \"european\", \"union\", \"set\", \"would\", \"open\", \"protest\", \"ralli\", \"know\", \"trade\", \"look\", \"elect\", \"lawyer\", \"american\", \"stock\", \"score\", \"polit\", \"local\", \"like\", \"thursday\", \"said\", \"make\", \"latest\", \"citi\", \"tuesday\", \"defend\", \"win\", \"young\", \"final\", \"latest\", \"sever\", \"one\", \"time\", \"hit\", \"announc\", \"local\", \"say\", \"investig\", \"shutdown\", \"partial\", \"lawyer\", \"american\", \"de\", \"handl\", \"team\", \"elect\", \"critic\", \"countri\", \"plan\", \"month\", \"day\", \"india\", \"like\", \"forc\", \"first\", \"open\", \"govern\", \"could\", \"friday\", \"year\", \"feder\", \"said\", \"polic\", \"new\"], \"Freq\": [4.0, 4.0, 5.0, 2.0, 2.0, 3.0, 3.0, 6.0, 4.0, 2.0, 5.0, 3.0, 2.0, 4.0, 4.0, 2.0, 3.0, 3.0, 3.0, 2.0, 5.0, 3.0, 5.0, 4.0, 4.0, 2.0, 2.0, 3.0, 2.0, 8.0, 2.3606541775308605, 1.5474201613931695, 2.9586787282208764, 2.527195691140168, 2.224381748588658, 2.1430300373266005, 2.2197959461983454, 2.532702789260777, 1.4726003454986911, 3.24294582408077, 1.593624873303365, 1.3426471589821456, 2.101286589396411, 1.910565390456364, 2.005556101230912, 4.820405828105858, 1.653062272151886, 1.2013810523347954, 3.7837531495708623, 2.5656391116188826, 3.114508496013995, 1.5202473468363527, 1.2785907795567826, 1.2322939861578857, 1.299719995099943, 1.0679191523819376, 1.6633672245506268, 1.0700138259336622, 1.3634921961450317, 1.0925235425424185, 1.5275435426023176, 1.3071546737314221, 1.5673927084189871, 1.6546811512750468, 1.6163688808017804, 1.370723838700249, 1.321375012773103, 1.3072876268991815, 2.0582680850564277, 1.6933665033907421, 2.6579453543570057, 2.333620303358155, 1.7961701952749856, 1.5970619780033002, 1.9422622348459972, 1.7701443966249366, 1.234778307008172, 1.3466543439923602, 1.4079502930719525, 2.399864259599147, 1.3589390300536317, 1.4687680325902015, 1.3496128588806213, 1.5378053153226976, 1.8405873819932514, 1.4573541238874448, 1.5071419479929598, 1.924142545016349, 3.4878661160741333, 1.0442341628464094, 1.1032741900873622, 1.3259173633360444, 0.8961943671575375, 1.6773311419494434, 1.954210552289482, 1.2733871432453427, 1.2266736415282546, 1.1327865073128678, 1.7990886269250093, 1.9121989797093562, 1.9150727825992804, 1.7125020140492286, 1.7907620573323753, 1.3921840471863465, 1.4696250700758156, 3.256803634157261, 2.0302912079825854, 1.7647948399846107, 1.6392464523289674, 1.5463925199125619, 1.5251614668362572, 1.6204167059881425, 1.5830991190467458, 1.9092200235100285, 1.699676042538868, 1.5551531984374238, 2.253975915507051, 1.2650000655451625, 1.55730904159458, 1.0397854048123925, 1.4821403897859313, 1.2287099765835898, 0.8942688971533371, 1.0459595776591375, 0.8835530389005628, 1.222972370879964, 1.1436251210659827, 1.222555485810708, 1.5806011827010136, 0.8477282903996144, 1.2418546964752524, 0.9764423990499222, 1.6340775648358288, 1.025417303443886, 0.8536819302949297, 1.125374121420899, 1.2277389005488408, 1.1815761896132926, 1.1580051254029684, 1.1209892365366472, 1.0515278238033778, 1.975649843073808, 3.288715329544509, 1.9491760565464957, 1.5384901177997639, 1.4628597098438147, 2.262585821985438, 1.541420926792711, 1.5988854367131111, 1.8445301826210185, 1.674001148184861, 1.240780148722698, 1.180754585131629, 0.9778103645716987, 1.1847058310817091, 1.16675487731655, 1.017545079372494, 1.4429927179948971, 1.2265664105159295, 1.2987740685743778, 1.0215071090912418, 0.8855533044756855, 0.9985502019675958, 1.1065433394099011, 1.0139120459859763, 0.9064401849545153, 0.901509261037351, 1.0804425981681893, 0.805421678367612, 1.0989333800818153, 0.8888631903536575, 1.6523350947258668, 1.5672736413550696, 1.3035901179388718, 1.9572806984152369, 1.1787187375502168, 1.2510164126606782, 1.1126387275674188, 1.1434904500101393, 2.0721876386982743, 1.992962759823942, 2.109168010392633, 1.7757110924134838, 2.888126003474617, 1.3312095722913793, 2.18744288157127, 2.68694487497565, 1.3823437760445692, 1.3059881593626816, 2.3488220786227494, 2.507036574617292, 1.5631667684805657, 1.226439026890716, 0.9740395345338363, 0.9715412620305838, 1.0934607025906264, 0.9901691085083488, 0.7188054367290982, 0.9837724134506151, 0.8276776451876635, 0.9960614578863171, 0.9045570223542685, 0.958257318653348, 0.7158413846065952, 1.269112153226163, 0.6311366111472752, 1.476434246026236, 0.6304119381787354, 1.1872932455707619, 0.8976914729344185, 1.4912220022141716, 0.9480990710235532, 1.3262473765551734, 1.3965883569428355, 1.0503145051028473, 1.2908555927248107, 1.001355198753238, 1.0399408497728635], \"Total\": [4.0, 4.0, 5.0, 2.0, 2.0, 3.0, 3.0, 6.0, 4.0, 2.0, 5.0, 3.0, 2.0, 4.0, 4.0, 2.0, 3.0, 3.0, 3.0, 2.0, 5.0, 3.0, 5.0, 4.0, 4.0, 2.0, 2.0, 3.0, 2.0, 8.0, 3.146264791174213, 2.2529470391804045, 4.533916196769156, 4.124546940166474, 3.6634244018902784, 3.549871604554241, 3.829647172265969, 4.408601332686658, 2.5692521923854956, 5.6781447588667415, 2.8305631845970654, 2.4083167226186855, 3.814789373134056, 3.474612797603272, 3.678501473859685, 8.929232770985516, 3.093280828340333, 2.42642794244238, 7.6558258486521185, 5.314216339307472, 6.587089496268339, 3.2187090830841063, 2.9466684551596463, 2.862270109032444, 3.0375595385474994, 2.5482268379374036, 4.01731757185599, 2.6397614192160774, 3.537142473959737, 2.846737500811948, 3.995450969279377, 3.5390953389121407, 4.805798869717458, 5.293789740369037, 5.7159153054208, 6.113170937366542, 4.692386520002778, 4.029279961130055, 2.806160291627185, 2.3244893699926625, 3.719504091515799, 3.5133567866385502, 3.0573702831394995, 2.7977269293971463, 3.409730816798249, 3.272968126403872, 2.3002246663810935, 2.571767624824087, 2.693958841431617, 4.805798869717458, 2.8137766655655945, 3.0771592724642964, 2.888423301014038, 3.452595094300104, 4.24792931949303, 3.3767981724885097, 3.5390953389121407, 4.692386520002778, 8.563191370976526, 2.6483046779981687, 2.823615963921167, 3.466974970837552, 2.3756781890677225, 4.514199482512311, 5.293789740369037, 3.537142473959737, 3.460460874435245, 3.2699496833556725, 5.314216339307472, 5.739054170227909, 5.886654227419414, 5.265816770285869, 5.7159153054208, 4.229660298517476, 8.929232770985516, 4.234938366212553, 2.975631067958164, 2.5926937639778593, 2.5738298793869636, 2.4523695317503593, 2.5030586585768657, 2.6779273402464945, 2.723908185968553, 3.285653608374963, 3.0684356456204367, 2.872377419786206, 4.304648980618987, 2.4338165463291146, 3.0148537941407936, 2.279211280372326, 3.3127809235222103, 2.8725682180464682, 2.224888127639889, 2.9466684551596463, 2.570738803240681, 3.6051771230465244, 3.4639357902068175, 3.7482301620969602, 4.863354047636002, 2.6463386654784915, 3.8895536411491975, 3.101234017100955, 5.265816770285869, 3.3364312428311163, 2.8203764740231176, 4.01731757185599, 6.113170937366542, 5.739054170227909, 5.96812766139824, 6.587089496268339, 8.929232770985516, 2.808873588629532, 4.890776155975041, 3.0744222206968814, 2.544956741308074, 2.5893121227445146, 4.029419658564915, 2.940332346417783, 3.2173619149359403, 3.715962944938685, 3.487905801653364, 2.6887719475968828, 2.73395957742188, 2.277255349594509, 2.8860699001937866, 2.846737500811948, 2.5049341781029564, 3.6051771230465244, 3.064656635804406, 3.2874890704459796, 2.6833902583307987, 2.3991572285977667, 2.7740297289904907, 3.082385005627559, 2.8262523232612606, 2.569727514102989, 2.57573559804532, 3.091114755420455, 2.319981216080545, 3.2699496833556725, 2.6483046779981687, 5.4763893587882135, 5.194911655741144, 4.3501919361130374, 8.563191370976526, 3.995450969279377, 5.463958543612539, 3.8895536411491975, 5.886654227419414, 2.7070779459510756, 2.628937767058016, 3.2294410019720816, 3.0272685112611555, 5.463958543612539, 2.597887503298166, 4.270491593807304, 6.113170937366542, 3.168876284986043, 3.0432178468629076, 5.4763893587882135, 5.96812766139824, 3.752147672297318, 3.044893043920981, 2.535618236256361, 2.57573559804532, 3.091114755420455, 2.8261820403522093, 2.1216600089753452, 3.0375595385474994, 2.569727514102989, 3.101234017100955, 2.862270109032444, 3.1294803683983594, 2.3617970481866903, 4.229660298517476, 2.1340060503605263, 5.194911655741144, 2.279211280372326, 4.304648980618987, 3.2874890704459796, 5.7159153054208, 3.492448078883808, 5.739054170227909, 7.6558258486521185, 4.514199482512311, 8.563191370976526, 4.863354047636002, 8.929232770985516], \"Category\": [\"Default\", \"Default\", \"Default\", \"Default\", \"Default\", \"Default\", \"Default\", \"Default\", \"Default\", \"Default\", \"Default\", \"Default\", \"Default\", \"Default\", \"Default\", \"Default\", \"Default\", \"Default\", \"Default\", \"Default\", \"Default\", \"Default\", \"Default\", \"Default\", \"Default\", \"Default\", \"Default\", \"Default\", \"Default\", \"Default\", \"Topic1\", \"Topic1\", \"Topic1\", \"Topic1\", \"Topic1\", \"Topic1\", \"Topic1\", \"Topic1\", \"Topic1\", \"Topic1\", \"Topic1\", \"Topic1\", \"Topic1\", \"Topic1\", \"Topic1\", \"Topic1\", \"Topic1\", \"Topic1\", \"Topic1\", \"Topic1\", \"Topic1\", \"Topic1\", \"Topic1\", \"Topic1\", \"Topic1\", \"Topic1\", \"Topic1\", \"Topic1\", \"Topic1\", \"Topic1\", \"Topic1\", \"Topic1\", \"Topic1\", \"Topic1\", \"Topic1\", \"Topic1\", \"Topic1\", \"Topic1\", \"Topic2\", \"Topic2\", \"Topic2\", \"Topic2\", \"Topic2\", \"Topic2\", \"Topic2\", \"Topic2\", \"Topic2\", \"Topic2\", \"Topic2\", \"Topic2\", \"Topic2\", \"Topic2\", \"Topic2\", \"Topic2\", \"Topic2\", \"Topic2\", \"Topic2\", \"Topic2\", \"Topic2\", \"Topic2\", \"Topic2\", \"Topic2\", \"Topic2\", \"Topic2\", \"Topic2\", \"Topic2\", \"Topic2\", \"Topic2\", \"Topic2\", \"Topic2\", \"Topic2\", \"Topic2\", \"Topic2\", \"Topic2\", \"Topic2\", \"Topic3\", \"Topic3\", \"Topic3\", \"Topic3\", \"Topic3\", \"Topic3\", \"Topic3\", \"Topic3\", \"Topic3\", \"Topic3\", \"Topic3\", \"Topic3\", \"Topic3\", \"Topic3\", \"Topic3\", \"Topic3\", \"Topic3\", \"Topic3\", \"Topic3\", \"Topic3\", \"Topic3\", \"Topic3\", \"Topic3\", \"Topic3\", \"Topic3\", \"Topic3\", \"Topic3\", \"Topic3\", \"Topic3\", \"Topic3\", \"Topic3\", \"Topic3\", \"Topic3\", \"Topic3\", \"Topic3\", \"Topic3\", \"Topic4\", \"Topic4\", \"Topic4\", \"Topic4\", \"Topic4\", \"Topic4\", \"Topic4\", \"Topic4\", \"Topic4\", \"Topic4\", \"Topic4\", \"Topic4\", \"Topic4\", \"Topic4\", \"Topic4\", \"Topic4\", \"Topic4\", \"Topic4\", \"Topic4\", \"Topic4\", \"Topic4\", \"Topic4\", \"Topic4\", \"Topic4\", \"Topic4\", \"Topic4\", \"Topic4\", \"Topic4\", \"Topic4\", \"Topic4\", \"Topic4\", \"Topic4\", \"Topic4\", \"Topic4\", \"Topic4\", \"Topic4\", \"Topic4\", \"Topic4\", \"Topic5\", \"Topic5\", \"Topic5\", \"Topic5\", \"Topic5\", \"Topic5\", \"Topic5\", \"Topic5\", \"Topic5\", \"Topic5\", \"Topic5\", \"Topic5\", \"Topic5\", \"Topic5\", \"Topic5\", \"Topic5\", \"Topic5\", \"Topic5\", \"Topic5\", \"Topic5\", \"Topic5\", \"Topic5\", \"Topic5\", \"Topic5\", \"Topic5\", \"Topic5\", \"Topic5\", \"Topic5\", \"Topic5\", \"Topic5\", \"Topic5\", \"Topic5\", \"Topic5\", \"Topic5\", \"Topic5\", \"Topic5\", \"Topic5\", \"Topic5\", \"Topic5\"], \"logprob\": [30.0, 29.0, 28.0, 27.0, 26.0, 25.0, 24.0, 23.0, 22.0, 21.0, 20.0, 19.0, 18.0, 17.0, 16.0, 15.0, 14.0, 13.0, 12.0, 11.0, 10.0, 9.0, 8.0, 7.0, 6.0, 5.0, 4.0, 3.0, 2.0, 1.0, -4.001500129699707, -4.423799991607666, -3.775700092315674, -3.933300018310547, -4.0609002113342285, -4.098199844360352, -4.063000202178955, -3.9310998916625977, -4.473400115966797, -3.6839001178741455, -4.394400119781494, -4.565800189971924, -4.117800235748291, -4.2129998207092285, -4.1645002365112305, -3.2874999046325684, -4.357800006866455, -4.6768999099731445, -3.5297000408172607, -3.9182000160217285, -3.724299907684326, -4.441500186920166, -4.61460018157959, -4.651500225067139, -4.598199844360352, -4.7947001457214355, -4.351600170135498, -4.792699813842773, -4.550300121307373, -4.771900177001953, -4.436699867248535, -4.59250020980835, -4.410999774932861, -4.356800079345703, -4.380199909210205, -4.545100212097168, -4.581699848175049, -4.592400074005127, -3.986999988555908, -4.18209981918335, -3.731300115585327, -3.8613998889923096, -4.123199939727783, -4.240699768066406, -4.045000076293945, -4.137800216674805, -4.498000144958496, -4.411200046539307, -4.366700172424316, -3.833400011062622, -4.402200222015381, -4.324399948120117, -4.408999919891357, -4.278500080108643, -4.098800182342529, -4.332200050354004, -4.298600196838379, -4.0543999671936035, -3.4595999717712402, -4.665599822998047, -4.610599994659424, -4.426799774169922, -4.81850004196167, -4.191699981689453, -4.038899898529053, -4.467199802398682, -4.5046000480651855, -4.584199905395508, -4.121600151062012, -4.0605998039245605, -4.059100151062012, -4.170899868011475, -4.126200199127197, -4.377999782562256, -4.32390022277832, -3.430799961090088, -3.9033000469207764, -4.043499946594238, -4.117300033569336, -4.175600051879883, -4.1894001960754395, -4.128799915313721, -4.152100086212158, -3.9647998809814453, -4.081099987030029, -4.169899940490723, -3.798799991607666, -4.376399993896484, -4.168499946594238, -4.572500228881836, -4.2179999351501465, -4.4054999351501465, -4.723299980163574, -4.5665998458862305, -4.735300064086914, -4.410200119018555, -4.47730016708374, -4.410600185394287, -4.15369987487793, -4.776700019836426, -4.394899845123291, -4.635300159454346, -4.1203999519348145, -4.586400032043457, -4.769700050354004, -4.4934000968933105, -4.406300067901611, -4.444699764251709, -4.464799880981445, -4.497300148010254, -4.561299800872803, -3.905400037765503, -3.3958001136779785, -3.9189000129699707, -4.1554999351501465, -4.205900192260742, -3.7697999477386475, -4.153600215911865, -4.117000102996826, -3.9739999771118164, -4.071000099182129, -4.370500087738037, -4.420100212097168, -4.608699798583984, -4.416800022125244, -4.432000160217285, -4.568900108337402, -4.2195000648498535, -4.381999969482422, -4.32480001449585, -4.565000057220459, -4.707799911499023, -4.587699890136719, -4.485000133514404, -4.572400093078613, -4.684500217437744, -4.689899921417236, -4.508900165557861, -4.802700042724609, -4.4918999671936035, -4.704100131988525, -4.084099769592285, -4.136899948120117, -4.321100234985352, -3.9147000312805176, -4.421800136566162, -4.362299919128418, -4.479499816894531, -4.452199935913086, -3.81820011138916, -3.8571999073028564, -3.80049991607666, -3.972599983215332, -3.4862000942230225, -4.260700225830078, -3.7639999389648438, -3.5583999156951904, -4.2230000495910645, -4.279799938201904, -3.6928999423980713, -3.627700090408325, -4.100100040435791, -4.342700004577637, -4.5731000900268555, -4.5756001472473145, -4.457399845123291, -4.556700229644775, -4.8769001960754395, -4.5630998611450195, -4.735899925231934, -4.5507001876831055, -4.64709997177124, -4.589399814605713, -4.881100177764893, -4.308499813079834, -5.006999969482422, -4.157100200653076, -5.008200168609619, -4.375100135803223, -4.654699802398682, -4.147200107574463, -4.600100040435791, -4.264400005340576, -4.212699890136719, -4.497700214385986, -4.291500091552734, -4.545400142669678, -4.507599830627441], \"loglift\": [30.0, 29.0, 28.0, 27.0, 26.0, 25.0, 24.0, 23.0, 22.0, 21.0, 20.0, 19.0, 18.0, 17.0, 16.0, 15.0, 14.0, 13.0, 12.0, 11.0, 10.0, 9.0, 8.0, 7.0, 6.0, 5.0, 4.0, 3.0, 2.0, 1.0, 1.131, 1.0426, 0.9915, 0.9285, 0.9194, 0.9136, 0.8729, 0.864, 0.8617, 0.8582, 0.8438, 0.834, 0.822, 0.8202, 0.8117, 0.8018, 0.7917, 0.7153, 0.7135, 0.6901, 0.6693, 0.6682, 0.5834, 0.5756, 0.5694, 0.5486, 0.5365, 0.5153, 0.465, 0.4606, 0.4568, 0.4223, 0.2979, 0.2554, 0.1552, -0.0768, 0.151, 0.2927, 1.2599, 1.2531, 1.2338, 1.1607, 1.0379, 1.0092, 1.0071, 0.9552, 0.9477, 0.9229, 0.921, 0.8754, 0.842, 0.8303, 0.8089, 0.7611, 0.7335, 0.7295, 0.7162, 0.6784, 0.6717, 0.6392, 0.6301, 0.6087, 0.595, 0.5798, 0.5733, 0.5482, 0.5327, 0.5097, 0.4867, 0.4708, 0.4469, 0.4466, 0.4092, 0.4586, -0.2345, 1.4046, 1.2849, 1.2825, 1.216, 1.2061, 1.1718, 1.1648, 1.1245, 1.1243, 1.0765, 1.0536, 1.0202, 1.0128, 1.0066, 0.8824, 0.8629, 0.8179, 0.7557, 0.6314, 0.5992, 0.5861, 0.559, 0.5468, 0.5433, 0.5288, 0.5255, 0.5115, 0.497, 0.4874, 0.4721, 0.3947, 0.0619, 0.0867, 0.0275, -0.1037, -0.4719, 1.3405, 1.2956, 1.2367, 1.1891, 1.1214, 1.1153, 1.0466, 0.9932, 0.992, 0.9583, 0.9191, 0.8528, 0.847, 0.802, 0.8005, 0.7916, 0.7768, 0.7767, 0.7637, 0.7266, 0.6958, 0.6707, 0.668, 0.6673, 0.6504, 0.6426, 0.6413, 0.6345, 0.602, 0.6007, 0.4942, 0.4941, 0.4873, 0.2165, 0.4717, 0.2182, 0.4409, 0.0538, 1.4646, 1.455, 1.3059, 1.1985, 1.0943, 1.0633, 1.0629, 0.9099, 0.9023, 0.886, 0.8854, 0.8646, 0.8563, 0.8226, 0.7752, 0.7569, 0.6927, 0.6831, 0.6496, 0.6045, 0.599, 0.5962, 0.58, 0.5484, 0.5382, 0.5281, 0.5137, 0.4739, 0.4467, 0.4439, 0.4339, 0.3883, 0.428, 0.267, 0.0305, 0.2738, -0.1603, 0.1515, -0.4183]}, \"token.table\": {\"Topic\": [2, 4, 5, 1, 3, 5, 2, 3, 2, 4, 1, 3, 3, 3, 1, 3, 1, 3, 1, 2, 3, 4, 1, 3, 4, 2, 3, 4, 1, 2, 4, 1, 2, 3, 4, 2, 4, 2, 1, 3, 5, 1, 5, 3, 4, 5, 2, 3, 5, 1, 3, 1, 2, 3, 5, 2, 3, 5, 5, 1, 1, 3, 2, 4, 5, 2, 3, 4, 5, 1, 4, 1, 4, 5, 1, 2, 4, 2, 3, 4, 5, 1, 5, 3, 4, 3, 5, 3, 5, 1, 2, 3, 3, 1, 2, 3, 5, 1, 2, 3, 5, 3, 3, 5, 1, 3, 2, 5, 1, 3, 5, 1, 2, 1, 2, 3, 5, 2, 3, 5, 1, 2, 3, 1, 4, 3, 4, 5, 4, 5, 1, 3, 5, 3, 1, 2, 1, 3, 4, 5, 2, 3, 4, 5, 2, 3, 4, 1, 2, 4, 1, 3, 4, 1, 3, 4, 5, 1, 4, 3, 4, 5, 1, 4, 1, 2, 3, 4, 2, 4, 1, 2, 3, 5, 1, 4, 3, 5, 1, 2, 3, 1, 2, 3, 4, 5, 1, 2, 5, 4, 1, 2, 3, 2, 4, 5, 3, 4, 5, 2, 4, 2, 4, 2, 5, 1, 2, 3, 4, 1, 4, 5, 2, 1, 2, 3, 4, 5, 2, 4, 3, 4, 1, 2, 3, 4, 5, 1, 4, 3, 2, 4, 3, 2, 4, 2, 3, 1, 2, 3, 4, 5, 1, 2, 3, 4, 1, 3, 4, 5, 2, 5, 2, 4, 5, 2, 1, 3, 4, 1, 5, 1, 2, 4, 1, 2, 5, 2, 3, 3, 4, 3, 4, 1, 4, 1, 2, 4, 5, 2, 4, 1, 2, 1, 1, 5, 2, 3, 5, 1, 4, 3, 5, 1, 2, 3, 4, 5, 1, 3, 4, 5, 1, 2, 1, 4, 5, 1, 5, 1, 3, 4, 1, 2, 3, 4, 5, 1, 3, 1, 4, 2, 3, 1, 4, 5, 1, 2, 4, 1, 3, 1, 2, 1, 2, 3, 5, 1, 4, 1, 2, 5, 2, 4, 5, 1, 2, 3, 4, 5, 1, 2, 2, 5], \"Freq\": [0.8065591342789512, 0.32350788602928443, 0.32350788602928443, 0.3285995450607807, 0.3285995450607807, 0.3285995450607807, 0.6541569436418655, 0.32707847182093275, 0.38620295761797163, 0.38620295761797163, 0.30186119248017806, 0.30186119248017806, 0.7468462530487875, 0.6721263336494103, 0.33936630985715066, 0.33936630985715066, 0.4152277773965914, 0.4152277773965914, 0.4209324329371504, 0.4209324329371504, 0.3108136499526851, 0.6216272999053702, 0.7065731692135686, 0.3532865846067843, 0.7120291949399593, 0.2867049905780059, 0.2867049905780059, 0.5734099811560118, 0.34620964304260055, 0.34620964304260055, 0.34620964304260055, 0.2570989096076697, 0.2570989096076697, 0.2570989096076697, 0.2570989096076697, 0.2961385161089022, 0.2961385161089022, 0.8604040206930751, 0.2863321021280871, 0.2863321021280871, 0.2863321021280871, 0.34937303675299813, 0.34937303675299813, 0.26910924969315064, 0.5382184993863013, 0.26910924969315064, 0.3224522865690747, 0.3224522865690747, 0.3224522865690747, 0.3481436642383963, 0.6962873284767926, 0.23642560617705086, 0.23642560617705086, 0.23642560617705086, 0.23642560617705086, 0.35383424907596406, 0.35383424907596406, 0.35383424907596406, 0.7388039945400765, 0.6356744052853806, 0.5222413214679036, 0.2611206607339518, 0.3891463178534976, 0.3891463178534976, 0.3891463178534976, 0.4708176265603897, 0.23540881328019486, 0.23540881328019486, 0.23540881328019486, 0.3512793152564223, 0.3512793152564223, 0.24817469629265462, 0.49634939258530925, 0.24817469629265462, 0.3574330251792943, 0.7148660503585886, 0.7858679747035804, 0.4430464377455756, 0.2215232188727878, 0.2215232188727878, 0.2215232188727878, 0.3303307903742577, 0.6606615807485154, 0.449460801007005, 0.449460801007005, 0.46461395784062515, 0.23230697892031257, 0.4387482672675447, 0.4387482672675447, 0.2827140855540734, 0.2827140855540734, 0.2827140855540734, 0.7770521338715523, 0.1742447396972885, 0.348489479394577, 0.1742447396972885, 0.1742447396972885, 0.34990021599922255, 0.34990021599922255, 0.17495010799961128, 0.17495010799961128, 0.7713984689543455, 0.47132905167164346, 0.47132905167164346, 0.5756037050745815, 0.28780185253729074, 0.5865565663268422, 0.2932782831634211, 0.3155692775820702, 0.3155692775820702, 0.3155692775820702, 0.5459372927057063, 0.2729686463528532, 0.30553307010011616, 0.6110661402002323, 0.46860223279641433, 0.46860223279641433, 0.2665140307198337, 0.2665140307198337, 0.5330280614396674, 0.26679258123267074, 0.26679258123267074, 0.26679258123267074, 0.36048640342578964, 0.36048640342578964, 0.18301749400515074, 0.18301749400515074, 0.5490524820154522, 0.38823860677271466, 0.38823860677271466, 0.4978446349403254, 0.2489223174701627, 0.2489223174701627, 0.7083928361118039, 0.3712009198583681, 0.3712009198583681, 0.19249605503778922, 0.19249605503778922, 0.38499211007557843, 0.19249605503778922, 0.1826020639666999, 0.1826020639666999, 0.3652041279333998, 0.3652041279333998, 0.38899323367251354, 0.38899323367251354, 0.38899323367251354, 0.35382544996763876, 0.35382544996763876, 0.35382544996763876, 0.34649195431228275, 0.34649195431228275, 0.34649195431228275, 0.5005692762538697, 0.25028463812693486, 0.25028463812693486, 0.25028463812693486, 0.43912510741409005, 0.43912510741409005, 0.28868895400058614, 0.28868895400058614, 0.28868895400058614, 0.3400976087680372, 0.6801952175360744, 0.2997214470247718, 0.2997214470247718, 0.2997214470247718, 0.2997214470247718, 0.5792744139913203, 0.28963720699566015, 0.3778011780008054, 0.3778011780008054, 0.1889005890004027, 0.1889005890004027, 0.37882211351394296, 0.37882211351394296, 0.4234064060532919, 0.4234064060532919, 0.7273526143646979, 0.2424508714548993, 0.2424508714548993, 0.5599585236759543, 0.11199170473519085, 0.11199170473519085, 0.11199170473519085, 0.11199170473519085, 0.4121284553760231, 0.5692561619719602, 0.2846280809859801, 0.6505287356226103, 0.564523498565538, 0.37634899904369196, 0.18817449952184598, 0.23416507866450628, 0.23416507866450628, 0.46833015732901256, 0.3041835207879004, 0.3041835207879004, 0.3041835207879004, 0.3888376190552603, 0.3888376190552603, 0.37191700132611105, 0.37191700132611105, 0.39438113581184076, 0.39438113581184076, 0.24818330065095282, 0.24818330065095282, 0.24818330065095282, 0.24818330065095282, 0.3195418671093282, 0.3195418671093282, 0.3195418671093282, 0.7127176611997017, 0.20561941207757306, 0.20561941207757306, 0.4112388241551461, 0.20561941207757306, 0.20561941207757306, 0.37760005799479673, 0.37760005799479673, 0.6087068931740407, 0.30435344658702035, 0.4554363504093172, 0.15181211680310575, 0.15181211680310575, 0.15181211680310575, 0.15181211680310575, 0.3726629016764969, 0.3726629016764969, 0.815537778506209, 0.3657698556549247, 0.3657698556549247, 0.7990224252823209, 0.416813032543294, 0.416813032543294, 0.3481205402599854, 0.3481205402599854, 0.11677889196653121, 0.35033667589959366, 0.11677889196653121, 0.23355778393306242, 0.11677889196653121, 0.18990406305871374, 0.3798081261174275, 0.3798081261174275, 0.18990406305871374, 0.16755673751216565, 0.16755673751216565, 0.16755673751216565, 0.502670212536497, 0.35539423303838896, 0.35539423303838896, 0.3058151032384647, 0.3058151032384647, 0.3058151032384647, 0.4347401428284325, 0.27737888205474864, 0.27737888205474864, 0.27737888205474864, 0.384928138239413, 0.384928138239413, 0.21311117397025683, 0.42622234794051367, 0.21311117397025683, 0.3284187607168875, 0.3284187607168875, 0.3284187607168875, 0.36711956928328887, 0.7342391385665777, 0.6517979292981394, 0.3258989646490697, 0.20446652394391515, 0.6133995718317454, 0.43103797266489685, 0.43103797266489685, 0.2889788488544036, 0.2889788488544036, 0.2889788488544036, 0.2889788488544036, 0.35415581041385524, 0.35415581041385524, 0.2825580845491954, 0.5651161690983908, 0.6465626986325321, 0.32921165406297853, 0.32921165406297853, 0.28843588673454423, 0.28843588673454423, 0.28843588673454423, 0.6213671221518527, 0.3106835610759264, 0.41087731181229886, 0.41087731181229886, 0.22987491464422952, 0.22987491464422952, 0.22987491464422952, 0.22987491464422952, 0.22987491464422952, 0.16358122654276444, 0.16358122654276444, 0.16358122654276444, 0.49074367962829335, 0.3892183114463051, 0.3892183114463051, 0.3244241060653631, 0.3244241060653631, 0.3244241060653631, 0.39242974177660894, 0.39242974177660894, 0.6804879311170924, 0.22682931037236412, 0.22682931037236412, 0.16987578365688705, 0.3397515673137741, 0.16987578365688705, 0.16987578365688705, 0.16987578365688705, 0.6616796318683137, 0.22055987728943788, 0.39921208658557356, 0.39921208658557356, 0.37788058385912876, 0.37788058385912876, 0.5436996598241105, 0.27184982991205525, 0.27184982991205525, 0.8877261494471598, 0.32497505376092056, 0.32497505376092056, 0.3316910431754423, 0.6633820863508846, 0.416163899950641, 0.416163899950641, 0.3545625944658207, 0.3545625944658207, 0.3545625944658207, 0.7607635391986302, 0.5634006586137194, 0.2817003293068597, 0.5283415846901987, 0.17611386156339953, 0.17611386156339953, 0.32630082871829513, 0.32630082871829513, 0.32630082871829513, 0.5224779245343255, 0.13061948113358138, 0.13061948113358138, 0.13061948113358138, 0.13061948113358138, 0.5242753411460019, 0.26213767057300097, 0.30965111280538726, 0.6193022256107745], \"Term\": [\"accus\", \"american\", \"american\", \"announc\", \"announc\", \"announc\", \"anoth\", \"anoth\", \"appear\", \"appear\", \"attack\", \"attack\", \"back\", \"billion\", \"border\", \"border\", \"build\", \"build\", \"candid\", \"candid\", \"case\", \"case\", \"chang\", \"chang\", \"charg\", \"china\", \"china\", \"china\", \"chines\", \"chines\", \"chines\", \"citi\", \"citi\", \"citi\", \"citi\", \"close\", \"close\", \"compani\", \"could\", \"could\", \"could\", \"countri\", \"countri\", \"court\", \"court\", \"court\", \"critic\", \"critic\", \"critic\", \"cup\", \"cup\", \"day\", \"day\", \"day\", \"day\", \"de\", \"de\", \"de\", \"defend\", \"democrat\", \"donald\", \"donald\", \"elect\", \"elect\", \"elect\", \"end\", \"end\", \"end\", \"end\", \"european\", \"european\", \"even\", \"even\", \"even\", \"execut\", \"execut\", \"face\", \"feder\", \"feder\", \"feder\", \"feder\", \"final\", \"final\", \"find\", \"find\", \"first\", \"first\", \"forc\", \"forc\", \"former\", \"former\", \"former\", \"forward\", \"friday\", \"friday\", \"friday\", \"friday\", \"govern\", \"govern\", \"govern\", \"govern\", \"group\", \"handl\", \"handl\", \"head\", \"head\", \"help\", \"help\", \"hit\", \"hit\", \"hit\", \"hous\", \"hous\", \"includ\", \"includ\", \"india\", \"india\", \"investig\", \"investig\", \"investig\", \"kill\", \"kill\", \"kill\", \"know\", \"know\", \"latest\", \"latest\", \"latest\", \"lawyer\", \"lawyer\", \"leader\", \"leader\", \"leader\", \"leagu\", \"leav\", \"leav\", \"like\", \"like\", \"like\", \"like\", \"local\", \"local\", \"local\", \"local\", \"long\", \"long\", \"long\", \"look\", \"look\", \"look\", \"made\", \"made\", \"made\", \"make\", \"make\", \"make\", \"make\", \"march\", \"march\", \"market\", \"market\", \"market\", \"meet\", \"meet\", \"million\", \"million\", \"million\", \"million\", \"minist\", \"minist\", \"monday\", \"monday\", \"monday\", \"monday\", \"money\", \"money\", \"month\", \"month\", \"move\", \"move\", \"move\", \"new\", \"new\", \"new\", \"new\", \"new\", \"next\", \"night\", \"night\", \"north\", \"offici\", \"offici\", \"offici\", \"one\", \"one\", \"one\", \"open\", \"open\", \"open\", \"order\", \"order\", \"parti\", \"parti\", \"partial\", \"partial\", \"peopl\", \"peopl\", \"peopl\", \"peopl\", \"plan\", \"plan\", \"plan\", \"play\", \"polic\", \"polic\", \"polic\", \"polic\", \"polic\", \"polit\", \"polit\", \"premier\", \"premier\", \"presid\", \"presid\", \"presid\", \"presid\", \"presid\", \"protest\", \"protest\", \"provid\", \"race\", \"race\", \"rais\", \"ralli\", \"ralli\", \"report\", \"report\", \"said\", \"said\", \"said\", \"said\", \"said\", \"saturday\", \"saturday\", \"saturday\", \"saturday\", \"say\", \"say\", \"say\", \"say\", \"school\", \"school\", \"score\", \"score\", \"score\", \"secur\", \"set\", \"set\", \"set\", \"sever\", \"sever\", \"show\", \"show\", \"show\", \"shutdown\", \"shutdown\", \"shutdown\", \"south\", \"south\", \"start\", \"start\", \"state\", \"state\", \"stock\", \"stock\", \"sunday\", \"sunday\", \"sunday\", \"sunday\", \"support\", \"support\", \"suspect\", \"suspect\", \"talk\", \"team\", \"team\", \"test\", \"test\", \"test\", \"thousand\", \"thousand\", \"three\", \"three\", \"thursday\", \"thursday\", \"thursday\", \"thursday\", \"thursday\", \"time\", \"time\", \"time\", \"time\", \"top\", \"top\", \"trade\", \"trade\", \"trade\", \"tri\", \"tri\", \"trump\", \"trump\", \"trump\", \"tuesday\", \"tuesday\", \"tuesday\", \"tuesday\", \"tuesday\", \"two\", \"two\", \"union\", \"union\", \"unit\", \"unit\", \"use\", \"use\", \"use\", \"wall\", \"warn\", \"warn\", \"way\", \"way\", \"week\", \"week\", \"white\", \"white\", \"white\", \"win\", \"work\", \"work\", \"world\", \"world\", \"world\", \"would\", \"would\", \"would\", \"year\", \"year\", \"year\", \"year\", \"year\", \"york\", \"york\", \"young\", \"young\"]}, \"R\": 30, \"lambda.step\": 0.01, \"plot.opts\": {\"xlab\": \"PC1\", \"ylab\": \"PC2\"}, \"topic.order\": [2, 5, 4, 1, 3]};\n",
       "\n",
       "function LDAvis_load_lib(url, callback){\n",
       "  var s = document.createElement('script');\n",
       "  s.src = url;\n",
       "  s.async = true;\n",
       "  s.onreadystatechange = s.onload = callback;\n",
       "  s.onerror = function(){console.warn(\"failed to load library \" + url);};\n",
       "  document.getElementsByTagName(\"head\")[0].appendChild(s);\n",
       "}\n",
       "\n",
       "if(typeof(LDAvis) !== \"undefined\"){\n",
       "   // already loaded: just create the visualization\n",
       "   !function(LDAvis){\n",
       "       new LDAvis(\"#\" + \"ldavis_el788451406930752457768916555914\", ldavis_el788451406930752457768916555914_data);\n",
       "   }(LDAvis);\n",
       "}else if(typeof define === \"function\" && define.amd){\n",
       "   // require.js is available: use it to load d3/LDAvis\n",
       "   require.config({paths: {d3: \"https://cdnjs.cloudflare.com/ajax/libs/d3/3.5.5/d3.min\"}});\n",
       "   require([\"d3\"], function(d3){\n",
       "      window.d3 = d3;\n",
       "      LDAvis_load_lib(\"https://cdn.rawgit.com/bmabey/pyLDAvis/files/ldavis.v1.0.0.js\", function(){\n",
       "        new LDAvis(\"#\" + \"ldavis_el788451406930752457768916555914\", ldavis_el788451406930752457768916555914_data);\n",
       "      });\n",
       "    });\n",
       "}else{\n",
       "    // require.js not available: dynamically load d3 & LDAvis\n",
       "    LDAvis_load_lib(\"https://cdnjs.cloudflare.com/ajax/libs/d3/3.5.5/d3.min.js\", function(){\n",
       "         LDAvis_load_lib(\"https://cdn.rawgit.com/bmabey/pyLDAvis/files/ldavis.v1.0.0.js\", function(){\n",
       "                 new LDAvis(\"#\" + \"ldavis_el788451406930752457768916555914\", ldavis_el788451406930752457768916555914_data);\n",
       "            })\n",
       "         });\n",
       "}\n",
       "</script>"
      ],
      "text/plain": [
       "<IPython.core.display.HTML object>"
      ]
     },
     "execution_count": 18,
     "metadata": {},
     "output_type": "execute_result"
    }
   ],
   "source": [
    "#=================================================-\n",
    "#### Slide 50: Visualize topics generated with LDA  ####\n",
    "\n",
    "# Prepare LDA vis object by providing:\n",
    "vis = pyLDAvis.gensim.prepare(lda_model_tfidf,   #<- model object\n",
    "                              corpus_tfidf,      #<- corpus object\n",
    "                              dictionary)        #<- dictionary object\n",
    "\n",
    "# The function takes `vis` object that we prepared above as the main argument.\n",
    "pyLDAvis.display(vis)\n",
    "\n"
   ]
  },
  {
   "cell_type": "code",
   "execution_count": null,
   "id": "b53d37a1",
   "metadata": {},
   "outputs": [],
   "source": [
    "#=================================================-\n",
    "#### Slide 52: Exercise 2  ####\n",
    "\n",
    "\n",
    "\n"
   ]
  },
  {
   "cell_type": "code",
   "execution_count": 19,
   "id": "369424af",
   "metadata": {},
   "outputs": [
    {
     "name": "stdout",
     "output_type": "stream",
     "text": [
      "[(0, 0.25954540320095165), (1, 0.29127945804505345), (2, 0.3055490022471601), (3, 0.3055490022471601), (4, 0.20976922764421047), (5, 0.29127945804505345), (6, 0.268763787812797), (7, 0.25954540320095165), (8, 0.23076512567108073), (9, 0.5825589160901069)]\n",
      "[(0, 0.050531805), (1, 0.05030218), (2, 0.050616805), (3, 0.79825157), (4, 0.050297633)]\n"
     ]
    },
    {
     "name": "stderr",
     "output_type": "stream",
     "text": [
      "/Users/amirmokhtari/anaconda3/lib/python3.7/site-packages/ipykernel/ipkernel.py:287: DeprecationWarning: `should_run_async` will not call `transform_cell` automatically in the future. Please pass the result to `transformed_cell` argument and any exception that happen during thetransform in `preprocessing_exc_tuple` in IPython 7.17 and above.\n",
      "  and should_run_async(code)\n"
     ]
    }
   ],
   "source": [
    "#=================================================-\n",
    "#### Slide 63: Get topic probabilities for a document  ####\n",
    "\n",
    "# Select the index of the document in corpus.\n",
    "doc_num = 0\n",
    "\n",
    "# Extract the vector of tf_idf weights for the document.\n",
    "doc_vec = corpus_tfidf[doc_num]\n",
    "print(doc_vec)\n",
    "\n",
    "# Extract topic probabilities for that document.\n",
    "doc_topics = lda_model_tfidf.get_document_topics(doc_vec)\n",
    "print(doc_topics)\n",
    "\n"
   ]
  },
  {
   "cell_type": "code",
   "execution_count": 20,
   "id": "265de615",
   "metadata": {},
   "outputs": [
    {
     "name": "stdout",
     "output_type": "stream",
     "text": [
      "(0, 3, 0.79825157)\n"
     ]
    },
    {
     "name": "stderr",
     "output_type": "stream",
     "text": [
      "/Users/amirmokhtari/anaconda3/lib/python3.7/site-packages/ipykernel/ipkernel.py:287: DeprecationWarning: `should_run_async` will not call `transform_cell` automatically in the future. Please pass the result to `transformed_cell` argument and any exception that happen during thetransform in `preprocessing_exc_tuple` in IPython 7.17 and above.\n",
      "  and should_run_async(code)\n"
     ]
    }
   ],
   "source": [
    "#=================================================-\n",
    "#### Slide 64: Get topic probabilities for a document (cont'd)  ####\n",
    "\n",
    "# Initialize maximum probability score.\n",
    "max_prob = 0\n",
    "# Initialize best topic.\n",
    "best_topic = 0\n",
    "\n",
    "# Loop over all topics for the document.\n",
    "for topic in doc_topics:\n",
    "    if max_prob <= topic[1]:  #<- if current topic's probability is as high as max\n",
    "        max_prob = topic[1]   #<- make current topic's probability the new max\n",
    "        best_topic = topic[0] #<- make current topic best\n",
    "\n",
    "# Create a tuple with information we just got.\n",
    "doc_topic_pair = (doc_num, best_topic, max_prob)\n",
    "print(doc_topic_pair)\n",
    "\n"
   ]
  },
  {
   "cell_type": "code",
   "execution_count": 21,
   "id": "fd05eafa",
   "metadata": {},
   "outputs": [
    {
     "name": "stderr",
     "output_type": "stream",
     "text": [
      "/Users/amirmokhtari/anaconda3/lib/python3.7/site-packages/ipykernel/ipkernel.py:287: DeprecationWarning: `should_run_async` will not call `transform_cell` automatically in the future. Please pass the result to `transformed_cell` argument and any exception that happen during thetransform in `preprocessing_exc_tuple` in IPython 7.17 and above.\n",
      "  and should_run_async(code)\n"
     ]
    }
   ],
   "source": [
    "#=================================================-\n",
    "#### Slide 65: Get topic probabilities for a document (cont'd)  ####\n",
    "\n",
    "# Put it all together into a function that returns a tuple\n",
    "# with the index of the document, the best fit topic, and its probability.\n",
    "def GetDocTopicPair(doc_num, corpus, lda_model_tfidf):\n",
    "\n",
    "    # Extract the vector of tf_idf weights for the document.\n",
    "    doc_vec = corpus[doc_num]\n",
    "\n",
    "    # Extract topic probabilities for that document.\n",
    "    doc_topics = lda_model_tfidf.get_document_topics(doc_vec)\n",
    "\n",
    "    max_prob = 0\n",
    "    best_topic = 0\n",
    "\n",
    "    for topic in doc_topics:\n",
    "        if max_prob <= topic[1]:\n",
    "            max_prob = topic[1]\n",
    "            best_topic = topic[0]\n",
    "\n",
    "    doc_topic_pair = (doc_num, best_topic, max_prob)\n",
    "\n",
    "    return(doc_topic_pair)\n",
    "\n"
   ]
  },
  {
   "cell_type": "code",
   "execution_count": 22,
   "id": "284398a0",
   "metadata": {},
   "outputs": [
    {
     "name": "stdout",
     "output_type": "stream",
     "text": [
      "[(0, 3, 0.7982507), (1, 3, 0.74036914), (2, 1, 0.7577274), (3, 1, 0.72685695), (4, 2, 0.7742631), (5, 4, 0.7311213), (6, 0, 0.79679924), (7, 0, 0.7129077), (8, 3, 0.7747945), (9, 2, 0.5289932)]\n"
     ]
    },
    {
     "name": "stderr",
     "output_type": "stream",
     "text": [
      "/Users/amirmokhtari/anaconda3/lib/python3.7/site-packages/ipykernel/ipkernel.py:287: DeprecationWarning: `should_run_async` will not call `transform_cell` automatically in the future. Please pass the result to `transformed_cell` argument and any exception that happen during thetransform in `preprocessing_exc_tuple` in IPython 7.17 and above.\n",
      "  and should_run_async(code)\n"
     ]
    }
   ],
   "source": [
    "#=================================================-\n",
    "#### Slide 66: Get topic probabilities for all documents  ####\n",
    "\n",
    "# Create an empty list of the same length as the number of documents.\n",
    "doc_topic_pairs = [None]*dictionary.num_docs\n",
    "\n",
    "# Loop through a range of document indices.\n",
    "for i in range(dictionary.num_docs):\n",
    "    # For each document index, get the document-topic tuple.\n",
    "    doc_topic_pairs[i] = GetDocTopicPair(i, corpus_tfidf, lda_model_tfidf)\n",
    "\n",
    "print(doc_topic_pairs[:10])\n",
    "\n"
   ]
  },
  {
   "cell_type": "code",
   "execution_count": 23,
   "id": "d0a61e02",
   "metadata": {},
   "outputs": [
    {
     "name": "stdout",
     "output_type": "stream",
     "text": [
      "   doc_id  best_topic  best_probability\n",
      "0       0           3          0.798251\n",
      "1       1           3          0.740369\n",
      "2       2           1          0.757727\n",
      "3       3           1          0.726857\n",
      "4       4           2          0.774263\n"
     ]
    },
    {
     "name": "stderr",
     "output_type": "stream",
     "text": [
      "/Users/amirmokhtari/anaconda3/lib/python3.7/site-packages/ipykernel/ipkernel.py:287: DeprecationWarning: `should_run_async` will not call `transform_cell` automatically in the future. Please pass the result to `transformed_cell` argument and any exception that happen during thetransform in `preprocessing_exc_tuple` in IPython 7.17 and above.\n",
      "  and should_run_async(code)\n"
     ]
    }
   ],
   "source": [
    "#=================================================-\n",
    "#### Slide 67: Create a dataframe with doc-topic assignments  ####\n",
    "\n",
    "# Make a dataframe out of a list of tuples.\n",
    "doc_topic_pairs_df = pd.DataFrame(doc_topic_pairs)\n",
    "\n",
    "# Assign column names to the dataframe.\n",
    "doc_topic_pairs_df.columns = [\"doc_id\", \"best_topic\", \"best_probability\"]\n",
    "print(doc_topic_pairs_df.head())\n",
    "\n"
   ]
  },
  {
   "cell_type": "code",
   "execution_count": 24,
   "id": "3eb1f150",
   "metadata": {},
   "outputs": [
    {
     "name": "stdout",
     "output_type": "stream",
     "text": [
      "[120 121 123 124 125]\n",
      "     doc_id  best_topic  best_probability\n",
      "120     120           1          0.798328\n",
      "121     121           1          0.727164\n",
      "123     122           2          0.659608\n",
      "124     123           0          0.545718\n",
      "125     124           4          0.740956\n"
     ]
    },
    {
     "name": "stderr",
     "output_type": "stream",
     "text": [
      "/Users/amirmokhtari/anaconda3/lib/python3.7/site-packages/ipykernel/ipkernel.py:287: DeprecationWarning: `should_run_async` will not call `transform_cell` automatically in the future. Please pass the result to `transformed_cell` argument and any exception that happen during thetransform in `preprocessing_exc_tuple` in IPython 7.17 and above.\n",
      "  and should_run_async(code)\n"
     ]
    }
   ],
   "source": [
    "#=================================================-\n",
    "#### Slide 68: Matching document ids to NYT data  ####\n",
    "\n",
    "# Find indices of articles that we kept.\n",
    "valid_snippets = np.where(word_counts_array >= 5)[0]\n",
    "print(valid_snippets[120:125])\n",
    "\n",
    "# Now assign the index of the original article to be the index of the dataframe.\n",
    "doc_topic_pairs_df.index = valid_snippets\n",
    "print(doc_topic_pairs_df.iloc[120:125, ])\n",
    "\n"
   ]
  },
  {
   "cell_type": "code",
   "execution_count": 25,
   "id": "2cdc3a8a",
   "metadata": {},
   "outputs": [
    {
     "name": "stdout",
     "output_type": "stream",
     "text": [
      "     doc_id  best_topic  best_probability\n",
      "75       75           2          0.804347\n",
      "181     179           2          0.794047\n",
      "70       70           2          0.781515\n",
      "171     169           2          0.780105\n",
      "184     182           2          0.775857\n",
      "(45, 3)\n"
     ]
    },
    {
     "name": "stderr",
     "output_type": "stream",
     "text": [
      "/Users/amirmokhtari/anaconda3/lib/python3.7/site-packages/ipykernel/ipkernel.py:287: DeprecationWarning: `should_run_async` will not call `transform_cell` automatically in the future. Please pass the result to `transformed_cell` argument and any exception that happen during thetransform in `preprocessing_exc_tuple` in IPython 7.17 and above.\n",
      "  and should_run_async(code)\n"
     ]
    }
   ],
   "source": [
    "#=================================================-\n",
    "#### Slide 69: Inspect documents for a given topic  ####\n",
    "\n",
    "# Filter and sort all documents assigned to topic 3 by probability in descending order.\n",
    "topic3_docs = doc_topic_pairs_df.query(\"best_topic==2\")\n",
    "topic3_docs = topic3_docs.sort_values(by = \"best_probability\", ascending = False)\n",
    "print(topic3_docs.head())\n",
    "\n",
    "# Let's see how many documents were assigned to that topic.\n",
    "print(topic3_docs.shape)\n",
    "\n"
   ]
  },
  {
   "cell_type": "code",
   "execution_count": 26,
   "id": "ce12e361",
   "metadata": {},
   "outputs": [
    {
     "name": "stdout",
     "output_type": "stream",
     "text": [
      "                                              headline\n",
      "75   Greek Minister Criticizes Police Over Clashes ...\n",
      "181  India Force Rare Australia Follow-On in Sydney...\n",
      "70   Air Traffic Controllers' Union Sues Over Unpai...\n",
      "171  Britain Testing 'No-Deal' Scenario as Brexit V...\n",
      "184  Australia Dismissed for 300, India Enforce Fol...\n",
      "144  Froome, Thomas to Skip Giro d'Italia and Focus...\n",
      "4    Froome, Thomas to Skip Giro d'Italia and Focus...\n",
      "97   Netflix's 'Sex Education' Is a Trans-Atlantic ...\n",
      "16   Reaction to Andy Murray's Impending Retirement...\n",
      "163  The Latest: White House Invites Hill Leaders t...\n"
     ]
    },
    {
     "name": "stderr",
     "output_type": "stream",
     "text": [
      "/Users/amirmokhtari/anaconda3/lib/python3.7/site-packages/ipykernel/ipkernel.py:287: DeprecationWarning: `should_run_async` will not call `transform_cell` automatically in the future. Please pass the result to `transformed_cell` argument and any exception that happen during thetransform in `preprocessing_exc_tuple` in IPython 7.17 and above.\n",
      "  and should_run_async(code)\n"
     ]
    }
   ],
   "source": [
    "#=================================================-\n",
    "#### Slide 70: Inspect documents for a given topic (cont'd)  ####\n",
    "\n",
    "# Let's get the top 10 documents that were assigned to that topic.\n",
    "top_10 = topic3_docs.index[0:10,]\n",
    "\n",
    "# Inspect the top 10 documents in topic 3.\n",
    "NYT_articles_topic3 = NYT.loc[top_10, :]\n",
    "print(NYT_articles_topic3[['headline']])\n",
    "\n"
   ]
  },
  {
   "cell_type": "code",
   "execution_count": 27,
   "id": "41126ca2",
   "metadata": {},
   "outputs": [
    {
     "name": "stderr",
     "output_type": "stream",
     "text": [
      "/Users/amirmokhtari/anaconda3/lib/python3.7/site-packages/ipykernel/ipkernel.py:287: DeprecationWarning: `should_run_async` will not call `transform_cell` automatically in the future. Please pass the result to `transformed_cell` argument and any exception that happen during thetransform in `preprocessing_exc_tuple` in IPython 7.17 and above.\n",
      "  and should_run_async(code)\n"
     ]
    },
    {
     "ename": "NameError",
     "evalue": "name 'plot_dir' is not defined",
     "output_type": "error",
     "traceback": [
      "\u001b[0;31m---------------------------------------------------------------------------\u001b[0m",
      "\u001b[0;31mNameError\u001b[0m                                 Traceback (most recent call last)",
      "\u001b[0;32m<ipython-input-27-830b500de290>\u001b[0m in \u001b[0;36m<module>\u001b[0;34m\u001b[0m\n\u001b[1;32m      3\u001b[0m \u001b[0;34m\u001b[0m\u001b[0m\n\u001b[1;32m      4\u001b[0m \u001b[0;31m# Save the plot as a self-contained HTML file.\u001b[0m\u001b[0;34m\u001b[0m\u001b[0;34m\u001b[0m\u001b[0;34m\u001b[0m\u001b[0m\n\u001b[0;32m----> 5\u001b[0;31m \u001b[0mpyLDAvis\u001b[0m\u001b[0;34m.\u001b[0m\u001b[0msave_html\u001b[0m\u001b[0;34m(\u001b[0m\u001b[0mvis\u001b[0m\u001b[0;34m,\u001b[0m \u001b[0mplot_dir\u001b[0m\u001b[0;34m+\u001b[0m\u001b[0;34m\"/NYT_LDAvis.html\"\u001b[0m\u001b[0;34m)\u001b[0m\u001b[0;34m\u001b[0m\u001b[0;34m\u001b[0m\u001b[0m\n\u001b[0m\u001b[1;32m      6\u001b[0m \u001b[0;34m\u001b[0m\u001b[0m\n",
      "\u001b[0;31mNameError\u001b[0m: name 'plot_dir' is not defined"
     ]
    }
   ],
   "source": [
    "#=================================================-\n",
    "#### Slide 71: Save LDA visualization to HTML file  ####\n",
    "\n",
    "# Save the plot as a self-contained HTML file.\n",
    "pyLDAvis.save_html(vis, plot_dir+\"/NYT_LDAvis.html\")\n",
    "\n"
   ]
  },
  {
   "cell_type": "code",
   "execution_count": 28,
   "id": "b0adf584",
   "metadata": {},
   "outputs": [
    {
     "name": "stderr",
     "output_type": "stream",
     "text": [
      "/Users/amirmokhtari/anaconda3/lib/python3.7/site-packages/ipykernel/ipkernel.py:287: DeprecationWarning: `should_run_async` will not call `transform_cell` automatically in the future. Please pass the result to `transformed_cell` argument and any exception that happen during thetransform in `preprocessing_exc_tuple` in IPython 7.17 and above.\n",
      "  and should_run_async(code)\n"
     ]
    }
   ],
   "source": [
    "#=================================================-\n",
    "#### Slide 73: Exercise 3  ####\n",
    "\n",
    "\n",
    "\n"
   ]
  },
  {
   "cell_type": "code",
   "execution_count": 29,
   "id": "b2abdd8e",
   "metadata": {},
   "outputs": [
    {
     "name": "stdout",
     "output_type": "stream",
     "text": [
      "(1921, 248)\n",
      "<class 'numpy.ndarray'>\n"
     ]
    },
    {
     "name": "stderr",
     "output_type": "stream",
     "text": [
      "/Users/amirmokhtari/anaconda3/lib/python3.7/site-packages/ipykernel/ipkernel.py:287: DeprecationWarning: `should_run_async` will not call `transform_cell` automatically in the future. Please pass the result to `transformed_cell` argument and any exception that happen during thetransform in `preprocessing_exc_tuple` in IPython 7.17 and above.\n",
      "  and should_run_async(code)\n"
     ]
    }
   ],
   "source": [
    "#=================================================-\n",
    "#### Slide 83: Compute TF-IDF weighted TDM (cont'd)  ####\n",
    "\n",
    "# Convert corpus weighted with TF-IDF to a TDM matrix.\n",
    "TDM_tf_idf_matrix = matutils.corpus2dense(corpus_tfidf,\n",
    "                                          DTM.shape[1],\n",
    "                                          DTM.shape[0])\n",
    "\n",
    "print(TDM_tf_idf_matrix.shape)\n",
    "print(type(TDM_tf_idf_matrix))\n",
    "\n"
   ]
  },
  {
   "cell_type": "code",
   "execution_count": 30,
   "id": "02800682",
   "metadata": {},
   "outputs": [
    {
     "name": "stdout",
     "output_type": "stream",
     "text": [
      "(248, 1921)\n"
     ]
    },
    {
     "name": "stderr",
     "output_type": "stream",
     "text": [
      "/Users/amirmokhtari/anaconda3/lib/python3.7/site-packages/ipykernel/ipkernel.py:287: DeprecationWarning: `should_run_async` will not call `transform_cell` automatically in the future. Please pass the result to `transformed_cell` argument and any exception that happen during thetransform in `preprocessing_exc_tuple` in IPython 7.17 and above.\n",
      "  and should_run_async(code)\n"
     ]
    }
   ],
   "source": [
    "#=================================================-\n",
    "#### Slide 84: Transpose TDM to DTM  ####\n",
    "\n",
    "# Transpose matrix to get the DTM.\n",
    "DTM_tf_idf_matrix = TDM_tf_idf_matrix.transpose()\n",
    "print(DTM_tf_idf_matrix.shape)\n",
    "\n"
   ]
  },
  {
   "cell_type": "code",
   "execution_count": 31,
   "id": "5c3474ee",
   "metadata": {},
   "outputs": [
    {
     "name": "stdout",
     "output_type": "stream",
     "text": [
      "<class 'numpy.ndarray'>\n",
      "(248, 248)\n"
     ]
    },
    {
     "name": "stderr",
     "output_type": "stream",
     "text": [
      "/Users/amirmokhtari/anaconda3/lib/python3.7/site-packages/ipykernel/ipkernel.py:287: DeprecationWarning: `should_run_async` will not call `transform_cell` automatically in the future. Please pass the result to `transformed_cell` argument and any exception that happen during thetransform in `preprocessing_exc_tuple` in IPython 7.17 and above.\n",
      "  and should_run_async(code)\n"
     ]
    }
   ],
   "source": [
    "#=================================================-\n",
    "#### Slide 85: Compute cosine similarity matrix  ####\n",
    "\n",
    "# Compute similarity matrix (a numpy 2D array).\n",
    "similarity = cosine_similarity(DTM_tf_idf_matrix)\n",
    "print(type(similarity))\n",
    "print(similarity.shape)\n",
    "\n"
   ]
  },
  {
   "cell_type": "code",
   "execution_count": null,
   "id": "a64cdde4",
   "metadata": {},
   "outputs": [],
   "source": [
    "#=================================================-\n",
    "#### Slide 90: Exercise 4  ####\n",
    "\n",
    "\n",
    "\n"
   ]
  }
 ],
 "metadata": {
  "kernelspec": {
   "display_name": "Python 3",
   "language": "python",
   "name": "python3"
  },
  "language_info": {
   "codemirror_mode": {
    "name": "ipython",
    "version": 3
   },
   "file_extension": ".py",
   "mimetype": "text/x-python",
   "name": "python",
   "nbconvert_exporter": "python",
   "pygments_lexer": "ipython3",
   "version": "3.7.11"
  },
  "varInspector": {
   "cols": {
    "lenName": 16,
    "lenType": 16,
    "lenVar": 40
   },
   "kernels_config": {
    "python": {
     "delete_cmd_postfix": "",
     "delete_cmd_prefix": "del ",
     "library": "var_list.py",
     "varRefreshCmd": "print(var_dic_list())"
    },
    "r": {
     "delete_cmd_postfix": ") ",
     "delete_cmd_prefix": "rm(",
     "library": "var_list.r",
     "varRefreshCmd": "cat(var_dic_list()) "
    }
   },
   "types_to_exclude": [
    "module",
    "function",
    "builtin_function_or_method",
    "instance",
    "_Feature"
   ],
   "window_display": false
  }
 },
 "nbformat": 4,
 "nbformat_minor": 5
}
