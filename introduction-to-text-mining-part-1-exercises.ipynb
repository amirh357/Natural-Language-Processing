{
 "cells": [
  {
   "cell_type": "markdown",
   "metadata": {},
   "source": [
    "# Introduction to Text Mining Part 1 - Exercises"
   ]
  },
  {
   "cell_type": "markdown",
   "metadata": {},
   "source": [
    "## Exercise 1"
   ]
  },
  {
   "cell_type": "markdown",
   "metadata": {},
   "source": [
    "#### Task 1\n",
    "##### Import the required packages.\n",
    "##### Set `main_dir` to the location of your `booz-allen-hamilton` folder.\n",
    "##### Make `data_dir` from the `main_dir` and concatenate remainder of the path to data directory.\n",
    "##### Set the working directory to `data_dir`.\n",
    "##### Check if the working directory is updated to `data_dir`."
   ]
  },
  {
   "cell_type": "markdown",
   "metadata": {},
   "source": [
    "#### Result:"
   ]
  },
  {
   "cell_type": "code",
   "execution_count": 3,
   "metadata": {},
   "outputs": [],
   "source": [
    "from pathlib import Path\n",
    "import os\n",
    "\n",
    "# home directory\n",
    "home_dir = Path.home()\n",
    "# set main directory\n",
    "main_dir = home_dir / \"Documents\" / \"NLP_Intro\" / \"intro-to-text-mining-main\"\n",
    "data_dir = main_dir / \"Data\"\n",
    "os.chdir(data_dir)"
   ]
  },
  {
   "cell_type": "code",
   "execution_count": 4,
   "metadata": {},
   "outputs": [
    {
     "name": "stdout",
     "output_type": "stream",
     "text": [
      "/Users/amirmokhtari\n"
     ]
    }
   ],
   "source": [
    "print(home_dir)"
   ]
  },
  {
   "cell_type": "code",
   "execution_count": 5,
   "metadata": {},
   "outputs": [
    {
     "name": "stdout",
     "output_type": "stream",
     "text": [
      "/Users/amirmokhtari/Documents/NLP_Intro/intro-to-text-mining-main/data\n"
     ]
    }
   ],
   "source": [
    "print(os.getcwd())"
   ]
  },
  {
   "cell_type": "markdown",
   "metadata": {},
   "source": [
    "#### Task 2\n",
    "#####  Load the corpus from `UN_agreement_titles.csv` into a new variable `agreements`.\n",
    "#####  Print the columns of `agreements`.\n",
    "#####  Print the first 5 rows and check the output to see if data is loaded correctly."
   ]
  },
  {
   "cell_type": "markdown",
   "metadata": {},
   "source": [
    "#### Result:"
   ]
  },
  {
   "cell_type": "code",
   "execution_count": 6,
   "metadata": {},
   "outputs": [],
   "source": [
    "\n",
    "import os\n",
    "import pandas as pd\n",
    "import numpy as np\n",
    "import pickle\n",
    "import matplotlib.pyplot as plt"
   ]
  },
  {
   "cell_type": "code",
   "execution_count": 7,
   "metadata": {},
   "outputs": [],
   "source": [
    "agreements = pd.read_csv(\"UN_agreement_titles.csv\")"
   ]
  },
  {
   "cell_type": "code",
   "execution_count": 8,
   "metadata": {},
   "outputs": [
    {
     "data": {
      "text/plain": [
       "Index(['title', 'reg_number'], dtype='object')"
      ]
     },
     "execution_count": 8,
     "metadata": {},
     "output_type": "execute_result"
    }
   ],
   "source": [
    "agreements.columns"
   ]
  },
  {
   "cell_type": "code",
   "execution_count": 9,
   "metadata": {},
   "outputs": [
    {
     "data": {
      "text/html": [
       "<div>\n",
       "<style scoped>\n",
       "    .dataframe tbody tr th:only-of-type {\n",
       "        vertical-align: middle;\n",
       "    }\n",
       "\n",
       "    .dataframe tbody tr th {\n",
       "        vertical-align: top;\n",
       "    }\n",
       "\n",
       "    .dataframe thead th {\n",
       "        text-align: right;\n",
       "    }\n",
       "</style>\n",
       "<table border=\"1\" class=\"dataframe\">\n",
       "  <thead>\n",
       "    <tr style=\"text-align: right;\">\n",
       "      <th></th>\n",
       "      <th>title</th>\n",
       "      <th>reg_number</th>\n",
       "    </tr>\n",
       "  </thead>\n",
       "  <tbody>\n",
       "    <tr>\n",
       "      <th>0</th>\n",
       "      <td>Agreement concerning arrangements for the hold...</td>\n",
       "      <td>1</td>\n",
       "    </tr>\n",
       "    <tr>\n",
       "      <th>1</th>\n",
       "      <td>Declaration recognizing as compulsory the juri...</td>\n",
       "      <td>1</td>\n",
       "    </tr>\n",
       "    <tr>\n",
       "      <th>2</th>\n",
       "      <td>Declaration renewing for a further period of f...</td>\n",
       "      <td>1</td>\n",
       "    </tr>\n",
       "    <tr>\n",
       "      <th>3</th>\n",
       "      <td>Declaration recognizing as compulsory the juri...</td>\n",
       "      <td>10</td>\n",
       "    </tr>\n",
       "    <tr>\n",
       "      <th>4</th>\n",
       "      <td>Convention between the United Kingdom and Fran...</td>\n",
       "      <td>10</td>\n",
       "    </tr>\n",
       "  </tbody>\n",
       "</table>\n",
       "</div>"
      ],
      "text/plain": [
       "                                               title  reg_number\n",
       "0  Agreement concerning arrangements for the hold...           1\n",
       "1  Declaration recognizing as compulsory the juri...           1\n",
       "2  Declaration renewing for a further period of f...           1\n",
       "3  Declaration recognizing as compulsory the juri...          10\n",
       "4  Convention between the United Kingdom and Fran...          10"
      ]
     },
     "execution_count": 9,
     "metadata": {},
     "output_type": "execute_result"
    }
   ],
   "source": [
    "agreements.head(5)"
   ]
  },
  {
   "cell_type": "markdown",
   "metadata": {},
   "source": [
    "#### Task 3\n",
    "##### Make a series from the dataframe that contains only the `title` column of `agreements` and name it `titles`.\n",
    "##### Print the first 5 titles. "
   ]
  },
  {
   "cell_type": "markdown",
   "metadata": {},
   "source": [
    "#### Result:"
   ]
  },
  {
   "cell_type": "code",
   "execution_count": 10,
   "metadata": {},
   "outputs": [],
   "source": [
    "titles = agreements.title"
   ]
  },
  {
   "cell_type": "code",
   "execution_count": 11,
   "metadata": {},
   "outputs": [
    {
     "data": {
      "text/plain": [
       "0      Agreement concerning arrangements for the hold...\n",
       "1      Declaration recognizing as compulsory the juri...\n",
       "2      Declaration renewing for a further period of f...\n",
       "3      Declaration recognizing as compulsory the juri...\n",
       "4      Convention between the United Kingdom and Fran...\n",
       "                             ...                        \n",
       "995    Exchange of notes constituting an agreement co...\n",
       "996    Exchange of notes constituting an agreement re...\n",
       "997    Exchange of notes constituting an agreement re...\n",
       "998    Exchange of letters constituting an agreement ...\n",
       "999    Second supplementary Agreement for sales of ag...\n",
       "Name: title, Length: 1000, dtype: object"
      ]
     },
     "execution_count": 11,
     "metadata": {},
     "output_type": "execute_result"
    }
   ],
   "source": [
    "titles"
   ]
  },
  {
   "cell_type": "markdown",
   "metadata": {},
   "source": [
    "## Exercise 2"
   ]
  },
  {
   "cell_type": "markdown",
   "metadata": {},
   "source": [
    "#### Task 1\n",
    "##### Tokenize each title in the series `titles` and assign it to `titles_tokenized`.\n",
    "##### Assign the first tokenized titles to `title_words` and print this out."
   ]
  },
  {
   "cell_type": "markdown",
   "metadata": {},
   "source": [
    "##### Note: If you run into look-up error while using word_tokenize, `install punkt from nltk` using the code below"
   ]
  },
  {
   "cell_type": "code",
   "execution_count": 12,
   "metadata": {},
   "outputs": [],
   "source": [
    "# Packages with tools for text processing.\n",
    "import nltk\n",
    "import nltk.data\n",
    "from nltk.corpus import stopwords\n",
    "from nltk.tokenize import word_tokenize\n",
    "from nltk.stem.porter import PorterStemmer\n",
    "from sklearn.feature_extraction.text import CountVectorizer"
   ]
  },
  {
   "cell_type": "code",
   "execution_count": 13,
   "metadata": {
    "scrolled": true
   },
   "outputs": [
    {
     "name": "stderr",
     "output_type": "stream",
     "text": [
      "[nltk_data] Downloading package punkt to\n",
      "[nltk_data]     /Users/amirmokhtari/nltk_data...\n",
      "[nltk_data]   Package punkt is already up-to-date!\n"
     ]
    },
    {
     "data": {
      "text/plain": [
       "True"
      ]
     },
     "execution_count": 13,
     "metadata": {},
     "output_type": "execute_result"
    }
   ],
   "source": [
    "nltk.download('punkt')"
   ]
  },
  {
   "cell_type": "code",
   "execution_count": 14,
   "metadata": {},
   "outputs": [],
   "source": [
    "titles_tokenized = [word_tokenize(titles[i]) for i in range(0,len(titles))]"
   ]
  },
  {
   "cell_type": "code",
   "execution_count": 15,
   "metadata": {},
   "outputs": [
    {
     "name": "stdout",
     "output_type": "stream",
     "text": [
      "['Agreement', 'concerning', 'arrangements', 'for', 'the', 'holding', 'of', 'the', 'fifth', 'session', 'of', 'the', 'Council', 'of', 'the', 'United', 'Nations', 'Relief', 'and', 'Rehabilitation', 'Administration', 'at', 'the', 'Palais', 'des', 'Nations', ',', 'Geneva', ',', 'concluded', 'between', 'the', 'United', 'Nations', ',', 'the', 'League', 'of', 'Nations', 'and', 'the', 'United', 'Nations', 'Relief', 'and', 'Rehabilitation', 'Administration']\n"
     ]
    }
   ],
   "source": [
    "title_words = titles_tokenized[0]\n",
    "print(title_words)"
   ]
  },
  {
   "cell_type": "markdown",
   "metadata": {},
   "source": [
    "#### Result:"
   ]
  },
  {
   "cell_type": "code",
   "execution_count": null,
   "metadata": {},
   "outputs": [],
   "source": []
  },
  {
   "cell_type": "markdown",
   "metadata": {},
   "source": [
    "#### Task 2\n",
    "##### Clean the `titles_words` in the following order:\n",
    "##### 1. Convert all characters to lower case and assign it to `titles_words`.\n",
    "##### 2. Remove stop words from `titles_words` and assign it to `titles_words`.\n",
    "##### 3. Remove punctuation, numbers, and all other symbols that are not letters of the alphabet \n",
    "#####    from `titles_words` and assign it to `titles_words`.\n",
    "##### 4. Stem words in `titles_words` and assign it to `titles_words`."
   ]
  },
  {
   "cell_type": "code",
   "execution_count": 16,
   "metadata": {},
   "outputs": [],
   "source": [
    "stop_words = stopwords.words('english')\n",
    "titles_words = [None]*len(titles_tokenized)\n",
    "word_counts_per_titles = [None]*len(titles_tokenized)\n",
    "for i in range(len(titles_words)):\n",
    "    titles_words[i] = titles_tokenized[i]\n",
    "    # 1\n",
    "    titles_words[i] = [word.lower() for word in titles_words[i]]\n",
    "    # 2\n",
    "    titles_words[i] = [word for word in titles_words[i] if not word in stop_words]\n",
    "    # 3\n",
    "    titles_words[i] = [word for word in titles_words[i] if word.isalnum()]\n",
    "    # 4\n",
    "    titles_words[i] = [PorterStemmer().stem(word) for word in titles_words[i]]\n",
    "    # 5\n",
    "    word_counts_per_titles[i] = len(titles_words[i])"
   ]
  },
  {
   "cell_type": "code",
   "execution_count": 17,
   "metadata": {},
   "outputs": [
    {
     "data": {
      "text/plain": [
       "16"
      ]
     },
     "execution_count": 17,
     "metadata": {},
     "output_type": "execute_result"
    }
   ],
   "source": [
    "titles_words[12]\n",
    "word_counts_per_titles[12]"
   ]
  },
  {
   "cell_type": "markdown",
   "metadata": {},
   "source": [
    "##### Note: If you run into look-up error while using stopwords, `install stopwords from nltk` using the code below."
   ]
  },
  {
   "cell_type": "code",
   "execution_count": 18,
   "metadata": {},
   "outputs": [
    {
     "name": "stderr",
     "output_type": "stream",
     "text": [
      "[nltk_data] Downloading package stopwords to\n",
      "[nltk_data]     /Users/amirmokhtari/nltk_data...\n",
      "[nltk_data]   Package stopwords is already up-to-date!\n"
     ]
    },
    {
     "data": {
      "text/plain": [
       "True"
      ]
     },
     "execution_count": 18,
     "metadata": {},
     "output_type": "execute_result"
    }
   ],
   "source": [
    "nltk.download('stopwords')"
   ]
  },
  {
   "cell_type": "markdown",
   "metadata": {},
   "source": [
    "#### Result:"
   ]
  },
  {
   "cell_type": "code",
   "execution_count": null,
   "metadata": {},
   "outputs": [],
   "source": []
  },
  {
   "cell_type": "markdown",
   "metadata": {},
   "source": [
    "#### Task 3\n",
    "##### Create an empty list `titles_clean` whose length is same as `titles_tokenized`.\n",
    "##### Perform the above steps on the list `titles_tokenized` and also record the length of each title in 'word_counts_per_titles'.\n",
    "##### Check the first 10 words in 300th title."
   ]
  },
  {
   "cell_type": "markdown",
   "metadata": {},
   "source": [
    "#### Result:"
   ]
  },
  {
   "cell_type": "code",
   "execution_count": 19,
   "metadata": {},
   "outputs": [
    {
     "data": {
      "text/plain": [
       "16"
      ]
     },
     "execution_count": 19,
     "metadata": {},
     "output_type": "execute_result"
    }
   ],
   "source": [
    "word_counts_per_titles[300]"
   ]
  },
  {
   "cell_type": "markdown",
   "metadata": {},
   "source": [
    "#### Task 4\n",
    "##### Print the first 10 rows of `word_counts_per_titles` .\n",
    "##### Plot a histogram for  `word_counts_per_titles`, and set bins to number of unique values in the list."
   ]
  },
  {
   "cell_type": "code",
   "execution_count": 20,
   "metadata": {},
   "outputs": [
    {
     "data": {
      "text/plain": [
       "[26, 29, 38, 19, 19, 15, 15, 10, 7, 10]"
      ]
     },
     "execution_count": 20,
     "metadata": {},
     "output_type": "execute_result"
    }
   ],
   "source": [
    "word_counts_per_titles[:10]"
   ]
  },
  {
   "cell_type": "code",
   "execution_count": 21,
   "metadata": {},
   "outputs": [
    {
     "data": {
      "image/png": "[encoded data removed]",
      "text/plain": [
       "<Figure size 432x288 with 1 Axes>"
      ]
     },
     "metadata": {
      "needs_background": "light"
     },
     "output_type": "display_data"
    }
   ],
   "source": [
    "plt.hist(word_counts_per_titles, bins = len(set(word_counts_per_titles))) \n",
    "plt.xlabel('Number of words per title') \n",
    "plt.ylabel('Frequency');"
   ]
  },
  {
   "cell_type": "markdown",
   "metadata": {},
   "source": [
    "#### Result:"
   ]
  },
  {
   "cell_type": "code",
   "execution_count": 22,
   "metadata": {},
   "outputs": [],
   "source": [
    "titles_clean = titles_words"
   ]
  },
  {
   "cell_type": "markdown",
   "metadata": {},
   "source": [
    "#### Task 5\n",
    "##### Convert word counts list and snippets list to numpy arrays named `ex_word_counts_array` and  `titles_array` and print the length of  `titles_array`.\n",
    "##### Find indices of all snippets where there are greater than or equal to 3 words and save it to `valid_titles`. Print length of `valid_titles`.\n",
    "##### Subset the `titles_array` to keep only those where there are at least 3 words. Print length of `titles_array`.\n",
    "##### Convert it back to a list `titles_clean`.  Print first 5 rows of `titles_clean`.\n",
    "##### Combine word tokens in each titles into a single string and save the result as a list called `titles_clean_list`. Print the first 5 titles in `titles_clean_list`."
   ]
  },
  {
   "cell_type": "code",
   "execution_count": 23,
   "metadata": {},
   "outputs": [],
   "source": [
    "titles_array = np.array(titles_clean)\n",
    "ex_word_counts_array = np.array(word_counts_per_titles)\n"
   ]
  },
  {
   "cell_type": "code",
   "execution_count": 24,
   "metadata": {
    "scrolled": true
   },
   "outputs": [
    {
     "data": {
      "text/plain": [
       "1000"
      ]
     },
     "execution_count": 24,
     "metadata": {},
     "output_type": "execute_result"
    }
   ],
   "source": [
    "len(titles_array)"
   ]
  },
  {
   "cell_type": "code",
   "execution_count": 25,
   "metadata": {},
   "outputs": [
    {
     "data": {
      "text/plain": [
       "array([list(['agreement', 'concern', 'arrang', 'hold', 'fifth', 'session', 'council', 'unit', 'nation', 'relief', 'rehabilit', 'administr', 'palai', 'de', 'nation', 'geneva', 'conclud', 'unit', 'nation', 'leagu', 'nation', 'unit', 'nation', 'relief', 'rehabilit', 'administr']),\n",
       "       list(['declar', 'recogn', 'compulsori', 'jurisdict', 'court', 'conform', 'articl', '36', 'paragraph', '2', 'statut', 'intern', 'court', 'justic', 'legal', 'disput', 'concern', 'interpret', 'applic', 'valid', 'treati', 'relat', 'boundari', 'british', 'hondura', 'london', '13', 'februari', '1946']),\n",
       "       list(['declar', 'renew', 'period', 'five', 'year', 'begin', '12', 'februari', '1951', 'declar', 'recogn', 'compulsori', 'jurisdict', 'court', 'conform', 'articl', '36', 'paragraph', '2', 'statut', 'intern', 'court', 'justic', 'legal', 'disput', 'concern', 'interpret', 'applic', 'valid', 'treati', 'relat', 'boundari', 'british', 'hondura', 'london', '13', 'februari', '1946']),\n",
       "       list(['declar', 'recogn', 'compulsori', 'jurisdict', 'court', 'conform', 'articl', '36', 'paragraph', '2', 'statut', 'intern', 'court', 'justic', 'new', 'york', '10', 'decemb', '1946']),\n",
       "       list(['convent', 'unit', 'kingdom', 'franc', 'respect', 'commerci', 'relat', 'franc', 'seychel', 'island', 'sign', 'london', 'april', '16', '1902', 'denunci', 'part', 'unit', 'kingdom']),\n",
       "       list(['exchang', 'note', 'constitut', 'agreement', 'amend', 'supplementingth', 'agreement', 'amend', 'washington', '28', 'decemb', '1979', '10', 'januari', '1980']),\n",
       "       list(['exchang', 'note', 'constitut', 'agreement', 'amend', 'air', 'transport', 'agreement', 'govern', 'unit', 'state', 'america', 'govern', 'commonwealth', 'australia']),\n",
       "       list(['exchang', 'note', 'constitut', 'agreement', 'amend', 'agreement', '3', 'decemb', '1946', 'amend']),\n",
       "       list(['exchang', 'note', 'constitut', 'agreement', 'amend', 'agreement', 'amend']),\n",
       "       list(['exchang', 'note', 'constitut', 'agreement', 'amend', 'agreement', '3', 'decemb', '1946', 'amend']),\n",
       "       list(['memorandum']), list(['geodet', 'survey', 'agreement']),\n",
       "       list(['exchang', 'note', 'constitut', 'agreement', 'establish', 'naha', 'advisori', 'committe', 'high', 'commission', 'ryukyu', 'island', 'tokyo', '19', 'januari', '1968']),\n",
       "       list(['exchang', 'note', 'constitut', 'agreement', 'amend', 'agreement', '19', 'januari', '1968', 'amend', 'montevideo', '7', '17', 'april', '1970']),\n",
       "       list(['exchang', 'note', 'constitut', 'agreement', 'amend', 'agreement', 'memorandum', 'understand', 'montevideo', '13', '27', 'june', '1968']),\n",
       "       list(['agreement', 'sale', 'agricultur', 'commod']),\n",
       "       list(['exchang', 'note', 'constitut', 'agreement', 'amend', 'agreement', 'montevideo', '4', '18', 'march', '1970']),\n",
       "       list(['exchang', 'note', 'constitut', 'agreement', 'establish', 'clark', 'air', 'base', 'commerci', 'branch', 'philippin', 'bank', 'relat', 'unit', 'state', 'treasuri', 'facil', 'clark', 'field', 'air', 'base', 'sangley', 'point', 'navi', 'base', 'manila', '17', '23', 'januari', '1968']),\n",
       "       list(['agreement', 'sale', 'agricultur', 'commod']),\n",
       "       list(['exchang', 'note', 'constitut', 'agreement', 'econom', 'technic', 'dar', 'es', 'salaam', '8', 'februari', '1968']),\n",
       "       list(['exchang', 'note', 'constitut', 'agreement', 'concern', 'furnish', 'reimburs', 'basi', 'certain', 'servic', 'materi', 'peculiar', 'type', 'air', 'navig', 'aid', 'use', 'ministri', 'govern', 'justic', 'panama', 'panama', '5', 'decemb', '1967', '22', 'februari', '1968']),\n",
       "       list(['invest', 'guaranti', 'agreement']),\n",
       "       list(['agreement', 'sale', 'agricultur', 'commod']),\n",
       "       list(['parcel', 'post', 'agreement']),\n",
       "       list(['agreement', 'govern', 'iraq', 'govern', 'pakistan', 'relat', 'air', 'servic']),\n",
       "       list(['exchang', 'note', 'constitut', 'agreement', 'amend', 'annex', 'agreement', 'govern', 'iraq', 'govern', 'pakistan', 'relat', 'air', 'servic']),\n",
       "       list(['memorandum', 'understand', 'cooper', 'assist']),\n",
       "       list(['agreement', 'develop', 'water', 'resourc', 'iran']),\n",
       "       list(['agreement', 'sale', 'agricultur', 'commod']),\n",
       "       list(['exchang', 'letter', 'constitut', 'agreement', 'relat', 'deploy', 'uss', 'shenandoah', 'malta', 'valleta', '3', '16', 'april', '1968']),\n",
       "       list(['agreement', 'sale', 'agricultur', 'commod']),\n",
       "       list(['exchang', 'note', 'constitut', 'agreement', 'relat', 'mutual', 'assist', 'event', 'natur', 'disast', 'washington', '3', 'may', '1968']),\n",
       "       list(['exchang', 'note', 'constitut', 'agreement', 'amend', 'agreement']),\n",
       "       list(['agreement', 'sale', 'agricultur', 'commod']),\n",
       "       list(['exchang', 'note', 'constitut', 'agreement', 'relat', 'extens', 'custom', 'free', 'entri', 'privileg', 'consular', 'offic', 'either', 'countri', 'station', 'territori', 'countri', 'washington', '9', '10', 'may', '1968']),\n",
       "       list(['exchang', 'note', 'constitut', 'agreement', 'relat', 'reciproc', 'grant', 'authoris', 'permit', 'licens', 'amateur', 'radio', 'oper', 'either', 'countri', 'oper', 'station', 'countri', 'georgetown', '6', '13', 'may', '1968']),\n",
       "       list(['exchang', 'note', 'constitut', 'agreement', 'relat', 'peac', 'corp', 'bridgetown', '3', 'april', '1968', 'montserrat', '16', 'may', '1968']),\n",
       "       list(['agreement', 'sale', 'agricultur', 'commod']),\n",
       "       list(['exchang', 'note', 'constitut', 'agreement', 'modifi', 'agreement', 'govern', 'new', 'zealand', 'govern', 'canada', 'relat', 'air', 'transport']),\n",
       "       list(['agreement']),\n",
       "       list(['agreement', 'govern', 'new', 'zealand', 'govern', 'canada', 'relat', 'air', 'transport']),\n",
       "       list(['convent', 'avoid', 'doubl', 'taxat', 'regul', 'certain', 'matter', 'respect', 'tax', 'incom', 'fortun']),\n",
       "       list(['agreement']),\n",
       "       list(['convent', 'provid', 'reciproc', 'recognit', 'enforc', 'judgment', 'civil', 'matter']),\n",
       "       list(['exchang', 'note', 'constitut', 'agreement', 'extend', 'guernsey', 'jersey', 'isl', 'man', 'convent', 'hagu', '19', 'decemb', '1974']),\n",
       "       list(['exchang', 'note', 'constitut', 'agreement', 'relat', 'extens', 'surinam', 'netherland', 'antil', 'convent', 'london', '2', 'septemb', '1970']),\n",
       "       list(['exchang', 'note', 'constitut', 'agreement', 'extend', 'hong', 'kong', 'convent', 'hagu', '16', '25', 'novemb', '1977']),\n",
       "       list(['convent', 'govern', 'unit', 'kingdom', 'great', 'britain', 'northern', 'ireland', 'govern', 'republ', 'south', 'africa', 'avoid', 'doubl', 'taxat', 'prevent', 'fiscal', 'evas', 'respect', 'tax', 'incom', 'capit', 'gain']),\n",
       "       list(['exchang', 'note', 'constitut', 'agreement', 'amend', 'agreement', '29', 'april', '1969', 'amend']),\n",
       "       list(['exchang', 'note', 'constitut', 'agreement', 'concern', 'abolit', 'visa']),\n",
       "       list(['exchang', 'note', 'constitut', 'agreement', 'amend', 'agreement', 'belgrad', '19', 'februari', '4', 'march', '1970']),\n",
       "       list(['exchang', 'note', 'constitut', 'agreement', 'concern', 'interim', 'arrang', 'offset', 'foreign', 'exchang', 'expenditur', 'british', 'forc', 'feder', 'republ', 'germani', 'bonn', '13', '19', 'may', '1969']),\n",
       "       list(['long', 'term', 'trade', 'agreement']),\n",
       "       list(['exchang', 'note', 'concern', 'develop', 'loan', 'govern', 'unit', 'kingdom', 'great', 'britain', 'northern', 'ireland', 'govern', 'republ', 'turkey', 'unit', 'loan', '1', '1969', 'ankara', '23', 'june', '1969']),\n",
       "       list(['exchang', 'letter', 'constitut', 'agreement', 'concern', 'instal', 'telemetri', 'station', 'fortaleza', 'pari', '28', 'may', '11', 'june', '1968']),\n",
       "       list(['agreement', 'govern', 'kingdom', 'netherland', 'govern', 'republ', 'chile', 'concern', 'migrat']),\n",
       "       list(['agreement']),\n",
       "       list(['exchang', 'note', 'constitut', 'agreement', 'govern', 'greec', 'itali', 'relat', 'greek', 'cultur', 'institut', 'itali', 'italian', 'cultur', 'institut', 'greec']),\n",
       "       list(['consular', 'convent', 'protocol']),\n",
       "       list(['agreement', 'avoid', 'doubl', 'taxat', 'incom', 'deriv', 'maritim', 'air', 'transport', 'oper']),\n",
       "       list(['agreement', 'concern', 'transport', 'good', 'road']),\n",
       "       list(['convent', 'social', 'secur']),\n",
       "       list(['exchang', 'note', 'constitut', 'agreement', 'concern', 'tax', 'relief', 'motor', 'vehicl', 'engag', 'intern', 'road', 'transport', 'pari', '31', 'march', '1969']),\n",
       "       list(['exchang', 'note', 'constitut', 'agreement', 'concen', 'develop', 'loan', 'govern', 'unit', 'kingdom', 'great', 'britain', 'northern', 'ireland', 'thegovern', 'republ', 'indonesia', 'unit', '3', 'loan', '1969', 'annex', 'relat', 'note', 'djakarta', '29', 'april', '1969']),\n",
       "       list(['exchang', 'note', 'constitut', 'agreement', 'amend', 'agreement', 'djakarta', '17', 'march', '10', 'april', '1972']),\n",
       "       list(['exchang', 'note', 'amend', 'headquart', 'agreement', 'govern', 'unit', 'kingdom', 'great', 'britain', 'northern', 'ireland', 'intern', 'coffe', 'organ']),\n",
       "       list(['exchang', 'note', 'constitut', 'agreement', 'amend', 'agreement', 'london', '2', '15', 'may', '1974']),\n",
       "       list(['headquart', 'agreement', 'govern', 'unit', 'kingdom', 'great', 'britain', 'northern', 'ireland', 'intern', 'coffe', 'organ']),\n",
       "       list(['exchang', 'note', 'amend', 'headquart', 'agreement', 'govern', 'unit', 'kingdom', 'great', 'britain', 'northern', 'ireland', 'intern', 'sugar', 'organ']),\n",
       "       list(['exchang', 'note', 'constitut', 'agreement', 'amend', 'agreement', 'london', '18', '30', 'januari', '1974']),\n",
       "       list(['headquart', 'agreement', 'govern', 'unit', 'kingdom', 'great', 'britain', 'northern', 'ireland', 'intern', 'sugar', 'organ']),\n",
       "       list(['exchang', 'note', 'constitut', 'agreement', 'concern', 'provis', 'personnel', 'unit', 'kingdom', 'arm', 'forc', 'assist', 'staf', 'administr', 'train', 'arm', 'forc', 'kenya', 'nairobi', '27', 'novemb', '1964']),\n",
       "       list(['agreement']),\n",
       "       list(['commerci', 'agreement', 'kingdom', 'greec', 'econom', 'union']),\n",
       "       list(['agreement', 'concern', 'peac', 'use', 'atom', 'energi']),\n",
       "       list(['protocol', 'exchang', 'teacher', 'student', 'specialist', 'scientif', 'worker', 'higher', 'educ', 'establish', 'period', 'helsinki', '30', 'may', '1969']),\n",
       "       list(['agreement', 'econom', 'industri', 'technic']),\n",
       "       list(['exchang', 'note', 'constitut', 'agreement', 'relat', 'invest', 'guaranti', 'managua', '9', 'may', '1966']),\n",
       "       list(['consular', 'convent', 'protocol', 'exchang', 'letter']),\n",
       "       list(['exchang', 'note', 'constitut', 'agreement', 'coordin', 'effort', 'geodet', 'survey', 'along', '12th', 'parallel', 'arc', 'across', 'territori', 'upper', 'volta', 'ouagadoug', '28', 'june', '21', 'august', '1967']),\n",
       "       list(['exchang', 'note', 'constitut', 'agreement', 'concern', 'trade', 'cotton', 'textil', 'belgrad', '26', 'septemb', '1967']),\n",
       "       list(['exchang', 'note', 'constitut', 'agreement', 'amend', 'extend', 'agreement', 'amend', 'extend', 'washington', '29', 'june', '1971']),\n",
       "       list(['exchang', 'note', 'constitut', 'agreement', 'amend', 'extend', 'agreement', 'washington', '22', 'decemb', '1970']),\n",
       "       list(['exchang', 'note', 'constitut', 'agreement', 'concern', 'trade', 'cotton', 'textil', 'annex', 'relat', 'note', 'washington', '12', 'octob', '1967']),\n",
       "       list(['exchang', 'note', 'constitut', 'agreement', 'relat', 'mutual', 'defens', 'assist', 'tokyo', '13', 'octob', '1967']),\n",
       "       list(['exchang', 'note', 'constitut', 'agreement', 'concern', 'trade', 'cotton', 'textil', 'washington', '13', 'octob', '1967']),\n",
       "       list(['exchang', 'note', 'constitut', 'agreement', 'amend', 'extend', 'agreement', 'washington', '18', 'decemb', '1970']),\n",
       "       list(['payment', 'agreement', 'greek', 'govern', 'belgian', 'govern']),\n",
       "       list(['memorandum']),\n",
       "       list(['agreement', 'sale', 'agricultur', 'commod']),\n",
       "       list(['agreement', 'sale', 'agricultur', 'commod']),\n",
       "       list(['exchang', 'note', 'constitut', 'agreement', 'loan', 'addit', 'long', 'rang', 'aid', 'navig', 'equip', 'ottawa', '27', 'juli', '25', 'octob', '1967']),\n",
       "       list(['agreement', 'sale', 'agricultur', 'commod']),\n",
       "       list(['supplementari', 'agreement', 'sale', 'agricultur', 'commod']),\n",
       "       list(['exchang', 'note', 'constitut', 'agreement', 'relat', 'invest', 'guaranti', 'bathurst', '24', 'juli', '4', 'novemb', '1967']),\n",
       "       list(['agreement', 'sale', 'agricultur', 'commod']),\n",
       "       list(['agreement', 'certain', 'fisheri', 'problem', 'high', 'sea', 'western', 'area', 'middl', 'atlant', 'ocean']),\n",
       "       list(['agreement', 'extend', 'modifi', 'agreement']),\n",
       "       list(['exchang', 'note', 'constitut', 'agreement', 'reciproc', 'grant', 'authorizaton', 'permit', 'licens', 'amateur', 'radio', 'oper', 'either', 'countri', 'oper', 'station', 'countri', 'washington', '30', 'novemb', '1967']),\n",
       "       list(['agreement', 'sale', 'agricultur', 'commod']),\n",
       "       list(['agreement']),\n",
       "       list(['exchang', 'note', 'constitut', 'agreement', 'amend', 'extend', 'agreement', 'washington', '31', 'decemb', '1970']),\n",
       "       list(['exchang', 'note', 'constitut', 'agreement', 'supersed', 'agreement', '26', 'januari', '1965', 'amend', 'except', 'exchang', 'letter', 'date', '22', 'novemb', '1966', 'concern', 'trade', 'cotton', 'textil', 'washington', '11', 'decemb', '1967']),\n",
       "       list(['exchang', 'note', 'constitut', 'agreement', 'amend', 'extend', 'agreement', 'amend', 'extend', 'washington', '30', 'june', '1971']),\n",
       "       list(['extens', 'amend']),\n",
       "       list(['agreement', 'sale', 'agricultur', 'commod']),\n",
       "       list(['agreement', 'use', 'certain', 'unit', 'state', 'new', 'taiwan', 'dollar', 'accru', 'titl', 'agricultur', 'trade', 'develop', 'assist', 'act', '1954', 'amend', 'decemb', '1967']),\n",
       "       list(['exchang', 'note', 'constitut', 'agreement', 'relat', 'peac', 'corp', 'bridgetown', '19', 'decemb', '1966', 'grenada', '16', 'decemb', '1967']),\n",
       "       list(['exchang', 'note', 'constitut', 'agreement', 'amend', 'agreement', 'la', 'paz', '12', 'februari', '16', 'april', '1971']),\n",
       "       list(['agreement', 'sale', 'agricultur', 'commod']),\n",
       "       list(['supplementari', 'agreement', 'sale', 'agricultur', 'commod']),\n",
       "       list(['agreement', 'sale', 'agricultur', 'commod']),\n",
       "       list(['agreement', 'sale', 'agricultur', 'commod']),\n",
       "       list(['exchang', 'note', 'constitut', 'agreement', 'establish', 'programm', 'known', 'oceanograph', 'meteorolog', 'experi', 'bomex', 'bridgetown', '12', 'june', '9', 'juli', '1968']),\n",
       "       list(['agreement', 'exchang', 'scientif', 'technic', 'educ', 'cultur', 'field']),\n",
       "       list(['exchang', 'letter', 'constitut', 'agreement', 'relat', 'agreement', 'vienna', '19', 'april', '1985', 'moscow', '15', 'may', '1985']),\n",
       "       list(['payment', 'agreement', 'royal', 'govern', 'greec', 'militari', 'govern', 'germani', 'french', 'unit', 'state', 'unit', 'kingdom', 'cover', 'payment', 'trade', 'french', 'unit', 'state', 'unit', 'kingdom', 'occupi', 'area', 'germani', 'greec']),\n",
       "       list(['agreement']),\n",
       "       list(['supplementari', 'agreement', 'sale', 'agricultur', 'commod']),\n",
       "       list(['supplementari', 'agreement', 'sale', 'agricultur', 'commod']),\n",
       "       list(['supplementari', 'agreement', 'sale', 'agricultur', 'commod']),\n",
       "       list(['exchang', 'note', 'constitut', 'agreement', 'amend', 'agreement', 'tokyo', '25', 'septemb', '1969']),\n",
       "       list(['exchang', 'note', 'constitut', 'agreement', 'regard', 'establish', 'oper', 'satellit', 'track', 'station', 'okinawa', 'tokyo', '2', 'septemb', '1968']),\n",
       "       list(['exchang', 'note', 'constitut', 'agreement', 'extend', 'agreement', 'extend', 'washington', '29', 'decemb', '1972']),\n",
       "       list(['exchang', 'note', 'constitut', 'agreement', 'research', 'remot', 'sens', 'earth', 'survey', 'rio', 'de', 'janeiro', '18', 'januari', '10', 'septemb', '1968']),\n",
       "       list(['exchang', 'note', 'constitut', 'agreement', 'reciproc', 'grant', 'author', 'permit', 'licens', 'amateur', 'radio', 'oper', 'either', 'countri', 'oper', 'station', 'countri', 'bridgetown', '10', '12', 'septemb', '1968']),\n",
       "       list(['agreement', 'sale', 'agricultur', 'commod']),\n",
       "       list(['exchang', 'note', 'constitut', 'agreement', 'concern', 'trade', 'cotton', 'textil', 'washington', '18', 'septemb', '1968']),\n",
       "       list(['exchang', 'note', 'constitut', 'agreement', 'regard', 'establish', 'direct', 'commun', 'channel', 'appropri', 'author', 'two', 'govern', 'common', 'problem', 'maritim', 'transport', 'rio', 'de', 'janeiro', '18', '20', 'septemb', '1968']),\n",
       "       list(['exchang', 'noe', 'constitut', 'agreement', 'concern', 'duti', 'certif', 'implement', 'articl', 'vii', 'paragraph', '3', 'ii', 'agreement', 'parti', 'north', 'atlant', 'treati', 'regard', 'statu', 'forc', 'ankara', '24', 'septemb', '1968']),\n",
       "       list(['agreement', 'transfer', 'asset']),\n",
       "       list(['trade', 'agreement', 'royal', 'govern', 'greec', 'govern', 'finland']),\n",
       "       list(['third', 'addit', 'protocol', 'trade', 'agreement', 'royal', 'govern', 'greec', 'govern', 'finland']),\n",
       "       list(['fourth', 'addit', 'protocol', 'trade', 'agreement', 'royal', 'govern', 'greec', 'govern', 'finland']),\n",
       "       list(['exchang', 'note', 'constitut', 'agreement', 'relat', 'deploy', 'uss', 'everglad', 'malta', 'valetta', '11', '30', 'septemb', '1968']),\n",
       "       list(['invest', 'guaranti', 'agreement']),\n",
       "       list(['invest', 'guaranti', 'agreement']),\n",
       "       list(['exchang', 'note', 'constitut', 'agreement', 'termin', 'commerci', 'agreement', '9', 'januari', '1936', 'relat', 'agreement', 'supplement', 'otherwis', 'affect', 'washington', '28', 'octob', '1968']),\n",
       "       list(['exchang', 'note', 'constitut', 'agreement', 'concern', 'establish', 'joint', 'committe', 'state', 'cultur', 'educ', 'cooper', 'tokyo', '8', 'novemb', '1968']),\n",
       "       list(['exchang', 'note', 'constitut', 'agreement', 'amend', 'agreement', 'tokyo', '25', 'februari', '1977']),\n",
       "       list(['exchang', 'note', 'constitut', 'agreement', 'dispos', 'unit', 'state', 'excess', 'person', 'properti', 'possess', 'militari', 'author', 'govern', 'unit', 'state', 'saigon', '9', 'novemb', '1968']),\n",
       "       list(['exchang', 'note', 'constitut', 'agreement', 'concern', 'extens', 'loan', 'vessel', 'uss', 'bergal', 'turkey', 'ankara', '12', 'novemb', '1968']),\n",
       "       list(['invest', 'guaranti', 'agreement']),\n",
       "       list(['convent', 'kingdom', 'netherland', 'grand', 'duchi', 'luxembourg', 'avoid', 'doubl', 'taxat', 'prevent', 'fiscal', 'evas', 'respect', 'tax', 'incom', 'fortun']),\n",
       "       list(['protocol', 'convent', 'kingdom', 'netherland', 'grand', 'duchi', 'luxembourg', 'avoid', 'doubl', 'taxat', 'prevent', 'fiscal', 'evas', 'respect', 'tax', 'incom', 'fortun', 'sign', 'hagu', '8', 'may', '1968']),\n",
       "       list(['loan', 'agreement', 'hous', 'financ', 'sector', 'project']),\n",
       "       list(['payment', 'agreement', 'royal', 'govern', 'greec', 'govern', 'finland']),\n",
       "       list(['convent', 'social', 'secur']),\n",
       "       list(['addit', 'agreement', 'agreement', '22', 'decemb', '1966']),\n",
       "       list(['third', 'addit', 'convent', 'convent', '22', 'decemb', '1966']),\n",
       "       list(['agreement', 'implement', 'convent']),\n",
       "       list(['addit', 'convent', 'convent']),\n",
       "       list(['second', 'addit', 'convent']),\n",
       "       list(['loan', 'agreement', 'seyhan', 'irrig', 'ii', 'annex', 'gener', 'condit', 'applic', 'loan', 'guarante', 'agreement']),\n",
       "       list(['develop', 'credit', 'agreement', 'seyhan', 'irrig', 'ii', 'annex', 'gener', 'condit', 'applic', 'develop', 'credit', 'agreement']),\n",
       "       list(['loan', 'agreement', 'third', 'telecommun', 'project', 'annex', 'gener', 'condit', 'applic', 'loan', 'guarante', 'agreement']),\n",
       "       list(['develop', 'credit', 'agreement', 'third', 'telecommun', 'project', 'annex', 'gener', 'condit', 'applic', 'develop', 'credit', 'agreement']),\n",
       "       list(['treati', 'brotherhood', 'relat']),\n",
       "       list(['loan', 'agreement', 'educ', 'project', 'annex', 'loan', 'regul', '3', 'amend']),\n",
       "       list(['develop', 'credit', 'agreement', 'educ', 'project', 'annex', 'credit', 'regul', '1', 'amend']),\n",
       "       list(['guarante', 'agreement', 'second', 'sui', 'northern', 'ga', 'project', 'annex', 'gener', 'condit', 'applic', 'loan', 'guarante', 'agreement', 'loan', 'agreement', 'sui', 'northern', 'ga', 'pipelin', 'limit', 'bank']),\n",
       "       list(['agreement', 'deal', 'pollut', 'north', 'sea', 'oil']),\n",
       "       list(['extradit', 'treati', 'great', 'britain', 'sweden', 'norway']),\n",
       "       list(['declar', 'recogn', 'compulsori', 'jurisdict', 'court', 'conform', 'articl', '36', 'paragraph', '2', 'statut', 'intern', 'court', 'justic']),\n",
       "       list(['agreement', 'annex', 'protocol']),\n",
       "       list(['protocol', 'liquid', 'greec', 'turkey']),\n",
       "       list(['protocol', 'order', 'make', 'possibl', 'transfer', 'receipt', 'turkish', 'air', 'ship', 'line', 'acquir', 'prior', 'entri', 'forc', 'payment', 'agreement', '2', 'april', '1949']),\n",
       "       list(['payment', 'agreement', 'greec', 'turkey']),\n",
       "       list(['agreement', 'establish', 'food', 'fertilis', 'technolog', 'centr', 'asian', 'pacif', 'region']),\n",
       "       list(['agreement', 'cultur', 'technic', 'scientif']),\n",
       "       list(['protocol', 'agreement', 'concern', 'french', 'institut', 'orient', 'archaeolog', 'cairo']),\n",
       "       list(['loan', 'agreement', 'agricultur', 'credit', 'project', 'annex', 'gener', 'condit', 'applic', 'loan', 'guarante', 'agreement']),\n",
       "       list(['guarante', 'agreement', 'third', 'develop', 'corpor', 'project', 'annex', 'gener', 'condit', 'applic', 'loan', 'guarante', 'agreement', 'bank', 'loan', 'agreement', 'bank', 'philippin', 'nation', 'bank', 'project', 'agreement', 'bank', 'privat', 'develop', 'corpor', 'philippin']),\n",
       "       list(['convent', 'offenc', 'certain', 'act', 'commit', 'board', 'aircraft']),\n",
       "       list(['guarante', 'agreement', 'volta', 'expans', 'project', 'annex', 'gener', 'condit', 'applic', 'loan', 'guarante', 'agreement', 'bank', 'loan', 'agreement', 'bank', 'volta', 'river', 'author']),\n",
       "       list(['protocol', 'amend', 'benelux', 'uniform', 'law', 'mark']),\n",
       "       list(['protocol', 'relat', 'benelux', 'convent', 'trade', 'mark']),\n",
       "       list(['second', 'protocol', 'amend', 'regul', 'benelux', 'uniform', 'law', 'respect', 'trade', 'mark', 'annex', 'protocol', '31', 'juli', '1970', 'conclud', 'applic', 'articl', '2', '1', 'benelux', 'convent', '19', 'march', '1962', 'trade', 'mark']),\n",
       "       list(['protocol', 'amend', 'regul', 'benelux', 'uniform', 'law', 'respect', 'trade', 'mark', 'annex', 'protocol', '31', 'juli', '1970', 'conclud', 'applic', 'articl', '2', '1', 'benelux', 'convent', '19', 'march', '1962', 'trade', 'mark']),\n",
       "       list(['protocol', 'conclud', 'applic', 'articl', '2', '1', 'benelux', 'convent', 'trade', 'mark']),\n",
       "       list(['protocol', 'amend', 'benelux', 'uniform', 'law', 'mark']),\n",
       "       list(['benelux', 'convent', 'trade', 'mark']),\n",
       "       list(['protocol', 'modifi', 'benelux', 'uniform', 'law', 'trade', 'mark', 'annex', 'benelux', 'convent', 'trade', 'mark']),\n",
       "       list(['protocol', 'amend', 'benelux', 'uniform', 'law', 'mark']),\n",
       "       list(['agreement', 'feder', 'republ', 'germani', 'kingdom', 'belgium', 'avoid', 'doubl', 'taxat', 'regul', 'certain', 'matter', 'respect', 'tax', 'incom', 'fortun', 'includ', 'busi', 'tax', 'land', 'tax']),\n",
       "       list(['addit', 'agreement', 'agreement', '11', 'april', '1967', 'feder', 'republ', 'germani', 'kingdom', 'belgium', 'avoid', 'doubl', 'taxat', 'regul', 'certain', 'matter', 'respect', 'tax', 'incom', 'fortun', 'includ', 'busi', 'tax', 'land', 'tax', 'final', 'protocol']),\n",
       "       list(['agreement']), list(['gener', 'convent', 'social', 'secur']),\n",
       "       list(['treati', 'friendship', 'mutual', 'assist']),\n",
       "       list(['loan', 'agreement', 'fisheri', 'project', 'annex', 'loan', 'regul', '3', 'amend', 'project', 'agreement', 'bank', 'corporacion', 'financiera', 'nacion']),\n",
       "       list(['agreement', 'amend', 'loan', 'agreement', 'fisheri', 'project', '5', 'septemb', '1968', 'republ', 'ecuador', 'intern', 'bank', 'reconstruct', 'develop']),\n",
       "       list(['agreement', 'amend', 'loan', 'agreement', 'fisheri', 'project', '5', 'septemb', '1968', 'republ', 'ecuador', 'intern', 'bank', 'reconstruct', 'develop', 'amend']),\n",
       "       list(['letter', 'agreement', 'amend', 'loan', 'agreement', 'fisheri', 'project', '5', 'septemb', '1968', 'republ', 'ecuador', 'intern', 'bank', 'reconstruct', 'develop', 'amend']),\n",
       "       list(['letter', 'agreement', 'amend', 'loan', 'agreement', 'fisheri', 'project', '5', 'septemb', '1968', 'republ', 'ecuador', 'intern', 'bank', 'reconstruct', 'develop', 'amend']),\n",
       "       list(['letter', 'agreement', 'amend', 'loan', 'agreement', 'fisheri', 'project', 'republ', 'ecuador', 'intern', 'bank', 'reconstruct', 'develop']),\n",
       "       list(['guarante', 'agreement', 'fifth', 'industri', 'develop', 'bank', 'project', 'annex', 'gener', 'condit', 'applic', 'loan', 'guarante', 'agreement', 'bank', 'loan', 'agreementbetween', 'bank', 'turkiy', 'sinai', 'kalkinma', 'bankasi']),\n",
       "       list(['exchang', 'note', 'constitut', 'agreement', 'concern', 'develop', 'loan', 'govern', 'unit', 'kingdom', 'govern', 'jordan', 'amman', '19', '27march', '1969']),\n",
       "       list(['exchang', 'note', 'constitut', 'agreement', 'concern', 'develop', 'loan', 'govern', 'unit', 'kingdom', 'govern', 'jordan', 'amman', '8', '24', 'may', '1969']),\n",
       "       list(['exchang', 'note', 'constitut', 'agreement', 'amend', 'agreement', 'djakarta', '17', 'march', '10', 'april', '1972']),\n",
       "       list(['exchang', 'note', 'constitut', 'agreement', 'concern', 'develop', 'loan', 'govern', 'unit', 'kingdom', 'govern', 'indonesia', 'unit', '4', 'loan', '1969', 'annex', 'addit', 'note', 'djakarta', '25', 'june', '1969']),\n",
       "       list(['exchang', 'note', 'constitut', 'agreement', 'concern', 'loan', 'toward', 'cost', 'prek', 'thnot', 'cambodia', 'power', 'irrig', 'develop', 'project', 'prek', 'thnot', 'loan', '1969', 'phnom', 'penh', '9', 'juli', '1969']),\n",
       "       list(['exchang', 'note', 'constitut', 'agreement', 'concern', 'guarante', 'govern', 'unit', 'kingdom', 'mainten', 'minimum', 'sterl', 'proport', 'western', 'samoa', 'wellington', 'apia', '23', 'juli', '1969']),\n",
       "       list(['loan', 'agreement', 'highway', 'construct', 'project', 'annex', 'loan', 'regul', '3', 'amend']),\n",
       "       list(['protocol', 'liquid', 'asset']),\n",
       "       list(['cooper', 'agreement']),\n",
       "       list(['loan', 'agreement', 'agricultur', 'credit', 'project', 'annex', 'loan', 'regul', '3', 'amend']),\n",
       "       list(['develop', 'credit', 'agreement', 'agricultur', 'credit', 'project', 'annex', 'credit', 'regul', '1', 'amend']),\n",
       "       list(['guarante', 'agreement', 'douala', 'water', 'suppli', 'project', 'annex', 'gener', 'condit', 'applic', 'loan', 'guarante', 'agreement', 'bank', 'loan', 'agreementbetween', 'bank', 'national', 'de', 'eaux', 'du', 'cameroun']),\n",
       "       list(['agreement', 'relat', 'air', 'servic']),\n",
       "       list(['exchang', 'note', 'constitut', 'agreement', 'secur', 'social', 'secur', 'benefit', 'philippin', 'citizen', 'civilian', 'employe', 'agenc', 'intern', 'develop', 'mission', 'philippin', 'manila', '12', 'novembr', '1964', '10', 'march', '1965']),\n",
       "       list(['exchang', 'note', 'constitut', 'agreement', 'secur', 'social', 'secur', 'benefit', 'philippin', 'citizen', 'civilian', 'employe', 'peac', 'corp', 'joint', 'militari', 'advisori', 'group', 'jusmag', 'manila', '5', 'april', '15', 'juli', '1965']),\n",
       "       list(['exchang', 'note', 'constitut', 'agreement', 'use', 'special', 'fund', 'educ', 'school', 'build', 'construct', 'project', 'annex', 'relat', 'note', '26', 'april', '1966', 'manila', '18', 'may', '1967']),\n",
       "       list(['exchang', 'note', 'constitut', 'agreement', 'use', 'special', 'fund', 'educ', 'textbook', 'product', 'project', 'annex', 'relat', 'note', '26', 'april', '1966', 'manila', '26', 'june', '1967']),\n",
       "       list(['exchang', 'note', 'constitut', 'agreement', 'use', 'special', 'fund', 'educ', 'cultur', 'develop', 'project', 'annex', 'relat', 'note', '26', 'april', '1966', 'manila', '11', 'august', '1967']),\n",
       "       list(['exchang', 'note', 'constitut', 'agreement', 'concern', 'relinquish', 'certain', 'unit', 'state', 'base', 'land', 'philippin', 'manila', '30', 'april', '1968']),\n",
       "       list(['assign', 'agreement', 'fourth', 'caribbean', 'develop', 'bank', 'region', 'vocat', 'technic', 'educ', 'project']),\n",
       "       list(['agreement', 'royal', 'hellen', 'govern', 'govern', 'syrian', 'republ', 'relat', 'civil', 'air', 'servic', 'respect', 'territori']),\n",
       "       list(['exchang', 'note', 'constitut', 'agreement', 'use', 'special', 'fund', 'educ', 'fund', 'assist', 'privat', 'educ', 'annex', 'relat', 'note', '26', 'april', '1966', 'manila', '11june', '1968']),\n",
       "       list(['agreement', 'concern', 'civil', 'use', 'atom', 'energi']),\n",
       "       list(['exchang', 'note', 'constitut', 'agreement', 'unit', 'state', 'assist', 'undertak', 'artifici', 'rain', 'stimul', 'project', 'manila', '23', '24', 'april', '1969']),\n",
       "       list(['agreement', 'sale', 'agricultur', 'commod']),\n",
       "       list(['exchang', 'note', 'constitut', 'agreement', 'transfer', 'titl', 'uss', 'charl', 'ausburn', 'feder', 'republ', 'germani', 'bonn', 'bad', 'godesberg', '27', 'februari', '1968']),\n",
       "       list(['supplementari', 'agreement', 'sale', 'agricultur', 'commod']),\n",
       "       list(['supplementari', 'agreement', 'sale', 'agricultur', 'commod']),\n",
       "       list(['supplementari', 'agreement', 'sale', 'agricultur', 'commod']),\n",
       "       list(['exchang', 'note', 'constitut', 'agreement', 'extablish', 'program', 'oper', 'mainten', 'network', 'rawinsond', 'observ', 'station', 'brazil', 'rio', 'de', 'janeiro', '12', 'march', '1968']),\n",
       "       list(['supplementari', 'agreement', 'sale', 'agricultur', 'commod']),\n",
       "       list(['agreement', 'itali', 'greec', 'econom', 'collabor', 'settlement', 'question', 'aris', 'treati', 'peac', 'alli', 'associ', 'power', 'itali']),\n",
       "       list(['develop', 'credit', 'agreement', 'fourth', 'caribbean', 'develop', 'bank', 'region', 'vocat', 'technic', 'educ', 'project']),\n",
       "       list(['exchang', 'letter', 'constitut', 'supplementari', 'agreement', 'protocol', 'athen', '21', 'march', '1954']),\n",
       "       list(['protocol', 'revok', 'part', 'ii', 'iii', 'agreement', 'itali', 'greec', 'econom', 'collabor', 'settlement', 'question', 'aris', 'treati', 'peac', 'alli', 'associ', 'power', 'itali', 'french', 'titl']),\n",
       "       list(['supplementari', 'agreement', 'sale', 'agricultur', 'commod']),\n",
       "       list(['supplementari', 'agreement', 'sale', 'agricultur', 'commod']),\n",
       "       list(['exchang', 'note', 'constitut', 'agreement', 'amend', 'agreement', 'seoul', '6', 'may', '1971']),\n",
       "       list(['supplementari', 'agreement', 'sale', 'agricultur', 'commod']),\n",
       "       list(['exchang', 'note', 'constitut', 'agreement', 'relat', 'peac', 'corp', 'managua', '23', '25', 'may', '1968']),\n",
       "       list(['exchang', 'note', 'constitut', 'agreement', 'concern', 'seismic', 'array', 'research', 'plan', 'util', 'seismic', 'array', 'facil', 'instal', 'oper', 'norway', 'oslo', '15', 'june', '1968']),\n",
       "       list(['exchang', 'note', 'constitut', 'agreement', 'relat', 'loan', 'vessel', 'yarnal', 'republ', 'china', 'taipei', '18', 'june', '1968']),\n",
       "       list(['exchang', 'note', 'constitut', 'agreement', 'regard', 'gift', 'facil', 'produc', 'potabl', 'water', 'madrid', '25', 'june', '1968']),\n",
       "       list(['exchang', 'note', 'constitut', 'agreement', 'amend', 'agreement', 'sign', 'kabul', '1', 'februari', '15', 'march', '1969']),\n",
       "       list(['supplementari', 'agreement', 'sale', 'agricultur', 'commod']),\n",
       "       list(['exchang', 'note', 'constitut', 'agreement', 'concern', 'establish', 'principl', 'scientif', 'tuni', '17', 'juli', '1968']),\n",
       "       list(['loan', 'agreement', 'kyonggi', 'region', 'transport', 'project']),\n",
       "       list(['agreement', 'sale', 'agricultur', 'commod']),\n",
       "       list(['exchang', 'note', 'constitut', 'agreement', 'reciproc', 'grant', 'author', 'permit', 'licens', 'amateur', 'radio', 'oper', 'either', 'countri', 'oper', 'station', '10', 'decemb', '1968']),\n",
       "       list(['agreement', 'sale', 'agricultur', 'commod']),\n",
       "       list(['agreement', 'sale', 'agricultur', 'commod']),\n",
       "       list(['exchang', 'note', 'constitut', 'agreement', 'amend', 'la', 'paz', '24', 'march', '1971', '20', 'april', '1972']),\n",
       "       list(['agreement', 'sale', 'agricultur', 'commod']),\n",
       "       list(['exchang', 'note', 'constitut', 'agreement', 'concern', 'assist', 'geolog', 'studi', 'regard', 'sea', 'level', 'canal', 'site', 'along', 'rout', '10', 'bella', 'panama', '20', 'march', '1969']),\n",
       "       list(['exchang', 'note', 'constitut', 'agreement', 'acquisit', 'product', 'japan', 'aircraft', 'relat', 'equip', 'materi', 'necessari', 'enhanc', 'defens', 'capabl', 'japan', 'tokyo', '4', 'april', '1969']),\n",
       "       list(['exchang', 'note', 'constitut', 'agreement', 'concern', 'trade', 'cotton', 'textil', 'athen', '8', 'april', '1969']),\n",
       "       list(['agreement', 'sale', 'agricultur', 'commod']),\n",
       "       list(['exchang', 'note', 'constitut', 'agreement', 'continu', 'cooper', 'program', 'oper', 'rawinsond', 'observ', 'station', 'santo', 'domingo', 'santo', 'domingo', '7', '11', 'april', '1969']),\n",
       "       list(['convent', '60', 'concern', 'age', 'admiss', 'children', 'employ', 'revis', '1937', 'modifi', 'final', 'articl', 'revis', 'convent', '1946']),\n",
       "       list(['cooper', 'agreement']),\n",
       "       list(['supplementari', 'agreement', 'sale', 'agricultur', 'commod']),\n",
       "       list(['agreement', 'establish', 'schedul', 'air', 'servic', 'beyond', 'respect', 'territori']),\n",
       "       list(['agreement', 'regard', 'far', 'east', 'pacif', 'offic', 'said', 'organ']),\n",
       "       list(['convent', 'concern', 'public', 'assist', 'juvenil', 'welfar', 'final', 'protocol', 'appendic', 'sigend', 'bonn', '17', 'januari', '1966']),\n",
       "       list(['agreement', 'implement', 'convent']),\n",
       "       list(['agreement', 'air', 'servic', 'beyond', 'respect', 'territori']),\n",
       "       list(['agreement', 'concern', 'air', 'servic']),\n",
       "       list(['agreement', 'relat', 'air', 'servic']),\n",
       "       list(['exchang', 'note', 'constitut', 'agreement', 'modifi', 'agreement', 'singapor', '20', 'octob', '1975', '22', 'march', '1976']),\n",
       "       list(['agreement', 'relat', 'air', 'servic']),\n",
       "       list(['agreement', 'relat', 'air', 'servic', 'republ', 'south', 'africa', 'belgium']),\n",
       "       list(['loan', 'agreement', 'educ', 'project', 'annex', 'gener', 'condit', 'applic', 'loan', 'guarante', 'agreement']),\n",
       "       list(['convent', '77', 'concern', 'medic', 'examin', 'fit', 'employ', 'industri', 'children', 'young', 'person']),\n",
       "       list(['agreement', 'technic', 'cooper']),\n",
       "       list(['agreement', 'provis', 'oper', 'execut', 'personnel']),\n",
       "       list(['treati', 'friendship']), list(['cultur', 'agreement']),\n",
       "       list(['agreement', 'fisheri']),\n",
       "       list(['agreement', 'govern', 'commonwealth', 'australia', 'govern', 'republ', 'singapor', 'avoid', 'doubl', 'taxat', 'prevent', 'fiscal', 'evas', 'respect', 'tax', 'incom']),\n",
       "       list(['protocol', 'amend', 'agreement', '11', 'februari', '1969', 'exchang', 'note', 'date', '20', 'octob', '1989']),\n",
       "       list(['exchang', 'note', 'constitut', 'agreement', 'extend', 'agreement', 'canberra', '21', 'may', '1975']),\n",
       "       list(['exchang', 'note', 'constitut', 'agreement', 'amend', 'agreement', '11', 'februari', '1969', 'amend', 'extend']),\n",
       "       list(['exchang', 'note', 'constitut', 'agreement', 'visa', 'visa', 'fee', 'london', '29', 'april', '1969']),\n",
       "       list(['exchang', 'note', 'constitut', 'agreement', 'relat', 'issu', 'grati', 'visa', 'visitor', 'canberra', '16', 'juli', '1969']),\n",
       "       list(['agreement', 'regard', 'loan', 'kingdom', 'denmark', 'ivori', 'coast', 'annex', 'exchang', 'note']),\n",
       "       list(['cultur', 'agreement']),\n",
       "       list(['guarante', 'agreement', 'third', 'technolog', 'develop', 'project']),\n",
       "       list(['convent', '78', 'concern', 'medic', 'examin', 'children', 'young', 'person', 'fit', 'employ', 'occup']),\n",
       "       list(['agreement', 'schedul', 'air', 'transport']),\n",
       "       list(['cultur', 'agreement']),\n",
       "       list(['agreement', 'field', 'peac', 'use', 'nuclear', 'energi']),\n",
       "       list(['agreement', 'invest', 'industri', 'complementar']),\n",
       "       list(['agreement', 'field', 'peac', 'use', 'nuclear', 'energi']),\n",
       "       list(['agreement', 'concern', 'bridg']),\n",
       "       list(['cultur', 'agreement', 'argentin', 'republ', 'republ', 'korea']),\n",
       "       list(['exchang', 'note', 'constitut', 'agreement', 'concern', 'establish', 'jean', 'mermoz', 'cultur', 'foundat', 'bueno', 'air', '21', 'march', '1969']),\n",
       "       list(['basic', 'agreement', 'scientif', 'research', 'technolog', 'develop']),\n",
       "       list(['exchang', 'letter', 'constitut', 'agreement', 'implement', 'agreement', 'bueno', 'air', '1', 'decemb', '1972']),\n",
       "       list(['trade', 'agreement', 'argentin', 'republ', 'republ', 'romania']),\n",
       "       list(['convent', '79', 'concern', 'restrict', 'night', 'work', 'children', 'young', 'person', 'occup']),\n",
       "       list(['convent', 'foreign', 'exchang', 'control']),\n",
       "       list(['interpret', 'convent', 'note', 'secretariat']),\n",
       "       list(['exchang', 'note', 'constitut', 'agreement', 'concern', 'studi', 'expert', 'facilit', 'plan', 'develop', 'electr', 'servic', 'argentin', 'littor', 'bueno', 'air', '19', 'may', '1969']),\n",
       "       list(['exchang', 'note', 'constitut', 'agreement', 'polici', 'view', 'market', 'meat', 'bueno', 'air', '19', '27', 'june', '1969']),\n",
       "       list(['exchang', 'note', 'constitut', 'agreement', 'extend', 'credit', 'uruguayan', 'govern', 'suppli', 'argentin', 'beef', 'bueno', 'air', '18', 'septemb', '1969']),\n",
       "       list(['agreement', 'regul', 'channel', 'dredg', 'buoyag', 'mainten', 'river', 'paraguay']),\n",
       "       list(['agreement', 'concern', 'film', 'film', 'product']),\n",
       "       list(['agreement', 'concern', 'financi', 'assist', 'gener', 'survey', 'ibera', 'system', 'river', 'plate', 'basin', 'bueno', 'air', '23', 'octob', '1969']),\n",
       "       list(['exchang', 'letter', 'constitut', 'agreement', 'concern', 'implement', 'netherland', 'volunt', 'programm', 'india', 'new', 'delhi', '27', 'juli', '1965']),\n",
       "       list(['convent', 'avoid', 'doubl', 'taxat', 'prevent', 'fiscal', 'evas', 'respect', 'tax', 'incom', 'capit']),\n",
       "       list(['loan', 'agreement', 'dez', 'irrig', '1', 'annex', 'loan', 'regul', '3', 'amend']),\n",
       "       list(['exchang', 'note', 'amend', 'air', 'transport', 'agreement', 'govern', 'republ', 'philippin', 'govern', 'republ', 'korea']),\n",
       "       list(['air', 'transport', 'agreement']),\n",
       "       list(['convent', 'intern', 'civil', 'aviat']),\n",
       "       list(['cooper', 'agreement']),\n",
       "       list(['protocol', 'relat', 'trade', 'period', '1', 'novemb', '1951', '31', 'octob', '1952']),\n",
       "       list(['agreement', 'regard', 'danish', 'govern', 'loan', 'annex', 'exchang', 'letter']),\n",
       "       list(['agreement', 'regard', 'danish', 'govern', 'loan', 'annex', 'exchang', 'letter', 'memorandum']),\n",
       "       list(['standard', 'agreement', 'oper', 'assist', 'sign', 'new', 'york', '15', 'januari', '1970']),\n",
       "       list(['agreement', 'view', 'use', 'mainten', 'administr', 'dispos', 'properti', 'facil']),\n",
       "       list(['consular', 'convent']),\n",
       "       list(['agreement', 'concern', 'intern', 'road', 'transport']),\n",
       "       list(['trade', 'econom', 'agreement', 'annex', 'schedul', 'protocol']),\n",
       "       list(['agreement', 'concern', 'intern', 'road', 'transport']),\n",
       "       list(['trade', 'agreement', 'annex', 'schedul']),\n",
       "       list(['agreement', 'concern', 'cultur', 'scientif']),\n",
       "       list(['convent', 'prevent', 'punish', 'crime', 'genocid']),\n",
       "       list(['technic', 'assist', 'financ', 'agreement', 'food', 'grain', 'research', 'develop', 'program', 'farm', 'system', 'research']),\n",
       "       list(['trade', 'arrang']),\n",
       "       list(['agreement', 'concern', 'cultur']),\n",
       "       list(['convent', 'concern', 'matter', 'plant', 'protect', 'quarantin']),\n",
       "       list(['loan', 'agreement', 'educ', 'project', 'annex', 'loan', 'regul', 'amend']),\n",
       "       list(['develop', 'credit', 'agreement', 'telecommun', 'project', 'annex', 'credit', 'regul', 'amend', 'project', 'agreement', 'associ', 'offic', 'de', 'post', 'et', 'de']),\n",
       "       list(['develop', 'credit', 'agreement', 'hinvi', 'agricultur', 'develop', 'project', 'annex', 'credit', 'regul', '1', 'amend', 'project', 'agreement', 'associ', 'national', 'pour', 'le', 'rural', 'du', 'dahomey']),\n",
       "       list(['memorandum', 'understand', 'concern', 'hinvi', 'agricultur', 'develop', 'project']),\n",
       "       list(['develop', 'credit', 'agreement', 'coffe', 'improv', 'project', 'annex', 'credit', 'regul', 'amend']),\n",
       "       list(['guarante', 'agreement', 'finchaa', 'hydroelectr', 'project', 'annex', 'gener', 'condit', 'applic', 'loan', 'guarante', 'agreement', 'loan', 'agreement', 'bank', 'ethiopian', 'electr', 'light', 'power', 'author']),\n",
       "       list(['loan', 'agreement', 'rural', 'credit', 'project']),\n",
       "       list(['letter', 'amend', 'loan', 'agreement', 'rural', 'credit', 'project', 'kingdom', 'tonga', 'intern', 'fund', 'agricultur', 'develop']),\n",
       "       list(['trade', 'agreement', 'royal', 'govern', 'denmark', 'royal', 'govern', 'greec']),\n",
       "       list(['guarante', 'agreement', 'power', 'transmiss', 'distribut', 'project', 'annex', 'loan', 'regul', '4', 'amend', 'loan', 'agreement', 'bank', 'trinidad', 'tobago', 'electr', 'commiss']),\n",
       "       list(['loan', 'agreement', 'third', 'highway', 'project', 'annex', 'gener', 'condit', 'applic', 'loan', 'guarante', 'agreement']),\n",
       "       list(['guarante', 'agreement', 'pump', 'storag', 'power', 'project', 'annex', 'loan', 'regul', '4', 'amend', 'loan', 'agreement', 'bank', 'electr', 'suppli', 'board']),\n",
       "       list(['develop', 'credit', 'agreement', 'highway', 'project', 'annex', 'gener', 'condit', 'applic', 'develop', 'credit', 'agreement']),\n",
       "       list(['develop', 'credit', 'agreement', 'second', 'educ', 'project', 'annex', 'credit', 'regul', 'amend']),\n",
       "       list(['loan', 'agreement', 'third', 'livestock', 'project', 'annex', 'gener', 'condit', 'applic', 'loan', 'guarante', 'agreement']),\n",
       "       list(['develop', 'credit', 'agreement', 'third', 'livestock', 'project', 'annex', 'gener', 'condit', 'applic', 'develop', 'credit', 'agreement']),\n",
       "       list(['develop', 'credit', 'agreement', 'third', 'agricultur', 'develop', 'bank', 'project', 'annex', 'gener', 'condit', 'applic', 'develop', 'credit', 'agreement', 'project', 'agreement', 'theassoci', 'agricultur', 'develop', 'bank', 'pakistan']),\n",
       "       list(['cultur', 'agreement', 'franc', 'brazil']),\n",
       "       list(['exchang', 'letter', 'constitut', 'agreement', 'concern', 'privileg', 'accord', 'brazil', 'french', 'personnel', 'engag', 'programm', 'rio', 'de', 'janeiro', '16', '22', 'januari', '1963']),\n",
       "       list(['basic', 'cooper', 'agreement']),\n",
       "       list(['addit', 'protocol', 'payment', 'agreement', 'royal', 'govern', 'denmark', 'royal', 'govern', 'greec']),\n",
       "       list(['payment', 'agreement', 'royal', 'govern', 'denmark', 'royal', 'govern', 'greec']),\n",
       "       list(['agreement', 'technic', 'scientif', 'govern', 'french', 'republ', 'govern', 'unit', 'state', 'brazil']),\n",
       "       list(['amend', 'amend', 'agreement', 'sign', 'brasilia', '10', 'march', '1982']),\n",
       "       list(['exchang', 'letter', 'constitut', 'agreement', 'concern', 'instal', 'telemetri', 'station', 'forlateza', 'rio', 'de', 'janeiro', '20', 'june', '1968']),\n",
       "       list(['agreement', 'establish', 'caribbean', 'develop', 'bank']),\n",
       "       list(['exchang', 'letter', 'constitut', 'agreement', 'supplement', 'modifi', 'annex', 'b', 'convent', 'pari', '6', 'may', '1969', '13', 'februari', '1970']),\n",
       "       list(['convent', 'protect', 'appel', 'origin', 'indic', 'sourc', 'design', 'certain', 'product', 'protocol', 'annex']),\n",
       "       list(['exchang', 'note', 'constitut', 'gener', 'fisheri', 'agreement', 'pari', '20', 'march', '1967']),\n",
       "       list(['develop', 'credit', 'agreement', 'second', 'end', 'power', 'project', 'annex', 'credit', 'regul', 'amend', 'project', 'agreement', 'associ', 'empresa', 'nacion', 'de', 'electricidad']),\n",
       "       list(['agreement', 'peac', 'use', 'atom', 'energi', 'sign', 'santiago', '18', 'novemb', '1968']),\n",
       "       list(['exchang', 'note', 'constitut', 'agreement', 'concern', 'financi', 'assist', 'unit', 'kingdom', 'nepal', 'toward', 'construct', 'secondari', 'school', 'boy', 'unit', '1969', '2', 'financi', 'agreement', 'kathmandu', '8', 'august', '1969']),\n",
       "       list(['exchang', 'note', 'constitut', 'agreement', 'amend', 'agreement', 'katmandu', '25', 'april', '1972', '2', 'januari', '1973']),\n",
       "       list(['exchang', 'note', 'constitut', 'agreement', 'concern', 'particip', 'unit', 'kingdom', 'foreign', 'exchang', 'oper', 'fund', 'lao', 'vientian', '9', 'august', '1969']),\n",
       "       list(['exchang', 'note', 'constitut', 'agreement', 'relat', 'cereal', 'london', '12', 'august', '1969']),\n",
       "       list(['trade', 'agreement', 'denmark', 'itali']),\n",
       "       list(['guarante', 'agreement', 'taegu', 'urban', 'transport', 'project']),\n",
       "       list(['exchang', 'letter', 'constitut', 'agreement', 'prolong', 'modif', 'agreement', 'gaboron', '14', 'septemb', '1971']),\n",
       "       list(['exchang', 'letter', 'constitut', 'agreement', 'concern', 'guarante', 'unit', 'kingdom', 'mainten', 'reserv', 'sterl', 'govern', 'botswana', 'gaboron', '1', 'septemb', '1969']),\n",
       "       list(['agreement', 'offset', 'foreign', 'exchang', 'expenditur', 'british', 'forc', 'feder', 'republ', 'germani']),\n",
       "       list(['protocol', 'concern', 'return', '6', 'brigad', 'feder', 'republ', 'germani', 'supplement', 'agreement', 'bonn', '25', 'septemb', '1970']),\n",
       "       list(['exchang', 'note', 'constitut', 'agreement', 'concern', 'develop', 'loan', 'govern', 'unit', 'kingdom', 'great', 'britain', 'northern', 'ireland', 'govern', 'republ', 'turkey', 'unit', 'loan', '2', '1969', 'ankara', '15', 'septemb', '1969']),\n",
       "       list(['exchang', 'note', 'constitut', 'agreement', 'concern', 'reciproc', 'payment', 'social', 'secur', 'pension', 'london', '23', '25', 'septemb', '1969']),\n",
       "       list(['tax', 'agreement', 'protocol', 'exchang', 'letter']),\n",
       "       list(['exchang', 'letter', 'constitut', 'agreement', 'unit', 'nation', 'mauritiu', 'applic', 'unit', 'nation', 'govern', 'mauritiu', 'agreement', '8', 'juli', '1960', 'unit', 'nation', 'govern', 'unit', 'kingdom', 'great', 'britain', 'northern', 'ireland', 'provis', 'technic', 'assist', 'trust', 'territori', 'whose', 'intern', 'relat', 'govern', 'unit', 'kingdom', 'respons']),\n",
       "       list(['exchang', 'letter', 'constitut', 'agreement', 'applic', 'unit', 'nation', 'develop', 'programm', 'special', 'fund', 'govern', 'mauritiu', 'agreement', '7', 'januari', '1960', 'govern', 'unit', 'kingdom', 'great', 'britain', 'northern', 'ireland', 'unit', 'nation', 'special', 'fund', 'concern', 'assist', 'special', 'fund', 'new', 'york', '28', 'may', '1968', '29', 'august', '1969']),\n",
       "       list(['exchang', 'note', 'constitut', 'agreement', 'rel', 'extend', 'free', 'entri', 'privileg', 'philippin', 'depend', 'unit', 'state', 'personnel', 'assign', 'south', 'manila', '14', '28', 'may1965']),\n",
       "       list(['agreement', 'sale', 'agricultur', 'commod']),\n",
       "       list(['exchang', 'note', 'constitut', 'agreement', 'amend', 'agreement', 'santo', 'domingo', '9', '10', 'may', '1968']),\n",
       "       list(['payment', 'agreement', 'denmark', 'itali']),\n",
       "       list(['agreement']),\n",
       "       list(['agreement', 'sale', 'agricultur', 'commod']),\n",
       "       list(['agreement', 'sale', 'agricultur', 'commod']),\n",
       "       list(['amend', '1', 'agreement']),\n",
       "       list(['exchang', 'letter', 'constitut', 'agreement', 'modifi', 'agreement', 'amend', 'santo', 'domingo', '23', 'june', '1969', '24', 'june', '1970']),\n",
       "       list(['exchang', 'note', 'constitut', 'agreement', 'expans', 'econom', 'relat', 'tow', 'countri', 'washington', '15', 'juli', '1968']),\n",
       "       list(['agreement', 'entri', 'defray', 'inland', 'transport', 'charg', 'voluntari', 'agenc', 'suppli', 'equip', 'new', 'delhi', '5', 'decemb', '1968']),\n",
       "       list(['agreement', 'sale', 'agricultur', 'commod']),\n",
       "       list(['agreement', 'sale', 'agricultur', 'commod']),\n",
       "       list(['exchang', 'note', 'constitut', 'agreement', 'transfer', 'vessel', 'uss', 'geronimo', 'navi', 'republ', 'china', 'taipei', '12', '16', 'decemb', '1968']),\n",
       "       list(['exchang', 'note', 'constitut', 'agreement', 'continu', 'cooper', 'program', 'oper', 'rawinsond', 'observ', 'station', 'bogota', 'similar', 'station', 'san', 'island', 'bogota', '19', 'decemb', '1968']),\n",
       "       list(['exchang', 'note', 'constitut', 'agreement', 'amend', 'extend', 'agreement', 'washington', '15', 'june', '1972']),\n",
       "       list(['exchang', 'note', 'constitut', 'agreement', 'cooper', 'research', 'remot', 'sens', 'earth', 'survey', 'mexico', 'tlatelolco', '20', 'decemb', '1968']),\n",
       "       list(['exchang', 'note', 'constitut', 'agreement', 'amend', 'agreement', 'new', 'delhi', '29', 'may', '1969']),\n",
       "       list(['fourth', 'supplementari', 'agreement', 'sale', 'agricultur', 'commod']),\n",
       "       list(['exchang', 'note', 'constitut', 'agreement', 'belgium', 'franc', 'concern', 'entri', 'franc', 'algeria', 'belgian', 'nation', 'resid', 'switzerland']),\n",
       "       list(['agreement', 'technic', 'implement', 'research', 'project', 'industri', 'complementar']),\n",
       "       list(['exchang', 'letter', 'constitut', 'arrang', 'concern', 'trade', 'cotton', 'textil', 'schedul', 'singapor', '17', '23', 'decemb', '1968']),\n",
       "       list(['agreement', 'sale', 'agricultur', 'commod']),\n",
       "       list(['fifth', 'supplementari', 'agreement', 'sale', 'agricultur', 'commod']),\n",
       "       list(['agreement', 'sale', 'agricultur', 'commod']),\n",
       "       list(['exchang', 'note', 'constitut', 'agreement', 'scientif', 'scholarli', 'cooper', 'taipei', '23', 'januari', '1969']),\n",
       "       list(['exchang', 'note', 'constitut', 'agreement', 'regard', 'applic', 'safeguard', 'unit', 'state', 'natur', 'uranium', 'transfer', 'canada', 'washington', '28', '30', 'januari', '1969']),\n",
       "       list(['exchang', 'note', 'constitut', 'agreement', 'amend', 'agreement', 'conakri', '23', '28', 'octob', '1969']),\n",
       "       list(['agreement', 'sale', 'agricultur', 'commod']),\n",
       "       list(['agreement', 'sale', 'agricultur', 'commod']),\n",
       "       list(['exchang', 'note', 'constitut', 'agreement', 'amend', 'agreement', 'ankara', '22', '24', 'juli', '1969']),\n",
       "       list(['agreement', 'sale', 'agricultur', 'commod']),\n",
       "       list(['exchang', 'note', 'constitut', 'agreement', 'modifi', 'agreement', 'rabat', '13', 'septemb', '1969']),\n",
       "       list(['exchang', 'note', 'constitut', 'agreement', 'amend', 'extend', 'agreement', 'amend', 'extend', 'pragu', '28', 'may', '1974']),\n",
       "       list(['exchang', 'note', 'constitut', 'agreement', 'amend', 'extend', 'agreement', 'amend', 'extend']),\n",
       "       list(['exchang', 'note', 'constitut', 'agreement', 'amend', 'extend', 'agreement', 'amend', 'extend', 'pragu', '12', 'may', '7', 'novemb', '1980']),\n",
       "       list(['agreement', 'unit', 'state', 'america', 'czechoslovak', 'socialist', 'republ', 'extend', 'air', 'transport', 'agreement', 'februari', '28', '1969', 'amend', 'extend']),\n",
       "       list(['exchang', 'note', 'constitut', 'agreement', 'amend', 'extend', 'agreement', 'amend', 'extend']),\n",
       "       list(['agreement', 'unit', 'state', 'america', 'czechoslovak', 'socialist', 'republ', 'extend', 'air', 'transport', 'agreement', 'februari', '28', '1969', 'amend', 'extend']),\n",
       "       list(['agreement', 'unit', 'state', 'america', 'czechoslovak', 'socialist', 'republ', 'extend', 'air', 'transport', 'agreement', '28', 'februari', '1969', 'amend', 'extend']),\n",
       "       list(['agreement', 'unit', 'state', 'america', 'czechoslovak', 'socialist', 'republ', 'amend', 'extend', 'agreement', 'februari', '28', '1969', 'amend', 'extend', 'concern', 'air', 'transport', 'servic']),\n",
       "       list(['exchang', 'note', 'constitut', 'agreement', 'extend', 'agreement', 'amend', 'extend', 'pragu', '17', 'june', '29', 'juli', '1975']),\n",
       "       list(['exchang', 'letter', 'constitut', 'agreement', 'extend', 'agreement', 'pragu', '25', '28', 'april', '1972']),\n",
       "       list(['exchang', 'note', 'constitut', 'agreement', 'amend', 'extend', 'agreement', 'amend', 'extend', 'pragu', '12', 'august', '1977']),\n",
       "       list(['protocol', 'modifi', 'extend', 'agreement', 'extend']),\n",
       "       list(['air', 'transport', 'agreement', 'govern', 'unit', 'state', 'america', 'govern', 'czechoslovak', 'socialist', 'republ']),\n",
       "       list(['execut', 'agenc', 'agreement', 'annex', 'model', 'standard', 'basic', 'assist', 'agreement']),\n",
       "       list(['exchang', 'note', 'constitut', 'agreement', 'construct', 'temporari', 'cofferdam', 'niagara', 'washington', '21', 'march', '1969']),\n",
       "       list(['exchang', 'note', 'constitut', 'agreement', 'temporari', 'divers', 'power', 'purpos', 'water', 'normal', 'flow', 'american', 'fall', 'niagara', 'washington', '21', 'march', '1969']),\n",
       "       list(['exchang', 'note', 'constitut', 'agreement', 'regard', 'abolit', 'reciproc', 'basi', 'certain', 'visa', 'fee', 'bucharest', '25', 'april', '1969']),\n",
       "       list(['agreement', 'sale', 'agricultur', 'commod', 'annex', 'exchang', 'note']),\n",
       "       list(['agreement', 'sale', 'agricultur', 'commod']),\n",
       "       list(['exchang', 'note', 'constitut', 'agreement', 'extend', 'certain', 'deadlin', 'specifi', 'agreement', 'moscow', '12', '24', 'februari', '1971']),\n",
       "       list(['exchang', 'note', 'constitut', 'agreement', 'extend', 'certain', 'deadlin', 'specifi', 'agreement', 'moscow', '17', '19', 'septemb', '1969']),\n",
       "       list(['exchang', 'note', 'constitut', 'agreement', 'extend', 'certain', 'deadlin', 'specifi', 'agreement', 'moscou', '19', '26', 'novemb', '1969']),\n",
       "       list(['exchang', 'note', 'constitut', 'agreement', 'extend', 'certain', 'deadlin', 'specifi', 'agreement', 'amend', 'moscow', '13', '23', 'april', '1970']),\n",
       "       list(['agreement', 'reciproc', 'alloc', 'use', 'free', 'charg', 'plot', 'land', 'moscow', 'washington', 'annex', 'map', 'exchang', 'note']),\n",
       "       list(['agreement', 'sale', 'agricultur', 'commod']),\n",
       "       list(['exchang', 'note', 'constitut', 'agreement', 'reciproc', 'grant', 'author', 'permit', 'licens', 'amatu', 'radio', 'oper', 'either', 'countri', 'oper', 'station', 'countri', 'stockholm', '27', 'may', '2', 'june', '1969']),\n",
       "       list(['agreement', 'cultur', 'scientif']),\n",
       "       list(['agreement', 'econom', 'technic', 'period']),\n",
       "       list(['monetari', 'agreement', 'govern', 'denmark', 'govern', 'unit', 'kingdom', 'great', 'britain', 'northern', 'ireland']),\n",
       "       list(['agreement']),\n",
       "       list(['exchang', 'note', 'constitut', 'agreement', 'prolong', 'monetari', 'agreement', 'govern', 'denmark', 'govern', 'unit', 'kingdom', 'great', 'britain', 'northern', 'ireland']),\n",
       "       list(['trade', 'agreement']),\n",
       "       list(['agreement', 'cultur', 'scientif']),\n",
       "       list(['agreement', 'cultur', 'scientif', 'exchang', 'govern', 'unit', 'mexican', 'state', 'govern', 'union', 'soviet', 'socialist', 'republ']),\n",
       "       list(['agreement', 'cultur', 'scientif']),\n",
       "       list(['develop', 'credit', 'agreement', 'detail', 'engin', 'account', 'assist', 'project', 'annex', 'develop', 'credit', 'regul', '1', 'amend']),\n",
       "       list(['develop', 'credit', 'agreement', 'highway', 'engin', 'project', 'annex', 'gener', 'condit', 'applic', 'develop', 'credit', 'agreement']),\n",
       "       list(['guarante', 'agreement', 'railway', 'project', 'annex', 'gener', 'condit', 'applic', 'loan', 'guarante', 'agreement', 'loan', 'agreement', 'bank', 'national', 'de', 'chemin', 'de', 'fer', 'tunisien']),\n",
       "       list(['develop', 'credit', 'agreement', 'railway', 'project', 'annex', 'gener', 'condit', 'applic', 'develop', 'credit', 'agreement']),\n",
       "       list(['loan', 'agreement', 'educ', 'project', 'annex', 'loan', 'regul', '3', 'amend']),\n",
       "       list(['guarante', 'agreement', 'livestock', 'agricultur', 'develop', 'project', 'annex', 'gener', 'condit', 'applic', 'loan', 'guarante', 'agreement', 'loan', 'agreement', 'bank', 'nacion', 'financiera', 'project', 'agreement', 'bank', 'banco', 'de', 'mexico']),\n",
       "       list(['exchang', 'note', 'constitut', 'agreement', 'netherland', 'unit', 'state', 'america', 'relat', 'oblig', 'aris', 'util', 'credit', 'balanc', 'allot', 'netherland', 'within', 'term', 'articl', '10', 'agreement', 'onth', 'establish', 'european', 'payment', 'union', '19', 'septemb', '1950']),\n",
       "       list(['agreement', 'establish', 'centro', 'internacion', 'de', 'agricultura', 'tropic']),\n",
       "       list(['loan', 'agreement', 'second', 'road', 'project', 'annex', 'gener', 'condit', 'applic', 'loan', 'guarante', 'agreement']),\n",
       "       list(['develop', 'credit', 'agreement', 'highway', 'engin', 'project', 'annex', 'gener', 'condit', 'applic', 'develop', 'credit', 'agreement']),\n",
       "       list(['treati', 'friendship']), list(['cultur', 'agreement']),\n",
       "       list(['agreement', 'concern', 'postal', 'servic', 'telecommun']),\n",
       "       list(['agreement', 'regul', 'transport', 'good', 'passeng', 'road', 'two', 'countri', 'transit', 'territori']),\n",
       "       list(['agreement', 'field', 'tourism']),\n",
       "       list(['exchang', 'note', 'constitut', 'agreement', 'prolong', 'valid', 'agreement', 'sofia', '29', '30', 'may', '1968']),\n",
       "       list(['agreement', 'concern', 'field', 'tourism', 'prolong', 'supplement', 'agreement']),\n",
       "       list(['agreement', 'concern', 'establish', 'direct', 'airway', 'connect', 'sofia', 'athen']),\n",
       "       list(['air', 'transport', 'agreement']),\n",
       "       list(['agreement', 'field', 'tourism', 'two', 'countri']),\n",
       "       list(['agreement', 'unit', 'nation', 'leagu', 'arab', 'state']),\n",
       "       list(['agreement', 'respect', 'militari', 'assist', 'govern', 'thailand', 'govern', 'unit', 'state', 'america']),\n",
       "       list(['exchang', 'note', 'constitut', 'agreement', 'relat', 'disposit', 'surplu', 'equip', 'materi', 'furnish', 'agreement', 'respect', 'militari', 'assist', 'govern', 'thailand', 'govern', 'unit', 'state', 'america']),\n",
       "       list(['agreement', 'concern', 'abolit', 'visa', 'develop', 'tourism']),\n",
       "       list(['agreement', 'concern', 'establish', 'system']),\n",
       "       list(['agreement', 'concern', 'abolit', 'visa']),\n",
       "       list(['agreement', 'concern', 'intern', 'road', 'transport']),\n",
       "       list(['agreement', 'concern', 'abolit', 'visa']),\n",
       "       list(['exchang', 'letter', 'constitut', 'agreement', 'concern', 'facilit', 'travel', 'respect', 'territori', 'rome', 'san', 'marino', '12', 'june', '1969']),\n",
       "       list(['agreement', 'concern', 'social', 'secur', 'rhine', 'boatmen', 'revis']),\n",
       "       list(['agreement', 'concern', 'establish', 'offic', 'organis', 'citi', 'san', 'costa', 'rica']),\n",
       "       list(['guarante', 'agreement', 'fifth', 'develop', 'financ', 'corpor', 'project', 'annex', 'gener', 'condit', 'applic', 'loan', 'guarante', 'agreement', 'loan', 'agreement', 'bank', 'industri', 'mine', 'develop', 'bank', 'iran']),\n",
       "       list(['loan', 'agreement', 'cypru', 'port', 'project', 'annex', 'gener', 'condit', 'applic', 'loan', 'guarante', 'agreement']),\n",
       "       list(['agreement', 'protocol', '5', '30', 'octob', '1989', 'regard', 'entri', 'forc', 'agreement']),\n",
       "       list(['execut', 'agreement', 'presid', 'republ', 'korea', 'command', 'gener', 'unit', 'state', 'armi', 'forc', 'korea', 'concern', 'interim', 'militari', 'secur', 'matter', 'transit', 'period']),\n",
       "       list(['loan', 'agreement', 'livestock', 'develop', 'project', 'annex', 'gener', 'condit', 'applic', 'loan', 'guarante', 'agreement', 'project', 'agreement', 'bank', 'thezambia', 'cattl', 'develop', 'limit']),\n",
       "       list(['loan', 'agreement', 'fourth', 'highway', 'project', 'annex', 'gener', 'condit', 'applic', 'loan', 'guarante', 'agreement']),\n",
       "       list(['agreement', 'concern', 'headquart', 'african', 'malagasi', 'coffe', 'organ', 'privileg', 'immun', 'french', 'territori']),\n",
       "       list(['agreement', 'concern', 'admiss', 'student', 'employe']),\n",
       "       list(['convent', 'concern', 'employ', 'resid', 'belgium', 'algerian', 'worker', 'famili']),\n",
       "       list(['tax', 'agreement', 'protocol', 'exchang', 'letter']),\n",
       "       list(['protocol', 'concern', 'cultur', 'annex', 'exchang', 'letter']),\n",
       "       list(['protocol', 'concern', 'technic']),\n",
       "       list(['exchang', 'letter', 'constitut', 'technic', 'agreement', 'addi', 'ababa', '9', '10', 'juli', '1969']),\n",
       "       list(['protocol', 'concern', 'return', 'franc', 'remain', 'french', 'servicemen', 'war', 'victim', 'die', 'buri', 'ussr', 'result', 'follow', 'second', 'world', 'war']),\n",
       "       list(['exchang', 'note', 'constitut', 'agreement', 'unit', 'state', 'america', 'itali', 'relat', 'entri', 'payment', 'transport', 'cost', 'relief', 'suppli', 'packag', 'itali']),\n",
       "       list(['relationship', 'agreement']),\n",
       "       list(['treati', 'concern', 'legal', 'assist', 'civil', 'famili', 'crimin', 'case']),\n",
       "       list(['protocol', 'amend', 'convent']),\n",
       "       list(['protocol', 'amend', 'convent', '17', 'juli', '1969', 'amend']),\n",
       "       list(['protocol', 'amend', 'convent', 'sign', 'london', '26', 'septemb', '1991']),\n",
       "       list(['protocol', 'amend', 'convent']),\n",
       "       list(['convent', 'avoid', 'doubl', 'taxat', 'prevent', 'fiscal', 'evas', 'respect', 'tax', 'incom', 'capit']),\n",
       "       list(['protocol', 'amend', 'convent', '17', 'juli', '1969', 'amend']),\n",
       "       list(['protocol', 'amend', 'convent', 'amend']),\n",
       "       list(['european', 'agreement', 'instruct', 'educ', 'nurs']),\n",
       "       list(['protocol', 'concern', 'taxat', 'road', 'traffic', 'cross', 'frontier', 'republ', 'austria', 'princip', 'liechtenstein']),\n",
       "       list(['invest', 'guaranti', 'agreement', 'relat', 'note']),\n",
       "       list(['convent', 'respect', 'tax', 'incom', 'properti']),\n",
       "       list(['protocol', 'amend', 'convent', '28', 'juli', '1967', 'amend']),\n",
       "       list(['amend', 'convent', 'amend']),\n",
       "       list(['protocol', 'amend', 'convent', 'amend']),\n",
       "       list(['protocol', 'amend', 'convent']),\n",
       "       list(['agreement', 'sale', 'agricultur', 'commod']),\n",
       "       list(['agreement', 'sale', 'agricultur', 'commod']),\n",
       "       list(['memorandum', 'understand', 'scientif', 'technic', 'field', 'water', 'resourc']),\n",
       "       list(['exchang', 'note', 'constitut', 'agreement', 'relat', 'reciproc', 'grant', 'author', 'permit', 'licens', 'amateur', 'radio', 'oper', 'either', 'countri', 'oper', 'station', 'countri', 'monaco', '29', 'march', '1968', 'pari', '16', 'octob', '1968']),\n",
       "       list(['agreement', 'concern', 'intern', 'laboratori', 'marin', 'radioact', 'privileg', 'immun', 'agenc', 'within', 'princip']),\n",
       "       list(['exchang', 'note', 'constitut', 'agreement', 'unit', 'state', 'america', 'unit', 'kingdom', 'occupi', 'area', 'germani', 'relat', 'entri', 'payment', 'transport', 'cost', 'relief', 'suppli', 'packag', 'unit', 'kingdom', 'occupi', 'area', 'germani']),\n",
       "       list(['exchang', 'note', 'constitut', 'agreement', 'concern', 'provis', 'unit', 'state', 'govern', 'republ', 'indonesia', 'basic', 'pilot', 'train', 'aircraft', 'djakarta', '9', '17', 'april', '1969']),\n",
       "       list(['exchang', 'note', 'constitut', 'agreement', 'extend', 'time', 'period', 'provid', 'articl', '2', 'agreement', 'tokyo', '18', 'april', '1975']),\n",
       "       list(['exchang', 'note', 'constitut', 'agreement', 'relat', 'exchang', 'note', '13', 'march', '1973implement', 'articl', '3', 'agreement', 'tokyo', '18', 'april', '1975']),\n",
       "       list(['agreement', 'concern', 'trust', 'territori', 'pacif', 'island', 'sign', 'tokyo', '18', 'april', '1969']),\n",
       "       list(['exchang', 'note', 'constitut', 'agreement', 'implement', 'articl', 'paragraph', '3', 'agreement', 'washington', '13', 'march', '1973']),\n",
       "       list(['exchang', 'note', 'constitut', 'agreement', 'deploy', 'uss', 'yosemit', 'uss', 'grand', 'canyon', 'malta', 'valletta', '6', '18', 'june', '1969']),\n",
       "       list(['agreement', 'sale', 'agricultur', 'commod']),\n",
       "       list(['exchang', 'note', 'constitut', 'agreement', 'extens', 'loan', 'vessel', 'uss', 'benson', 'uss', 'hilari', 'jone', 'uss', 'plunkett', 'republ', 'china', 'taipei', '11', '18', 'june', '1969']),\n",
       "       list(['exchang', 'note', 'constitut', 'agreement', 'extend', 'agreement', '13', 'june', '1970', 'amend', 'extend', 'agreement', '12', 'june', '1969', 'warsaw', '1', 'octob', '1971']),\n",
       "       list(['agreement', 'regard', 'fisheri', 'western', 'region', 'middl', 'atlant', 'ocean']),\n",
       "       list(['exchang', 'note', 'constitut', 'understand', 'establish', 'sheme', 'joint', 'enforc', 'regard', 'fisheri', 'western', 'region', 'middl', 'atlant', 'ocean', 'scheme', 'joint', 'enforc', 'washington', '5', 'octob', '31', 'decemb', '1971']),\n",
       "       list(['exchang', 'note', 'constitut', 'agreement', 'extend', 'agreement', '13', 'june', '1970', 'extend', 'extend', 'amend', 'agreement', '12', 'june', '1969', 'extend', 'understand', '5', 'octob', '31', 'decemb', '1971', 'establish', 'scheme', 'joint', 'enforc', 'regard', 'fisheri', 'western', 'region', 'middl', 'atlant', 'ocean', 'warsaw', '28', '30', 'june', '1972']),\n",
       "       list(['agreement', 'regard', 'fisheri', 'western', 'region', 'middl', 'atlant', 'ocean', 'amend', 'extend', 'agreement']),\n",
       "       list(['agreement', 'cooper', 'concern', 'civil', 'use', 'atom', 'energi']),\n",
       "       list(['agreement', 'cooper', 'concern', 'civil', 'use', 'atom', 'energi']),\n",
       "       list(['agreement', 'sale', 'agricultur', 'commod']),\n",
       "       list(['exchang', 'note', 'constitut', 'agreement', 'relat', 'peac', 'corp', 'port', 'spain', '11', '21', 'juli', '1969']),\n",
       "       list(['agreement', 'govern', 'unit', 'state', 'america', 'govern', 'greec', 'entri', 'free', 'inland', 'transport', 'relief', 'suppli', 'packag', 'unit', 'state', 'america', 'greec']),\n",
       "       list(['convent', 'regul', 'condit', 'custom', 'union', 'neighbourli', 'relat']),\n",
       "       list(['exchang', 'note', 'constitut', 'agreement', 'amend', 'agreement', 'govern', 'unit', 'state', 'america', 'govern', 'greec', 'entri', 'free', 'inland', 'transport', 'relief', 'suppli', 'packag', 'unit', 'state', 'america', 'greec', 'amend']),\n",
       "       list(['invest', 'guaranti', 'agreement']),\n",
       "       list(['exchang', 'note', 'constitut', 'agreement', 'concern', 'oper', 'pilotag', 'great', 'lake', 'st', 'lawrenc', 'seaway', 'memorandum', 'arrang', 'washington', '31', 'juli', '1969']),\n",
       "       list(['exchang', 'note', 'constitut', 'agreement', 'concern', 'space', 'activ', 'peac', 'purpos', 'tokyo', '31', 'juli', '1969']),\n",
       "       list(['understand', 'regard', 'establish', 'oper', 'unit', 'state', 'romania', 'american', 'romanian', 'librari', 'respect', 'bucharest', '3', 'august', '1969']),\n",
       "       list(['treati', 'friendship', 'mutual', 'assist']),\n",
       "       list(['european', 'convent', 'compulsori', 'insur', 'civil', 'liabil', 'respect', 'motor', 'vehicl']),\n",
       "       list(['european', 'convent', 'inform', 'foreign', 'law']),\n",
       "       list(['addit', 'protocol', 'european', 'convent', 'inform', 'foreign', 'law']),\n",
       "       list(['agreement', 'concern', 'intern', 'road', 'transport']),\n",
       "       list(['agreement', 'concern', 'establish', 'offic', 'organ', 'manila']),\n",
       "       list(['exchang', 'letter', 'constitut', 'agreement', 'concern', 'statu', 'profession', 'aviat', 'school', 'algier', '22', 'april', '1963']),\n",
       "       list(['exchang', 'note', 'constitut', 'agreement', 'unit', 'state', 'america', 'austria', 'relat', 'entri', 'payment', 'transport', 'cost', 'relief', 'suppli', 'packag', 'austria']),\n",
       "       list(['loan', 'agreement', 'road', 'improv', 'project']),\n",
       "       list(['exchang', 'letter', 'constitut', 'agreement', 'interpret', 'articl', '1', 'agreement', 'pari', '6', 'may', '1972']),\n",
       "       list(['agreement', 'concern', 'supplementari', 'pension', 'scheme']),\n",
       "       list(['protocol', 'concern', 'particip', 'franc', 'establish', 'administr', 'oper', 'algier', 'nation', 'school', 'engin', 'technician']),\n",
       "       list(['agreement', 'concern', 'encourag', 'reciproc', 'protect', 'invest', 'protocol']),\n",
       "       list(['agreement', 'regard', 'loan', 'econom', 'develop', 'cambodia', 'annex', 'exchang', 'letter']),\n",
       "       list(['agreement', 'supplement', 'hagu', 'convent', '1', 'march', '1954', 'relat', 'civil', 'procedur', 'relat', 'law', 'civil', 'procedur']),\n",
       "       list(['convent', '127', 'concern', 'maximum', 'permiss', 'weight', 'carri', 'one', 'worker']),\n",
       "       list(['supplementari', 'convent', 'regard', 'legal', 'proceed']),\n",
       "       list(['loan', 'agreement', 'ninth', 'pakistan', 'railway', 'project', 'annex', 'gener', 'condit', 'applic', 'loan', 'guarante', 'agreement', 'project', 'agreement', 'bank', 'provinc', 'west', 'pakistan']),\n",
       "       list(['agreement', 'abolit', 'visa', 'requir']),\n",
       "       list(['declar', 'recogn', 'compulsori', 'jurisdict', 'intern', 'court', 'justic', 'conform', 'articl', '36', 'paragraph', '2', 'statut', 'intern', 'court', 'justic', 'gaboron', '14', 'januari', '1970']),\n",
       "       list(['execut', 'agenc', 'agreement']),\n",
       "       list(['agreement', 'unit', 'state', 'america', 'state', 'zone', 'free', 'territori', 'triest', 'free', 'entri', 'free', 'inland', 'transport', 'relief', 'suppli', 'packag']),\n",
       "       list(['exchang', 'note', 'constitut', 'agreement', 'amend', 'agreement', 'unit', 'state', 'america', 'state', 'zone', 'free', 'territori', 'triest', 'free', 'entri', 'free', 'inland', 'transport', 'relief', 'suppli', 'packag']),\n",
       "       list(['agreement', 'relat', 'seminar', 'role', 'youth', 'promot', 'protect', 'human', 'right', 'held', 'belgrad', '2', '12', 'june', '1970']),\n",
       "       list(['protocol', 'amend', 'agreement']),\n",
       "       list(['agreement', 'econom', 'technic', 'annex', 'schedul']),\n",
       "       list(['agreement', 'peac', 'use', 'atom', 'energi']),\n",
       "       list(['agreement', 'concern', 'mutual', 'abolit', 'visa', 'travel', 'nation', 'czechoslovak', 'socialist', 'republ', 'nation', 'union', 'soviet', 'socialist', 'republ']),\n",
       "       list(['trade', 'agreement', 'annex', 'list']),\n",
       "       list(['defenc', 'agreement']), list(['diplomat', 'convent']),\n",
       "       list(['legal', 'convent']), list(['agreement', 'cultur']),\n",
       "       list(['gener', 'agreement', 'technic', 'addit', 'protocol', 'exchang', 'letter']),\n",
       "       list(['exchang', 'note', 'constitut', 'agreement', 'amend', 'agreement', 'amend', 'rome', '17', 'june', '1959']),\n",
       "       list(['exchang', 'note', 'constitut', 'agreement', 'amend', 'agreement', 'amend', 'rome', '5', 'octob', '1966']),\n",
       "       list(['exchang', 'note', 'constitut', 'agreement', 'amend', 'agreement', 'amend', 'rome', '12', 'octob', '6', 'decemb', '1967']),\n",
       "       list(['exchang', 'note', 'constitut', 'agreement', 'amend', 'agreement', 'govern', 'unit', 'state', 'america', 'govern', 'italian', 'republ', 'financ', 'certain', 'educ', 'exchang', 'programm']),\n",
       "       list(['execut', 'agenc', 'agreement']),\n",
       "       list(['exchang', 'note', 'constitut', 'agreement', 'modifi', 'agreement', 'govern', 'unit', 'state', 'america', 'govern', 'italian', 'republ', 'financ', 'certain', 'educ', 'exchang', 'programm', 'amend']),\n",
       "       list(['convent', 'establish']),\n",
       "       list(['protocol', 'concern', 'applic', 'chapter', 'agreement', 'sign', 'pari', '10', 'juli', '1963']),\n",
       "       list(['agreement', 'econom', 'monetari', 'financi', 'matter', 'annex', 'exchang', 'letter']),\n",
       "       list(['convent', 'concern', 'relat', 'french', 'treasuri', 'togoles', 'treasuri', 'procedur', 'french', 'republ', 'togoles', 'republ', 'respect', 'organ', 'oper', 'treasuri', 'servic']),\n",
       "       list(['protocol', 'settlement', 'real', 'properti', 'question', 'annex', 'exchang', 'letter', 'sign', '30', 'april', '1968']),\n",
       "       list(['protocol', 'concern', 'construct', 'intern', 'motorway', 'bridg', 'bidassoa', 'vicin', 'biriat']),\n",
       "       list(['convent', 'concern', 'construct', 'two', 'intern', 'bridg', 'bidassoa', 'one', 'behobia', 'vicin', 'biriat']),\n",
       "       list(['convent', 'scientif', 'technic']),\n",
       "       list(['convent', 'concern', 'technic', 'cultur', 'exchang']),\n",
       "       list(['exchang', 'note', 'constitut', 'agreement', 'relat', 'consular', 'matter', 'jerusalem', '14', 'februari', '1967', 'tel', 'aviv', '17', 'april', '1967']),\n",
       "       list(['cultur', 'agreement']),\n",
       "       list(['exchang', 'note', 'constitut', 'agreement', 'relat', 'visa', 'port', 'spain', '31', 'decemb', '1968']),\n",
       "       list(['exchang', 'note', 'constitut', 'agreement', 'unit', 'state', 'america', 'denmark', 'relat', 'exchang', 'offici', 'public']),\n",
       "       list(['agreement', 'cooper']),\n",
       "       list(['exchang', 'note', 'constitut', 'agreement', 'amend', 'agreement', 'tel', 'aviv', 'jerusalem4', 'februari', '1969']),\n",
       "       list(['extradit', 'agreement']),\n",
       "       list(['exchang', 'note', 'constitut', 'agreement', 'avoid', 'doubl', 'taxat', 'incom', 'deriv', 'oper', 'ship', 'aircraft', 'montevideo', '7', 'januari', '3', 'march', '1969']),\n",
       "       list(['agreement', 'field', 'tourism']),\n",
       "       list(['exchang', 'note', 'constitut', 'agreement', 'relat', 'visa', 'athen', '14', '26', 'februari', '1969']),\n",
       "       list(['exchang', 'note', 'constitut', 'agreement', 'relat', 'mutual', 'issu', 'act', 'civil', 'statu', 'without', 'exact', 'fee', 'tel', 'aviv', '3', 'februari', '1969', 'jerusalem', '31', 'march', '1969']),\n",
       "       list(['exchang', 'note', 'constitut', 'agreement', 'relat', 'visa', 'port', 'loui', '15', 'may', '1969']),\n",
       "       list(['cultur', 'convent']),\n",
       "       list(['exchang', 'note', 'constitut', 'agreement', 'relat', 'visa', 'bridgetown', '18', 'june', '1969']),\n",
       "       list(['agreement', 'concern', 'abolit', 'visa']),\n",
       "       list(['exchang', 'note', 'constitut', 'agreement', 'relat', 'visa', 'manila', '10', 'decemb', '1969']),\n",
       "       list(['exchang', 'letter', 'constitut', 'agreement', 'recogn', 'jurisdict', 'intern', 'labour', 'organis', 'administr', 'tribun', 'unit', 'nation', 'industri', 'develop', 'organ']),\n",
       "       list(['exchang', 'note', 'constitut', 'agreement', 'amend', 'agreement', 'govern', 'unit', 'state', 'america', 'imperi', 'govern', 'iran', 'use', 'fund', 'receiv', 'govern', 'unit', 'state', 'america', 'sale', 'surplu', 'properti', 'iran']),\n",
       "       list(['agreement', 'govern', 'unit', 'state', 'america', 'imperi', 'govern', 'iran', 'use', 'fund', 'receiv', 'govern', 'unit', 'state', 'america', 'sale', 'surplu', 'properti', 'iran']),\n",
       "       list(['exchang', 'note', 'constitut', 'agreement', 'relat', 'visa', 'maseru', '21', 'januari', '1970']),\n",
       "       list(['exchang', 'letter', 'constitut', 'agreement', 'concern', 'netherland', 'contribut', 'prek', 'thnot', 'power', 'irrig', 'develop', 'project', 'phnom', 'penh', '30', 'june', '4', 'juli', '1969']),\n",
       "       list(['treati', 'friendship', 'mutual', 'assist', 'czechoslovak', 'socialist', 'republ', 'socialist', 'republ', 'romania']),\n",
       "       list(['agreement', 'danish', 'govern', 'loan', 'indonesia', 'annex', 'exchang', 'letter', 'sign', 'djakarta', '22', 'octob', '1969']),\n",
       "       list(['agreement', 'relat', 'air', 'servic', 'annex', 'exchang', 'letter']),\n",
       "       list(['agreement', 'relat', 'air', 'servic', 'schedul', 'exchang', 'letter']),\n",
       "       list(['develop', 'loan', 'agreement', 'annex', 'exchang', 'letter']),\n",
       "       list(['agreement', 'concern', 'assist', 'unit', 'nation', 'develop', 'programm', 'special', 'fund']),\n",
       "       list(['agreement', 'econom', 'industri', 'technic']),\n",
       "       list(['agreement', 'seminar', 'realiz', 'econom', 'social', 'right', 'particular', 'refer', 'develop', 'countri']),\n",
       "       list(['treati', 'friendship', 'commerc', 'navig', 'unit', 'state', 'america', 'italian', 'republ']),\n",
       "       list(['work', 'arrang']),\n",
       "       list(['agreement', 'supplement', 'treati', 'sign', 'washingon', '26', 'septemb', '1951']),\n",
       "       list(['memorandum', 'understand', 'mainten', 'american', 'read', 'room', 'yugoslavia']),\n",
       "       list(['agreement', 'cultur', 'exchang']),\n",
       "       list(['exchang', 'note', 'constitut', 'agreement', 'program', 'exchang', 'educ', 'scientif', 'cultur', 'field', '1969', '1970', 'enclosur', 'washington', '26', 'novemb', '1968']),\n",
       "       list(['exchang', 'note', 'constitut', 'agreement', 'concern', 'custom', 'regul', 'cargo', 'unit', 'state', 'militari', 'forc', 'manila', '24', 'april', '1969']),\n",
       "       list(['exchang', 'letter', 'constitut', 'agreement', 'continu', 'applic', 'singapor', 'unit', 'kingdom', 'treati', 'decemb', '22', '1931', 'concern', 'extradit', 'singapor', '23', 'april', '10', 'june', '1969']),\n",
       "       list(['exchang', 'note', 'constitut', 'agreement', 'concern', 'statu', 'foreign', 'servic', 'institut', 'school', 'languag', 'area', 'studi', 'taichung', 'personnel', 'taipei', '15', 'juli', '22august', '1969']),\n",
       "       list(['exchang', 'note', 'constitut', 'agreement', 'concern', 'trade', 'cotton', 'textil', 'washington', '29', 'august', '1969']),\n",
       "       list(['exchang', 'note', 'constitut', 'agreement', 'concern', 'reciproc', 'advanc', 'fund', 'temporari', 'support', 'arm', 'forc', 'personnel', 'wellington', '3', 'septemb', '1969']),\n",
       "       list(['exchang', 'note', 'constitut', 'agreement', 'use', 'special', 'fund', 'educ', 'philippin', 'scienc', 'high', 'school', 'project', 'manila', '5', 'septemb', '1969']),\n",
       "       list(['exchang', 'note', 'constitut', 'agreement', 'continu', 'applic', 'convent', 'republ', 'austria', 'unit', 'kingdom', 'regard', 'legal', 'proceed', 'civil', 'commerci', 'matter', 'sign', 'london', '31', 'march', '1931', 'bangkok', '15', 'august', '1968', '13', 'januari', '1969']),\n",
       "       list(['convent', 'unit', 'state', 'america', 'republ', 'costa', 'rica', 'establish', 'tropic', 'tuna', 'commiss']),\n",
       "       list(['convent', 'determin', 'fish', 'zone', 'reserv', 'respect', 'french', 'italian', 'fishermen', 'water', 'corsica', 'sardinia']),\n",
       "       list(['agreement', 'social']),\n",
       "       list(['technic', 'assist', 'agreement', 'supplement', 'agreement']),\n",
       "       list(['agreement', 'dual', 'nation']),\n",
       "       list(['cultur', 'exchang', 'agreement']),\n",
       "       list(['declar', 'recogn', 'compulsori', 'jurisdict', 'intern', 'court', 'justic', 'conform', 'articl', '36', 'paragraph', '2', 'statut', 'intern', 'court', 'justic', 'new', 'york', '7', 'april', '1970']),\n",
       "       list(['intern', 'convent', 'standard', 'method', 'wine', 'analysi', 'evalu', 'annex']),\n",
       "       list(['protocol', 'amend', 'treati']),\n",
       "       list(['treati', 'concern', 'legal', 'assist', 'civil', 'famili', 'crimin', 'case']),\n",
       "       list(['convent', 'establish', 'intern', 'sericultur', 'commiss', 'open', 'signatur', 'pari', '1', 'juli', '1957', '31', 'decemb', '1957']),\n",
       "       list(['cultur', 'agreement']),\n",
       "       list(['execut', 'agenc', 'agreement']),\n",
       "       list(['exchang', 'note', 'constitut', 'agreement', 'australia', 'finland', 'concern', 'releas', 'money', 'belong', 'person', 'resid', 'finland', 'held', 'cash', 'control', 'enemi', 'properti', 'australia', 'settlement', 'australian', 'claim', 'finland', 'aris', 'second', 'world', 'war']),\n",
       "       list(['trade', 'agreement', 'annex', 'list']),\n",
       "       list(['health', 'servic', 'convent']),\n",
       "       list(['fourth', 'protocol', 'amend', 'convent', '22', 'may', '1968']),\n",
       "       list(['protocol', 'amend', 'convent', 'sign', 'london', '12', 'june', '1986']),\n",
       "       list(['protocol', 'amend', 'convent', 'amend']),\n",
       "       list(['protocol', 'amend', 'convent', 'sign', 'london', '12', 'june', '1986']),\n",
       "       list(['supplementari', 'protocol', 'amend', 'convent', 'modifi', 'protocol', 'sign', 'london', '10', 'februari', '1971']),\n",
       "       list(['convent', 'govern', 'unit', 'kingdom', 'great', 'britain', 'northern', 'ireland', 'govern', 'french', 'republ', 'avoid', 'doubl', 'taxat', 'prevent', 'fiscal', 'evas', 'respect', 'tax', 'incom']),\n",
       "       list(['protocol', 'amend', 'convent']),\n",
       "       list(['agreement', 'respect', 'regul', 'taxat', 'road', 'vehicl', 'use', 'intern', 'carriag', 'good']),\n",
       "       list(['agreement', 'air', 'servic', 'beyond', 'respect', 'territori']),\n",
       "       list(['exchang', 'note', 'constitut', 'agreement', 'concern', 'develop', 'loan', 'govern', 'unit', 'kingdom', 'govern', '23', 'august', '1969']),\n",
       "       list(['agreement', 'social', 'insur']),\n",
       "       list(['exchang', 'note', 'constitut', 'agreement', 'concern', 'develop', 'loan', 'govern', 'unit', 'kingdom', 'govern', 'jordan', 'amman', '1', '13', 'octob', '1969']),\n",
       "       list(['exchang', 'note', 'constitut', 'agreement', 'concern', 'abolit', 'visa', 'london', '18', 'novemb', '1969']),\n",
       "       list(['exchang', 'note', 'constitut', 'agreement', 'concern', 'applic', 'malawi', 'convent', 'kingdom', 'netherland', 'unit', 'kingdom', 'great', 'britain', 'northern', 'ireland', 'avoid', 'doubl', 'taxat', 'prevent', 'fiscal', 'evas', 'respect', 'tax', 'incom', 'sign', 'london', '15', 'octob', '1948']),\n",
       "       list(['agreement', 'second', 'consult', 'wood', 'wood', 'product', 'industri']),\n",
       "       list(['agreement', 'govern', 'unit', 'state', 'america', 'govern', 'republ', 'haiti', 'relat', 'naval', 'mission', 'haiti']),\n",
       "       list(['agreement', 'concern', 'establish', 'offic', 'organis', 'bueno', 'air']),\n",
       "       list(['exchang', 'note', 'constitut', 'agreement', 'termin', 'agreement', 'vienna', '13', '25', 'june', '1997']),\n",
       "       list(['agreement', 'cooper', 'concern', 'civil', 'use', 'atom', 'energi']),\n",
       "       list(['protocol', 'concern', 'provis', 'suppli', 'time', 'need', 'sign', 'brussel', '29', 'januari', '1963']),\n",
       "       list(['treati', 'amiti']), list(['treati', 'friendship']),\n",
       "       list(['treati', 'friendship']),\n",
       "       list(['protocol', 'amend', 'convent', 'amend']),\n",
       "       list(['protocol', 'amend', 'convent']),\n",
       "       list(['protocol', 'amend', 'convent']),\n",
       "       list(['convent', 'avoid', 'doubl', 'taxat', 'prevent', 'fiscal', 'evas', 'respect', 'tax', 'incom', 'capit']),\n",
       "       list(['protocol', 'amend', 'convent', 'amend']),\n",
       "       list(['protocol', 'amend', 'convent', 'amend']),\n",
       "       list(['agreement', 'govern', 'unit', 'kingdom', 'great', 'britain', 'northern', 'ireland', 'govern', 'socialist', 'feder', 'republ', 'yugoslavia', 'intern', 'carriag', 'good', 'road']),\n",
       "       list(['agreement', 'respect', 'regul', 'taxat', 'road', 'vehicl', 'use', 'intern', 'carriag', 'good']),\n",
       "       list(['agreement', 'social', 'secur']),\n",
       "       list(['agreement', 'govern', 'unit', 'state', 'america', 'govern', 'republ', 'hondura', 'establish', 'unit', 'state', 'air', 'forc', 'mission', 'republ', 'hondura']),\n",
       "       list(['cooper', 'agreement']),\n",
       "       list(['exchang', 'note', 'constitut', 'agreement', 'extend', 'amend', 'agreement', 'govern', 'unit', 'state', 'america', 'govern', 'republ', 'hondura', 'establish', 'unit', 'state', 'air', 'forc', 'mission', 'republ', 'hondura']),\n",
       "       list(['exchang', 'note', 'constitut', 'agreement', 'amend', 'agreement', 'djakarta', '17', 'march', '10', 'april', '1972']),\n",
       "       list(['exchang', 'note', 'constitut', 'agreement', 'amend', 'agreement', 'djakarta', '17', 'februari', '1970']),\n",
       "       list(['exchang', 'note', 'constitut', 'agreement', 'concern', 'develop', 'loan', 'govern', 'unit', 'kingdom', 'govern', 'indonesia', 'unit', '5', 'loan', '1969', 'provis', 'good', 'servic', 'unit', 'kingdom', 'annex', 'relat', 'exchang', 'note', 'djakarta', '22', 'octob', '1969']),\n",
       "       list(['exchang', 'note', 'constitut', 'agreement', 'supplementari', 'agreement', 'ankara', '14', 'novemb', '1969']),\n",
       "       list(['exchang', 'note', 'constitut', 'agreement', 'concern', 'develop', 'loan', 'govern', 'unit', 'kingdom', 'govern', 'polyethylen', 'plant', 'expans', 'loan', '3', 'agreement', '1969', 'ankara', '14', 'novemb', '1969']),\n",
       "       list(['exchang', 'letter', 'constitut', 'agreement', 'concern', 'use', 'unit', 'kingdom', 'esrang', 'special', 'project', 'pari', '19', 'decemb', '1969']),\n",
       "       list(['exchang', 'note', 'constitut', 'agreement', 'establish', 'new', 'york', 'branch', 'offic', 'commerci', 'section', 'embassi', 'czechoslovak', 'socialist', 'republ', 'washington', 'washington', '8', '28', 'august', '1967']),\n",
       "       list(['exchang', 'note', 'constitut', 'agreement', 'reciproc', 'grant', 'author', 'amateur', 'radio', 'oper', 'either', 'countri', 'oper', 'station', 'countri', 'guatemala', '30', 'novemb', '11', 'decemb', '1967']),\n",
       "       list(['agreement', 'relat', 'invest', 'guaranti', 'govern', 'unit', 'state']),\n",
       "       list(['fourth', 'supplementari', 'agreement', 'sale', 'agricultur', 'commod']),\n",
       "       list(['protocol', 'amend', 'air', 'transport', 'agreement', 'govern', 'unit', 'state', 'america', 'govern', 'jamaica']),\n",
       "       list(['agreement', 'amend', 'air', 'transport', 'agreement', 'unit', 'state', 'america', 'jamaica', 'amend']),\n",
       "       list(['agreement', 'unit', 'state', 'america', 'jamaica', 'amend', 'air', 'transport', 'agreement', 'octob', '2', '1969', 'amend']),\n",
       "       list(['sixth', 'supplementari', 'agreement', 'sale', 'agricultur', 'commod']),\n",
       "       list(['exchang', 'note', 'constitut', 'agreement', 'amend', 'agreement', 'amend', 'new', 'delhi', '26', 'june', '1970']),\n",
       "       list(['agreement', 'govern', 'unit', 'state', 'america', 'govern', 'republ', 'hondura', 'establish', 'unit', 'state', 'armi', 'mission', 'republ', 'hondura']),\n",
       "       list(['execut', 'agenc', 'agreement', 'annex', 'standard', 'basic', 'assist', 'agreement', 'revis', 'supplementari', 'agreement']),\n",
       "       list(['exchang', 'note', 'constitut', 'agreement', 'extend', 'amend', 'agreement', 'govern', 'unit', 'state', 'america', 'govern', 'republ', 'hondura', 'establish', 'unit', 'state', 'armi', 'mission', 'republ', 'hondura']),\n",
       "       list(['agreement', 'sale', 'agricultur', 'commod']),\n",
       "       list(['exchang', 'note', 'constitut', 'agreement', 'modifi', 'agreement', 'kinshasa', '24', 'march', '7', 'juli', '1970']),\n",
       "       list(['supplementari', 'agreement', 'sale', 'agricultur', 'commod']),\n",
       "       list(['exchang', 'note', 'constitut', 'agreement', 'amend', 'agreement', 'ankara', '19', 'decemb', '1969']),\n",
       "       list(['first', 'supplementari', 'agreement', 'sale', 'agricultur', 'commod']),\n",
       "       list(['supplementari', 'agreement', 'sale', 'agricultur', 'commod']),\n",
       "       list(['exchang', 'note', 'constitut', 'agreement', 'concern', 'trade', 'beef', 'goat', 'meat', 'mutton', 'tegucigalpa', '27', 'novemb', '1969']),\n",
       "       list(['intern', 'grain', 'arrang', '1967', 'wheat', 'trade', 'convent', 'annex', 'open', 'signatur', 'washington', '15', 'octob', '1967', '30', 'novemb', '1967']),\n",
       "       list(['b', 'food', 'aid', 'convent']),\n",
       "       list(['exchang', 'letter', 'constitut', 'agreement', 'grant', 'wheat', 'human', 'consumpt', 'cairo', '24', 'novemb', '1969']),\n",
       "       list(['standard', 'agreement', 'oper', 'assist', 'sign', 'coton', '14', 'march', '1970']),\n",
       "       list(['trade', 'agreement']),\n",
       "       list(['agreement', 'relat', 'seminar', 'particip', 'women', 'econom', 'life', 'countri', 'beheld', 'moscow', 'union', 'soviet', 'socialist', 'republ', '8', '21', 'septemb', '1970']),\n",
       "       list(['agreement', 'cooper', 'coordin', 'activ']),\n",
       "       list(['agreement', 'govern', 'unit', 'state', 'america', 'govern', 'republ', 'argentina', 'relat', 'militari', 'advisori', 'mission', 'argentina']),\n",
       "       list(['exchang', 'note', 'constitut', 'agreement', 'regard', 'implement', 'kerguelen', 'island', 'project', 'photograph', 'track', 'space', 'object', 'confirm', 'protocol', 'subject', 'conclud', '12', 'octob', '1969', 'said', 'protocol', 'moscow', '24', 'octob', '1969']),\n",
       "       list(['agreement', 'cultur', 'scientif', 'technic']),\n",
       "       list(['agreement', 'establish', 'european', 'molecular', 'biolog', 'confer']),\n",
       "       list(['agreement', 'concern', 'intern', 'transport', 'road']),\n",
       "       list(['air', 'transport', 'agreement']),\n",
       "       list(['agreement', 'commerci', 'air', 'servic', 'beyond', 'respect', 'territori', 'exchang', 'note']),\n",
       "       list(['air', 'transport', 'agreement']),\n",
       "       list(['air', 'transport', 'agreement']),\n",
       "       list(['air', 'transport', 'agreement']),\n",
       "       list(['air', 'transport', 'agreement']),\n",
       "       list(['exchang', 'note', 'constitut', 'agreement', 'extend', 'agreement', 'govern', 'unit', 'state', 'america', 'govern', 'unit', 'state', 'brazil', 'relat', 'militari', 'advisori', 'mission', 'brazil']),\n",
       "       list(['agreement', 'govern', 'unit', 'state', 'america', 'govern', 'unit', 'state', 'brazil', 'relat', 'militari', 'advisori', 'mission', 'brazil']),\n",
       "       list(['exchang', 'note', 'constitut', 'agreement', 'amend', 'agreement', 'govern', 'unit', 'state', 'america', 'govern', 'unit', 'state', 'brazil', 'relat', 'militari', 'advisori', 'mission', 'brazil']),\n",
       "       list(['exchang', 'note', 'constitut', 'agreement', 'amend', 'agreement', 'govern', 'unit', 'state', 'america', 'govern', 'unit', 'state', 'brazil', 'relat', 'militari', 'advisori', 'mission', 'brazil']),\n",
       "       list(['exchang', 'note', 'constitut', 'agreement', 'extend', 'agreement', 'amend', 'extend']),\n",
       "       list(['exchang', 'note', 'constitut', 'agreement', 'extend', 'agreement', 'govern', 'unit', 'state', 'america', 'govern', 'unit', 'state', 'brazil', 'relat', 'militari', 'advisori', 'mission', 'brazil', 'amend', 'extend']),\n",
       "       list(['memorandum', 'understand', 'cooper']),\n",
       "       list(['air', 'transport', 'agreement', 'govern', 'czechoslovak', 'socialist', 'republ', 'govern', 'canada']),\n",
       "       list(['protocol', 'amend', 'air', 'transport', 'agreement', 'govern', 'canada', 'govern', 'czechoslovak', 'socialist', 'republ']),\n",
       "       list(['exchang', 'note', 'constitut', 'agreement', 'amend', 'agreement', '26', 'march', '1969']),\n",
       "       list(['air', 'transport', 'agreement', 'austrian', 'feder', 'govern', 'govern', 'republ', 'south', 'africa']),\n",
       "       list(['agreement', 'commerci', 'schedul', 'air', 'transport']),\n",
       "       list(['agreement', 'settlement', 'question', 'public', 'properti', 'annex', 'exchang', 'letter']),\n",
       "       list(['exchang', 'letter', 'constitut', 'agreementamend', 'agreement', 'saigon', '10', 'may', '4', 'juli', '1969']),\n",
       "       list(['convent', 'cartograph', 'exchang', 'letter', '2', 'septemb', '1968']),\n",
       "       list(['treati', 'concern', 'regul', 'water', 'manag', 'question', 'relat', 'frontier', 'water', 'annex', 'final', 'protocol']),\n",
       "       list(['african', 'migratori', 'locust', 'convent']),\n",
       "       list(['agreement', 'concern', 'contribut', 'french', 'govern', 'establish', 'oper', 'nation', 'agricultur', 'teach', 'centr']),\n",
       "       list(['exchang', 'letter', 'constitut', 'agreement', 'concern', 'assist', 'given', 'franc', 'train', 'algerian', 'agricultur', 'technician', 'algier', '27', 'novemb', '1969']),\n",
       "       list(['agreement', 'relat', 'establish', 'joint', 'defens', 'space', 'commun', 'station', 'australia']),\n",
       "       list(['exchang', 'note', 'constitut', 'agreement', 'amend', 'agreement']),\n",
       "       list(['exchang', 'note', 'constitut', 'agreement', 'amend', 'agreement', '29', 'june', '1944', 'amend', 'extend', 'relat', 'militari', 'mission', 'ecuador', 'quito', '25', 'februari', '22', 'may', '1959']),\n",
       "       list(['cooper', 'agreement']),\n",
       "       list(['loan', 'agreement', 'third', 'highway', 'project', 'annex', 'gener', 'condit', 'applic', 'loan', 'guarante', 'agreement']),\n",
       "       list(['agreement', 'econom', 'industri', 'technic']),\n",
       "       list(['agreement', 'danish', 'govern', 'loan', 'colombia', 'annex', 'exchang', 'note']),\n",
       "       list(['guarante', 'agreement', 'fourth', 'power', 'project', 'annex', 'gener', 'condit', 'applic', 'loan', 'guarante', 'agreement', 'loan', 'agreement', 'bank', 'ceylon', 'electr', 'board']),\n",
       "       list(['guarante', 'agreement', 'second', 'develop', 'financ', 'corpor', 'project', 'annex', 'gener', 'condit', 'applic', 'loan', 'guarante', 'agreement', 'loan', 'agreement', 'bank', 'develop', 'financ', 'corpor', 'ceylon']),\n",
       "       list(['letter', 'agreement', 'regard', 'undertak', 'made', 'commonwealth', 'australia', 'refer', 'develop', 'credit', 'agreement', 'new', 'britain', 'smallhold', 'develop', 'project', '21', 'januari', '1969', 'associ', 'administr', 'territori', 'papua', 'new', 'guinea', 'annex', 'said', 'develop', 'credit', 'agreement', 'develop', 'credit', 'regul', '1', 'washington', '21', 'januari', '1969']),\n",
       "       list(['guarante', 'agreement', 'third', 'power', 'project', 'annex', 'gener', 'condit', 'applic', 'loan', 'guarante', 'agreement', 'loan', 'agreement', 'bank', 'instituto', 'costarricens', 'de', 'electricidad']),\n",
       "       list(['guarante', 'agreement', 'second', 'telecommun', 'project', 'annex', 'gener', 'condit', 'applic', 'loan', 'guarante', 'agreement', 'loan', 'agreement', 'bank', 'instituto', 'costarricens', 'de', 'electricidad']),\n",
       "       list(['loan', 'agreement', 'livestock', 'develop', 'project', 'annex', 'gener', 'condit', 'applic', 'loan', 'guarant', 'agreement']),\n",
       "       list(['exchang', 'note', 'constitut', 'agreement', 'unit', 'state', 'america', 'ecuador', 'amend', 'extend', 'period', 'two', 'year', 'agreement', 'sign', 'washington', '12', 'decemb', '1940', 'provid', 'detail', 'naval', 'mission', 'unit', 'state', 'america', 'ecuador', 'amend', 'extend', 'agreement', '30', 'april', '1941', '22', 'august', '1944', '11', 'decemb', '1946']),\n",
       "       list(['letter', 'agreement', 'region', 'project', 'technic', 'assist', 'agricultur', 'develop', 'central', 'america', 'ruta', 'ii']),\n",
       "       list(['exchang', 'note', 'constitut', 'agreement', 'amend', '12', 'decemb', '1940', 'amend', 'extend', 'relat', 'naval', 'mission', 'ecuador', 'quito', '25', 'februari', '22', 'may', '1959']),\n",
       "       list(['exchang', 'note', 'constitut', 'agreement', 'extend', 'agreement', '12', 'decemb', '1940', 'modifi', 'extend', 'relat', 'naval', 'mission', 'ecuador']),\n",
       "       list(['loan', 'upper', 'pampanga', 'irrig', 'project', 'annex', 'gener', 'condit', 'applic', 'loan', 'guarante', 'agreement']),\n",
       "       list(['payment', 'agreement']), list(['trade', 'agreement']),\n",
       "       list(['payment', 'agreement']),\n",
       "       list(['commerci', 'agreement', 'annex', 'exchang', 'note']),\n",
       "       list(['trade', 'agreement']),\n",
       "       list(['protocol', 'concern', 'statu', 'trade', 'deleg', 'union', 'soviet', 'socialist', 'republ', 'togoles', 'republ']),\n",
       "       list(['agreement', 'cultur']),\n",
       "       list(['invest', 'guaranti', 'agreement']),\n",
       "       list(['invest', 'guaranti', 'agreement']),\n",
       "       list(['exchang', 'note', 'constitut', 'agreementamend', 'agreement', '20', 'novemb', '14', 'decemb', '1951', 'rome', '7', 'septemb', '1960']),\n",
       "       list(['technic', 'assist', 'financ', 'agreement', 'small', 'rumin', 'develop', 'program']),\n",
       "       list(['exchang', 'note', 'constitut', 'agreement', 'unit', 'state', 'america', 'itali', 'relat', 'mutual', 'defens', 'assist']),\n",
       "       list(['exchang', 'note', 'constitut', 'agreement', 'relat', 'disposit', 'surplu', 'equip', 'materi', 'furnish', 'agreement', 'unit', 'state', 'america', 'itali', 'relat', 'mutual', 'defens', 'assist']),\n",
       "       list(['guarante', 'third', 'develop', 'financ', 'compani', 'project', 'annex', 'gener', 'condit', 'applic', 'loan', 'guarante', 'agreement', 'loan', 'agreement', 'thebank', 'banco', 'de', 'la', 'republica']),\n",
       "       list(['agreement', 'technic', 'assist', 'sign', 'lusaka', '29', 'may', '1970']),\n",
       "       list(['standard', 'agreement', 'oper', 'assist', 'sign', 'lusaka', '29', 'may', '1970']),\n",
       "       list(['exchang', 'note', 'constitut', 'agreement', 'concern', 'arrang', 'export', 'petroleum', 'unit', 'state', 'washington', '25', 'septemb', '1967']),\n",
       "       list(['exchang', 'note', 'constitut', 'agreement', 'rawinsond', 'observ', 'station', 'guayaquil', 'quito', '20', 'august', '1968']),\n",
       "       list(['exchang', 'note', 'constitut', 'agreement', 'concern', 'condit', 'launch', 'associ', 'servic', 'nasa', 'experiment', 'satellit', 'furnish', 'nasa', 'san', 'marco', 'rang', 'memorandum', 'agreement', 'date', '18', 'februari', '1969', 'rome', '30', 'april', '12', 'june', '1969']),\n",
       "       list(['exchang', 'note', 'constitut', 'agreement', 'concern', 'cooper', 'satellit', 'research', 'project', 'memorandum', 'understand', 'date', '22', 'may', '1969', 'rome', '9', 'august', '11', 'septemb', '1969']),\n",
       "       list(['exchang', 'note', 'constitut', 'agreement', 'relat', 'trade', 'cotton', 'textil', 'washington', '1', 'octob', '1969']),\n",
       "       list(['fifth', 'supplementari', 'agreement', 'sale', 'agricultur', 'commod']),\n",
       "       list(['sixth', 'supplementari', 'agreement', 'sale', 'agricultur', 'commod']),\n",
       "       list(['memorandum', 'understand', 'relat', 'mutual', 'defens', 'assist', 'agreement', 'unit', 'state', 'america', 'franc', 'concern', 'avail', 'util', 'equip', 'materi', 'servic', 'defens']),\n",
       "       list(['mutual', 'defens', 'assist', 'agreement', 'unit', 'state', 'america', 'franc']),\n",
       "       list(['technic', 'assist', 'agreement', 'agricultur', 'manag', 'train', 'programm']),\n",
       "       list(['memorandum', 'understand', 'relat', 'mutual', 'defens', 'assist', 'agreement', 'unit', 'state', 'america', 'franc']),\n",
       "       list(['exchang', 'note', 'constitut', 'agreement', 'relat', 'mutual', 'defens', 'assist', 'agreement', 'unit', 'state', 'america', 'franc', 'concern', 'transfer', 'special', 'tool', 'purpos', 'offshor', 'procur', 'porgram']),\n",
       "       list(['agreement', 'sale', 'agricultur', 'commod', 'sign', 'tuni', '18', 'decemb', '1969']),\n",
       "       list(['gener', 'agreement', 'annex', 'protocol', 'exchang', 'letter', 'annex', 'gener', 'agreement', 'agreement', 'concern', 'transfer', 'exchang', 'letter', 'annex', 'agreement', 'concern', 'transfer']),\n",
       "       list(['convent', 'concern', 'settlement', 'problem', 'relat', 'asset', 'french', 'nation', 'territori', 'unit', 'arab', 'republ', 'protocol', 'exchang', 'letter']),\n",
       "       list(['convent', 'avoid', 'doubl', 'taxat', 'respect', 'tax', 'incom']),\n",
       "       list(['protocol', 'amend', 'convent', '28', 'march', '1968']),\n",
       "       list(['guarante', 'agreement', 'guri', 'powerhous', 'extens', 'project', 'annex', 'gener', 'condit', 'applic', 'loan', 'guarante', 'agreement', 'loan', 'agreement', 'bankand', 'electrificacion', 'del', 'caroni']),\n",
       "       list(['agreement', 'concern', 'abolit', 'visa', 'develop', 'tourism']),\n",
       "       list(['contract', 'transfer', 'enrich', 'uranium', 'research', 'reactor', 'philippin', 'second', 'suppli', 'agreement']),\n",
       "       list(['agreement', 'applic', 'safeguard', 'taiwan', 'research', 'reactor', 'facil']),\n",
       "       list(['agreement', 'applic', 'safeguard']),\n",
       "       list(['contract', 'transfer', 'enrich', 'uranium', 'research', 'reactor', 'finland', 'annex']),\n",
       "       list(['exchang', 'note', 'constitut', 'agreement', 'amend', 'annex', 'b', 'agreement', '27', 'januari', '1950', 'amend', 'luxembourg', '27', 'june', '4', 'juli', '1975']),\n",
       "       list(['mutual', 'defens', 'assist', 'agreement', 'unit', 'state', 'america', 'luxembourg']),\n",
       "       list(['exchang', 'note', 'constitut', 'agreement', 'amend', 'annex', 'b', 'agreement', 'amend', 'luxembourg', '3', '20', 'august', '1973']),\n",
       "       list(['exchang', 'note', 'constitut', 'agreement', 'amend', 'annex', 'b', 'mutual', 'defens', 'assist', 'agreement', 'unit', 'state', 'america', 'luxembourg']),\n",
       "       list(['exchang', 'note', 'constitut', 'agreement', 'amend', 'annex', 'b', 'agreement', 'luxembourg', '11and', '24', 'juli', '1969']),\n",
       "       list(['exchang', 'note', 'constitut', 'agreement', 'amend', 'annex', 'b', 'agreement', 'amend', 'luxembourg', '15', 'june', '25', 'juli', '1972']),\n",
       "       list(['exchang', 'note', 'constitut', 'agreement', 'amend', 'annex', 'b', 'agreement', 'amend', 'luxembourg', '21', '30', 'decemb', '1965']),\n",
       "       list(['memorandum', 'understand', 'concern', 'cooper', 'unit', 'nation', 'industri', 'develop', 'organ', 'intern', 'trade', 'centr']),\n",
       "       list(['exchang', 'note', 'constiut', 'agreement', 'amend', 'annex', 'b', 'agreement', 'amend', 'luxembourg', '20', 'may', '11', 'juli', '1974']),\n",
       "       list(['exchang', 'note', 'constitut', 'agreement', 'amend', 'annex', 'b', 'agreement', 'luxembourg', '27may', '10', 'june', '1971']),\n",
       "       list(['exchang', 'note', 'constitut', 'agreement', 'amend', 'annex', 'b', 'mutual', 'defens', 'assist', 'agreement', 'unit', 'state', 'america', 'luxembourg']),\n",
       "       list(['exchang', 'note', 'constitut', 'agreement', 'amend', 'annex', 'b', 'agreement', 'luxembourg', '18june', '7', 'juli', '1970']),\n",
       "       list(['exchang', 'note', 'constitut', 'agreement', 'amend', 'annex', 'b', 'agreement', 'luxembourg', '19', '31', 'januari', '1977']),\n",
       "       list(['exchang', 'note', 'constitut', 'agreement', 'amend', 'annex', 'b', 'mutual', 'defens', 'assist', 'agreement', 'unit', 'state', 'america', 'luxembourg']),\n",
       "       list(['exchang', 'note', 'constitut', 'agreement', 'amend', 'annex', 'b', 'agreement', 'luxembourg', '27may', '10', 'june', '1971']),\n",
       "       list(['exchang', 'note', 'constitut', 'agreement', 'amend', 'annex', 'b', 'mutual', 'defens', 'assist', 'agreement', 'unit', 'state', 'america', 'luxembourg']),\n",
       "       list(['exchang', 'note', 'constitut', 'agreement', 'amend', 'annex', 'b', 'agreement', 'luxembourg', '9', '17', 'may', '1968']),\n",
       "       list(['exchang', 'note', 'constitut', 'agreement', 'amend', 'annex', 'b', 'mutual', 'defens', 'assist', 'agreement', 'unit', 'state', 'america', 'luxembourg']),\n",
       "       list(['contract', 'leas', 'enrich', 'uranium', 'research', 'reactor', 'chile']),\n",
       "       list(['letter', 'agreement', 'constitut', 'extens', 'contract', 'leas', 'enrich', 'uranium', 'research', 'reactor', 'chile', '31', 'decemb', '1974']),\n",
       "       list(['letter', 'agreement', 'extend', 'contract', 'leas', 'enrich', 'uranium', 'research', 'reactor', 'chile']),\n",
       "       list(['agreement', 'assist', 'agenc', 'chile', 'establish', 'research', 'reactor', 'project', 'annex']),\n",
       "       list(['contract', 'transfer', 'enrich', 'uranium', 'research', 'reactor', 'indonesia']),\n",
       "       list(['agreement', 'assist', 'agenc', 'indonesia', 'continu', 'reactor', 'project']),\n",
       "       list(['amend', 'agreement']),\n",
       "       list(['amend', 'agreement', '19', 'decemb', '1969']),\n",
       "       list(['agreement', 'relat', 'provis', 'assist', 'develop', 'countri', 'sign', 'vienna', '19', 'decemb', '1969']),\n",
       "       list(['agreement', 'econom', 'industri', 'technic']),\n",
       "       list(['agreement', 'concern', 'abolit', 'visa']),\n",
       "       list(['exchang', 'note', 'constitut', 'agreement', 'confirm', 'arrang', '15', 'may', '1981', 'concern', 'creation', 'dudelang', 'luxembourg', 'territori', 'joint', 'frontier', 'control', 'bureau', 'map', 'pari', '4', '30', 'june', '1981']),\n",
       "       list(['exchang', 'note', 'constitut', 'agreement', 'confirm', 'arrang', 'concern', 'creation', 'schengen', 'luxembourg', 'territori', 'joint', 'frontier', 'control', 'bureau', 'pari', '19', 'novemb', '1970']),\n",
       "       list(['convent', 'relat', 'adjoin', 'nation', 'control', 'offic', 'inspect', 'move', 'vehicl']),\n",
       "       list(['cultur', 'agreement']),\n",
       "       list(['convent', 'concern', 'deposit', 'consign', 'effect', 'gabon']),\n",
       "       list(['mutual', 'defens', 'assist', 'agreement', 'govern', 'unit', 'state', 'america', 'govern', 'republ', 'korea']),\n",
       "       list(['execut', 'agenc', 'agreement']),\n",
       "       list(['agreement', 'econom', 'industri', 'technic']),\n",
       "       list(['exchang', 'note', 'constitut', 'agreement', 'rectifi', 'agreement', 'belgrad', '28', 'novemb', '10', 'decemb', '1973']),\n",
       "       list(['convent', 'concern', 'plant', 'protect', 'phytosanitari', 'control']),\n",
       "       list(['exchang', 'letter', 'constitut', 'agreement', 'concern', 'establish', 'quarantin', 'station', 'miquelon', 'ottawa', '3', 'april', '1969']),\n",
       "       list(['agreement', 'concern', 'establish', 'french', 'librari', 'bucharest', 'romanian', 'librari', 'pari']),\n",
       "       list(['special', 'agreement', 'concern', 'second', 'militari', 'personnel']),\n",
       "       list(['exchang', 'letter', 'constitut', 'agreement', 'amend', 'agreement', 'bujumbura', '31', 'may', '5', 'june', '1974']),\n",
       "       list(['agreement', 'movement', 'person']),\n",
       "       list(['agreement', 'movement', 'person']),\n",
       "       list(['agreement', 'govern', 'french', 'republ', 'govern', 'togoles', 'republ', 'movement', 'person']),\n",
       "       list(['agreement', 'concern', 'air', 'servic']),\n",
       "       list(['agreement', 'concern', 'intern', 'transport', 'good', 'road']),\n",
       "       list(['mutual', 'defens', 'assist', 'agreement', 'unit', 'state', 'america', 'netherland']),\n",
       "       list(['loan', 'agreement', 'second', 'technolog', 'advanc', 'project']),\n",
       "       list(['convent', 'avoid', 'doubl', 'taxat', 'prevent', 'fiscal', 'evas', 'respect', 'tax', 'incom']),\n",
       "       list(['agreement', 'assist', 'india', 'institut', 'speech', 'hear', 'mysor']),\n",
       "       list(['agreement', 'danish', 'govern', 'loan', 'turkey', 'annex', 'exchang', 'letter']),\n",
       "       list(['agreement', 'concern', 'establish', 'offic', 'organis', 'djakarta']),\n",
       "       list(['loan', 'highway', 'project', 'annex', 'gener', 'condit', 'applic', 'loan', 'guarante', 'agreement']),\n",
       "       list(['develop', 'credit', 'highway', 'project', 'annex', 'gener', 'condit', 'applic', 'develop', 'credit', 'agreement']),\n",
       "       list(['loan', 'agreement', 'second', 'educ', 'project', 'annex', 'gener', 'condit', 'applic', 'loan', 'guarante', 'agreement']),\n",
       "       list(['guarante', 'agreement', 'second', 'telecommun', 'project', 'annex', 'gener', 'condit', 'applic', 'loan', 'guarante', 'agreement', 'loan', 'agreement', 'bank', 'singapor', 'telephon', 'board']),\n",
       "       list(['guarante', 'agreement', 'industri', 'project', '1970', 'annex', 'gener', 'condit', 'applic', 'loan', 'guarante', 'agreement', 'loan', 'agreement', 'bank', 'andth', 'yugoslav', 'invest', 'bank']),\n",
       "       list(['exhang', 'note', 'constitut', 'agreement', 'amend', 'annex', 'c', 'mutual', 'defens', 'assist', 'agreement', 'unit', 'state', 'america', 'norway']),\n",
       "       list(['exchang', 'note', 'constitut', 'agreement', 'amend', 'annex', 'c', 'agreement', 'oslo', '29', '30', 'decemb', '1970']),\n",
       "       list(['exchang', 'note', 'constitut', 'agreement', 'extend', 'agreement', '17', 'april', '8', 'may', '1958', 'oslo', '16', 'novemb', '1962', '14', 'januari', '1963']),\n",
       "       list(['exchang', 'note', 'constitut', 'agreement', 'amend', 'annex', 'c', 'agreement', 'oslo', '29', 'august', '6', 'septemb', '1966']),\n",
       "       list(['exchang', 'note', 'constitut', 'agreement', 'amend', 'annex', 'c', 'mutual', 'defens', 'assist', 'agreement', 'unit', 'state', 'america', 'norway', 'amend']),\n",
       "       list(['exchang', 'note', 'constitut', 'agreement', 'relat', 'mutual', 'defenc', 'assist', 'agreement', 'unit', 'state', 'america', 'norway', 'amend', 'extend', 'concern', 'loan', 'seaplan', 'tender', 'govern', 'unit', 'state', 'america', 'govern', 'norway', 'defens', 'purpos']),\n",
       "       list(['exchang', 'note', 'constitut', 'agreement', 'amend', 'annex', 'c', 'mutual', 'defens', 'assist', 'agreement', 'unit', 'state', 'america', 'norway']),\n",
       "       list(['exchang', 'note', 'constitut', 'agreement', 'amend', 'annex', 'c', 'agreement', 'oslo', '1', '9', 'novemb', '1967']),\n",
       "       list(['exchang', 'note', 'constitut', 'agreement', 'amend', 'mutual', 'defens', 'assist', 'agreement', 'unit', 'state', 'america', 'norway']),\n",
       "       list(['exhang', 'note', 'constitut', 'agreement', 'amend', 'annex', 'c', 'mutual', 'defens', 'assist', 'agreement', 'unit', 'state', 'america', 'norway']),\n",
       "       list(['exchang', 'note', 'constitut', 'agreement', 'amend', 'annex', 'c', 'agreement', 'oslo', '12', '14', 'septemb', '1972']),\n",
       "       list(['exchang', 'note', 'constitut', 'agreement', 'amend', 'mutual', 'defens', 'assist', 'agreement', 'unit', 'state', 'america', 'norway']),\n",
       "       list(['loan', 'agreement', 'univers', 'scienc', 'technolog', 'research', 'project', 'schedul', 'gener', 'condit', 'applic', 'loan', 'guarante', 'agreement', 'dated1', 'januari', '1985']),\n",
       "       list(['exchang', 'note', 'constitut', 'agreement', 'amend', 'annex', 'c', 'mutual', 'defens', 'assist', 'agreement', 'unit', 'state', 'america', 'norway']),\n",
       "       list(['exhang', 'note', 'constitut', 'agreement', 'amend', 'annex', 'c', 'mutual', 'defens', 'assist', 'agreement', 'unit', 'state', 'america', 'norway']),\n",
       "       list(['exchang', 'note', 'constitut', 'agreement', 'amend', 'annex', 'c', 'mutual', 'defens', 'assist', 'agreement', 'unit', 'state', 'america', 'norway']),\n",
       "       list(['exchang', 'note', 'constitut', 'agreement', 'amend', 'annex', 'c', 'agreement', 'amend', '24', 'august', '1965']),\n",
       "       list(['exchang', 'note', 'constitut', 'agreement', 'amend', 'annex', 'c', 'agreement', 'amend', 'oslo', '19', '27', 'novemb', '1974']),\n",
       "       list(['exchang', 'note', 'constitut', 'agreement', 'amend', 'annex', 'c', 'mutual', 'defens', 'assist', 'agreement', 'unit', 'state', 'america', 'norway']),\n",
       "       list(['exchang', 'note', 'constitut', 'agreement', 'amend', 'annex', 'c', 'agreement', 'oslo', '25', 'august', '17', 'septemb', '1969']),\n",
       "       list(['exchang', 'note', 'constitut', 'agreement', 'amend', 'annex', 'c', 'agreement', 'amend', 'oslo', '21', 'novemb', '1', 'decemb', '1975']),\n",
       "       list(['exhang', 'note', 'constitut', 'agreement', 'amend', 'annex', 'c', 'mutual', 'defens', 'assist', 'agreement', 'unit', 'state', 'america', 'norway']),\n",
       "       list(['exchang', 'note', 'constitut', 'agreement', 'amend', 'annex', 'c', 'agreement', 'oslo', '18', '26', 'octob', '1973']),\n",
       "       list(['exchang', 'note', 'constitut', 'agreement', 'amend', 'annex', 'c', 'agreement', 'oslo', '4', '12', 'novemb', '1968']),\n",
       "       list(['exchang', 'note', 'constitut', 'agreement', 'amend', 'annex', 'c', 'agreement', 'oslo', '23', 'novemb', '16', 'decemb', '1971']),\n",
       "       list(['exchang', 'note', 'constitut', 'agreement', 'amend', 'annex', 'c', 'mutual', 'defens', 'assist', 'agreement', 'unit', 'state', 'america', 'norway']),\n",
       "       list(['exchang', 'note', 'constitut', 'agreement', 'amend', 'annex', 'c', 'mutual', 'defens', 'assist', 'agreement', 'unit', 'state', 'america', 'norway']),\n",
       "       list(['exchang', 'note', 'constitut', 'agreement', 'amend', 'annex', 'c', 'mutual', 'defens', 'assist', 'agreement', 'unit', 'state', 'america', 'norway', 'amend']),\n",
       "       list(['exchang', 'note', 'constitut', 'agreement', 'amend', 'annex', 'c', 'mutual', 'defens', 'assist', 'agreement', 'unit', 'state', 'america', 'norway']),\n",
       "       list(['exchang', 'letter', 'constitut', 'agreement', 'concern', 'establish', 'mix', 'commiss', 'econom', 'industri', 'commerci', 'brussel', '26', 'march', '1970']),\n",
       "       list(['convent', 'belgium', 'greec', 'avoid', 'doubl', 'taxat', 'regul', 'certain', 'matter', 'respect', 'tax', 'incom']),\n",
       "       list(['trade', 'agreement', 'sign', 'copenhagen', '10', 'decemb', '1965']),\n",
       "       list(['trade', 'agreement']),\n",
       "       list(['exchang', 'letter', 'constitut', 'agreement', 'franc', 'brazil', 'concern', 'film']),\n",
       "       list(['addit', 'protocol', 'agreement']),\n",
       "       list(['agreement', 'concern', 'intern', 'road', 'transport']),\n",
       "       list(['amend', 'agreement', '27', 'march', '1969']),\n",
       "       list(['agreement', 'concern', 'field', 'tourism']),\n",
       "       list(['exchang', 'note', 'constitut', 'agreement', 'danish', 'assist', 'establish', 'institut', 'milk', 'technolog', 'valdivia', 'santiago', '27', 'januari', '1970']),\n",
       "       list(['loan', 'third', 'cukurova', 'power', 'project', 'annex', 'gener', 'condit', 'applic', 'loan', 'guarante', 'agreement', 'project', 'agreement', 'bank', 'cukurova', 'elektrik']),\n",
       "       list(['exchang', 'note', 'constitut', 'agreement', 'concern', 'weapon', 'product', 'programm', 'accord', 'term', 'condit', 'mutual', 'defens', 'assist', 'agreement', 'etween', 'unit', 'state', 'america', 'unit', 'kingdom', 'great', 'britain', 'northern', 'ireland']),\n",
       "       list(['exchang', 'note', 'constitut', 'agreement', 'relat', 'disposit', 'equip', 'materi', 'furnish', 'mutual', 'defens', 'assist', 'agreement', 'unit', 'state', 'america', 'unit', 'kingdom', 'great', 'britain', 'northern', 'ireland']),\n",
       "       list(['exchang', 'note', 'constitut', 'agreement', 'amend', 'agreement', 'unit', 'state', 'america', 'unit', 'kingdom', 'great', 'britain', 'northern', 'ireland', 'relat', 'disposit', 'equip', 'materi', 'furnish', 'mutual', 'defens', 'assist', 'agreement', '27', 'januari', '1950', 'two', 'countri']),\n",
       "       list(['mutual', 'defens', 'assist', 'agreement', 'unit', 'state', 'america', 'unit', 'kingdom', 'great', 'britain', 'northern', 'ireland']),\n",
       "       list(['loan', 'agreement', 'juam', 'region', 'water', 'suppli', 'project']),\n",
       "       list(['exchang', 'note', 'constitut', 'agreement', 'amend', 'agreement', 'relat', 'disposit', 'equip', 'materi', 'furnish', 'mutual', 'defens', 'assist', 'agreement', 'unit', 'state', 'america', 'unit', 'kingdom', 'great', 'britain', 'northern', 'ireland']),\n",
       "       list(['exchang', 'note', 'constitut', 'agreement', 'amend', 'agreement', '10', '13', 'may', '1957', 'unit', 'state', 'america', 'unit', 'kingdom', 'great', 'britain', 'northern', 'ireland', 'relat', 'disposit', 'equip', 'materi', 'furnish', 'mutual', 'defens', 'assist', 'agreement', '27', 'januari', '1950', 'two', 'countri']),\n",
       "       list(['treati', 'friendship', 'mutual', 'assist', 'czechoslovak', 'socialist', 'republ', 'union', 'soviet', 'socialist', 'republ']),\n",
       "       list(['trade', 'econom', 'agreement']),\n",
       "       list(['protocol', 'addit', 'agreement']),\n",
       "       list(['trade', 'agreement']),\n",
       "       list(['convent', 'belgium', 'peru', 'concern', 'technic', 'scientif']),\n",
       "       list(['agreement', 'ship']),\n",
       "       list(['guarante', 'agreement', 'process', 'project', 'annex', 'loan', 'regul', '4', 'amend', 'loan', 'agreement', 'bank', 'palmindustri', 'palmivoir']),\n",
       "       list(['agreement', 'amend', 'agreement', 'sign', 'washington', '18', 'septemb', '1980']),\n",
       "       list(['agreement', 'applic', 'safeguard', 'connect', 'treati', 'nuclear', 'weapon']),\n",
       "       list(['exchang', 'note', 'constitut', 'agreement', 'unit', 'state', 'america', 'iran', 'relat', 'mutual', 'defens', 'assist']),\n",
       "       list(['exchang', 'note', 'constitut', 'agreement', 'relat', 'disposit', 'militari', 'equip', 'materi', 'furnish', 'agreement', 'unit', 'state', 'america', 'iran', 'relat', 'mutual', 'defens', 'assist']),\n",
       "       list(['develop', 'credit', 'agreement', 'north', 'sumatra', 'agricultur', 'estat', 'project', 'annex', 'gener', 'condit', 'applic', 'develop', 'credit', 'agreement']),\n",
       "       list(['develop', 'credit', 'agreement', 'highway', 'project', 'annex', 'gener', 'condit', 'applic', 'develop', 'credit', 'agreement']),\n",
       "       list(['develop', 'credit', 'agreement', 'highway', 'mainten', 'project', 'annex', 'gener', 'condit', 'applic', 'develop', 'credit', 'agreement']),\n",
       "       list(['develop', 'credit', 'agreement', 'water', 'suppli', 'sewerag', 'project', 'annex', 'gener', 'condit', 'applic', 'develop', 'credit', 'agreement', 'project', 'agreement', 'associ', 'ghana', 'water', 'sewerag', 'corpor']),\n",
       "       list(['develop', 'credit', 'agreement', 'tenth', 'railway', 'project', 'annex', 'gener', 'condit', 'applic', 'develop', 'credit', 'agreement']),\n",
       "       list(['cultur', 'agreement']),\n",
       "       list(['convent', 'avoid', 'doubl', 'taxat', 'prevent', 'fiscal', 'evas', 'respect', 'tax', 'incom']),\n",
       "       list(['agreement', 'concern', 'donat', 'toward', 'execut', 'prek', 'thnot', 'power', 'irrig', 'develop', 'project']),\n",
       "       list(['exchang', 'note', 'constitut', 'agreement', 'convey', 'hous', 'hut', 'eastern', 'greenland', 'danish', 'govern', 'oslo', '28', 'april', '1969']),\n",
       "       list(['agreement', 'concern', 'abolit', 'passport', 'visa', 'fee']),\n",
       "       list(['exchang', 'note', 'constitut', 'agreement', 'netherland', 'luxembourg', 'regard', 'placement', 'netherland', 'agricultur', 'worker', 'luxembourg']),\n",
       "       list(['execut', 'agenc', 'agreement']),\n",
       "       list(['develop', 'credit', 'agreement', 'educ', 'project', 'annex', 'gener', 'condit', 'applic', 'develop', 'credit', 'agreement']),\n",
       "       list(['agreement', 'amend', 'agreement']),\n",
       "       list(['develop', 'credit', 'agreement', 'telecommun', 'project', 'annex', 'gener', 'condit', 'applic', 'develop', 'credit', 'agreement']),\n",
       "       list(['develop', 'credit', 'agreement', 'drainag', 'reclam', 'project', 'annex', 'gener', 'condit', 'applic', 'develop', 'credit', 'agreement']),\n",
       "       list(['develop', 'credit', 'agreement', 'wolamo', 'agricultur', 'projet', 'annex', 'gener', 'condit', 'applic', 'develop', 'credit', 'agreement']),\n",
       "       list(['agreement', 'transit', 'transport', 'good', 'passeng', 'territori', 'well', 'transport', 'two', 'countri', 'protocol', 'exchang', 'letter']),\n",
       "       list(['transit', 'agreement', 'protocol', 'exchang', 'letter']),\n",
       "       list(['agreement', 'regard', 'statu', 'personnel', 'send', 'state', 'attach', 'intern', 'militari', 'headquart', 'nato', 'feder', 'republ', 'germani']),\n",
       "       list(['agreement', 'regard', 'make', 'avail', 'arm', 'forc', 'unit', 'kingdom', 'great', 'britain', 'northern', 'ireland', 'unit', 'state', 'america', 'accommod', 'intern', 'militari', 'headquart', 'nato', 'feder', 'republ', 'germani']),\n",
       "       list(['develop', 'credit', 'agreement', 'technic', 'administr', 'project', 'annex', 'gener', 'condit', 'applic', 'develop', 'credit', 'agreement']),\n",
       "       list(['develop', 'credit', 'agreement', 'second', 'road', 'project', 'annex', 'gener', 'condit', 'applic', 'develop', 'credit', 'agreement']),\n",
       "       list(['agreement', 'concern', 'exchang', 'commod', 'kingdom', 'denmark', 'polish', 'republ']),\n",
       "       list(['agreement', 'applic', 'safeguard', 'connect', 'treati', 'nuclear', 'weapon']),\n",
       "       list(['convent', 'avoid', 'doubl', 'taxat', 'respect', 'tax', 'incom']),\n",
       "       list(['develop', 'credit', 'agreement', 'fisheri', 'project', 'annex', 'gener', 'condit', 'applic', 'develop', 'credit', 'agreement', 'project', 'agreement', 'associ', 'ghana', 'industri', 'hold', 'corpor']),\n",
       "       list(['standard', 'agreement', 'oper', 'assist']),\n",
       "       list(['revis', 'standard', 'agreement', 'technic', 'assist', 'sign', 'new', 'york', '17', 'juli', '1970']),\n",
       "       list(['agreement', 'purpos', 'avoid', 'doubl', 'taxat', 'incom', 'deriv', 'busi', 'sea', 'air', 'transport']),\n",
       "       list(['loan', 'agreement', 'mechan', 'farm', 'project', 'annex', 'loan', 'regul', '3', 'amend']),\n",
       "       list(['loan', 'agreement', 'boke', 'project', 'annex', 'loan', 'regul', '3', 'amend']),\n",
       "       list(['guarante', 'agreement', 'third', 'bnde', 'project', 'annex', 'loan', 'regul', '4', 'amend', 'loan', 'agreement', 'bank', 'banqu', 'national', 'pour', 'le']),\n",
       "       list(['guarante', 'agreement', 'second', 'port', 'project', 'annex', 'loan', 'regul', '4', 'amend', 'loan', 'agreement', 'bank', 'offic', 'de', 'port', 'nationaux', 'tunisien']),\n",
       "       list(['agreement', 'intern', 'carriag', 'good', 'road']),\n",
       "       list(['agreement', 'unit', 'state', 'america', 'turkey', 'concern', 'aid', 'turkey']),\n",
       "       list(['agreement', 'concern', 'settlement', 'payment', 'denmark', 'poland']),\n",
       "       list(['agreement', 'regard', 'execut', 'intern', 'develop', 'activ']),\n",
       "       list(['addit', 'protocol', 'payment', 'agreement', 'kingdom', 'denmark', 'polish', 'republ', 'date', '14', '1948']),\n",
       "       list(['exchang', 'note', 'constitut', 'agreement', 'concern', 'develop', 'loan', 'govern', 'unit', 'kingdom', 'great', 'britain', 'northern', 'ireland', 'govern', 'ecuador', 'unit', 'loan', '1969', 'quito', '15', 'novemb', '1969']),\n",
       "       list(['exchang', 'note', 'constitut', 'agreement', 'amend', 'agreement', 'quito', '30', 'decemb', '1970', '16', 'june', '1971']),\n",
       "       list(['agreement', 'concern', 'legal', 'assist', 'civil', 'matter', 'concern', 'offici', 'document', 'protocol', 'exchang', 'note', '19', 'april', '1967', '20', 'ocrob', '1967']),\n",
       "       list(['convent', 'avoid', 'doubl', 'taxat', 'prevent', 'fiscal', 'evas', 'respect', 'tax', 'incom', 'capit']),\n",
       "       list(['agreement', 'cultur']),\n",
       "       list(['convent', 'avoid', 'doubl', 'taxat', 'prevent', 'fiscal', 'evas', 'respect', 'tax', 'incom', 'capit']),\n",
       "       list(['exchang', 'note', 'constitut', 'agreement', 'extend', 'agreement', 'helsinki', '12', 'may', '1980']),\n",
       "       list(['agreement', 'concern', 'fish', 'seal', 'annex', 'exchang', 'note']),\n",
       "       list(['exchang', 'note', 'constitut', 'agreement', 'amend', 'agreement', 'sign', 'helsinki', '12', 'may', '1980']),\n",
       "       list(['agreement', 'belgium', 'iceland', 'avoid', 'doubl', 'taxat', 'incom', 'airlin']),\n",
       "       list(['supplementari', 'agreement', 'concern', 'termin', 'aagreement', 'unit', 'nation', 'govern', 'peru', 'govern', 'sweden', 'provis', 'technic', 'cadr', 'unit', 'swedish', 'forc', 'unit', 'nation', 'servic', 'assist', 'reconstruct', 'area', 'peru', 'devast', 'result', 'earthquak', 'occur', '31', 'may', '1970']),\n",
       "       list(['modu', 'operandi', 'implement', 'agreement', 'unit', 'nation', 'govern', 'peru', 'govern', 'sweden', 'provis', 'technic', 'cadr', 'unit', 'swedish', 'forc', 'unit', 'nation', 'servic', 'assist', 'reconstruct', 'area', 'peru', 'devast', 'result', 'earthquak', 'occur', '31', 'may', '1970']),\n",
       "       list(['agreement', 'unit', 'nation', 'govern', 'peru', 'govern', 'sweden', 'provis', 'technic', 'cadr', 'unit', 'swedish', 'forc', 'unit', 'nation', 'servic', 'assist', 'reconstruct', 'area', 'peru', 'devast', 'result', 'earthquak', 'occur', '31', 'may', '1970']),\n",
       "       list(['agreement', 'relat', 'contribut', 'french', 'govern', 'establish', 'oper', 'algerian', 'petroleum', 'institut']),\n",
       "       list(['agreement', 'cooper']),\n",
       "       list(['protocol', 'concern', 'exchang', 'good', 'settlement', 'payment', 'denmark', 'poland', 'period', '1', 'octob', '1950', '30', 'septemb', '1951']),\n",
       "       list(['agreement', 'concern', 'settlement', 'question', 'relat', 'hydrocarbon', 'industri', 'develop', 'algeria', 'protocol', 'annex', 'exchang', 'letter']),\n",
       "       list(['agreement', 'air', 'servic', 'beyond', 'respect', 'territori']),\n",
       "       list(['protocol', 'authent', 'trilingu', 'text', 'convent', 'intern', 'civil', 'aviat', 'chicago', '1944', 'annex', 'rectif', '8', 'april', '1969']),\n",
       "       list(['exchang', 'note', 'constitut', 'agreement', 'amend', 'agreement', 'amend', 'saigon', '15', 'may', '1970']),\n",
       "       list(['supplementari', 'agreement', 'sale', 'agricultur', 'commod']),\n",
       "       list(['exchang', 'note', 'constitut', 'agreement', 'amend', 'agreement', 'amend', 'saigon', '19', 'june', '1970']),\n",
       "       list(['supplementari', 'agreement', 'sale', 'agricultur', 'commod']),\n",
       "       list(['exchang', 'note', 'constitut', 'agreement', 'concern', 'provis', 'instal', 'certain', 'distanc', 'measur', 'equip', 'plaisanc', 'airfield', 'mauritiu', 'fort', 'loui', '4', 'novemb', '29', 'decemb', '1969']),\n",
       "       list(['agreement', 'concern', 'establish', 'unit', 'state', 'naval', 'medic', 'research', 'unit', 'indonesia']),\n",
       "       list(['exchang', 'note', 'constitut', 'agreement', 'concern', 'export', 'new', 'zealand', 'import', 'unit', 'state', 'certain', 'specifi', 'meat', 'washington', '31', 'decemb', '1970']),\n",
       "       list(['exchang', 'note', 'constitut', 'agreement', 'relat', 'import', 'meat', 'unit', 'state', 'consumpt', 'calendar', 'year', '1970', 'washington', '29', 'januari', '1970']),\n",
       "       list(['exchang', 'note', 'constitut', 'agreement', 'relat', 'import', 'unit', 'state', 'meat', 'calendar', 'year', '1970', 'washington', '29', '30', 'januari', '1970']),\n",
       "       list(['exchang', 'note', 'constitut', 'agreement', 'concern', 'export', 'australia', 'import', 'unit', 'state', 'certain', 'specifi', 'meat', 'washington', '31', 'decemb', '1970']),\n",
       "       list(['exchang', 'note', 'constitut', 'agreement', 'concern', 'export', 'ireland', 'import', 'unit', 'state', 'certain', 'specifi', 'meat', 'washington', '31', 'decemb', '1970']),\n",
       "       list(['exchang', 'note', 'constitut', 'agreement', 'relat', 'import', 'meat', 'unit', 'state', 'consumpt', 'calendar', 'year', '1970', 'washington', '30', 'januari', '1970']),\n",
       "       list(['basic', 'agreement', 'establish', 'technic', 'advisori', 'cooper', 'relat']),\n",
       "       list(['treati', 'friendship', 'kingdom', 'thailand', 'republ', 'philippin']),\n",
       "       list(['agreement', 'unit', 'state', 'america', 'malaysia', 'amend', 'air', 'transport', 'agreement', '2', 'februari', '1970', 'amend']),\n",
       "       list(['agreement', 'unit', 'state', 'america', 'malaysia', 'amend', 'air', 'transport', 'agreement', '2', 'februari', '1970', 'amend']),\n",
       "       list(['exchang', 'note', 'constitut', 'agreement', 'amend', 'agreement', 'memorandum', 'consult', '1', 'juli', '1974', 'kuala', 'lumpur', '6', 'septemb', '1974', '5', 'februari', '1975']),\n",
       "       list(['agreement', 'unit', 'state', 'america', 'malaysia', 'amend', 'air', 'servic', 'agreement', 'februari', '2', '1970', 'amend']),\n",
       "       list(['air', 'transport', 'agreement', 'govern', 'unit', 'state', 'america', 'govern', 'malaysia']),\n",
       "       list(['exchang', 'letter', 'constitut', 'agreement', 'amend', 'agreement', '3', 'februari', '1970']),\n",
       "       list(['agreement', 'financ', 'certain', 'educ', 'cultur', 'exchang', 'program']),\n",
       "       list(['exchang', 'note', 'constitut', 'agreement', 'provid', 'framework', 'assist', 'unit', 'state', 'america', 'small', 'develop', 'activ', 'republ', 'burundi', 'bujumbura', '13', '18', 'februari', '1970']),\n",
       "       list(['exchang', 'note', 'constitut', 'agreement', 'relat', 'use', 'certain', 'facil', 'unit', 'state', 'air', 'forc', 'pinetre', 'radar', 'site', 'hopedal', 'labrador', 'canada', 'ottawa', '11', 'june', '19', 'septemb', '1969', '24', 'februari', '1970']),\n",
       "       list(['agreement', 'unit', 'state', 'america', 'norway', 'amend', 'agreement', 'februari', '26', '1970', 'relat', 'safeguard', 'classifi', 'inform']),\n",
       "       list(['exchang', 'note', 'constitut', 'agreement', 'relat', 'safeguard', 'classifi', 'inform']),\n",
       "       list(['exchang', 'note', 'constitut', 'agreement', 'concern', 'preparatori', 'measur', 'transfer', 'administr', 'right', 'okinawa', 'japan', 'tokyo', '3', 'march', '1970']),\n",
       "       list(['exchang', 'note', 'constitut', 'agreement', 'relat', 'import', 'meat', 'unit', 'state', 'consumpt', 'calendar', 'year', '1970', 'panama', '12', 'februari', '4', 'march', '1970']),\n",
       "       list(['exchang', 'note', 'constitut', 'agreement', 'relat', 'import', 'meat', 'unit', 'state', 'consumpt', 'calendar', 'year', '1970', 'san', '6', 'march', '1970']),\n",
       "       list(['exchang', 'letter', 'constitut', 'agreement', 'relat', 'agreement', 'san', '17', '23', 'juli', '1970']),\n",
       "       list(['second', 'supplementari', 'agreement', 'sale', 'agricultur', 'commod'])],\n",
       "      dtype=object)"
      ]
     },
     "execution_count": 25,
     "metadata": {},
     "output_type": "execute_result"
    }
   ],
   "source": [
    "titles_array"
   ]
  },
  {
   "cell_type": "code",
   "execution_count": 26,
   "metadata": {},
   "outputs": [
    {
     "ename": "SyntaxError",
     "evalue": "invalid syntax (<ipython-input-26-c5d2da2041ec>, line 1)",
     "output_type": "error",
     "traceback": [
      "\u001b[0;36m  File \u001b[0;32m\"<ipython-input-26-c5d2da2041ec>\"\u001b[0;36m, line \u001b[0;32m1\u001b[0m\n\u001b[0;31m    valid_titles = titles_array(index in ex_word_counts_array if index >= 3)\u001b[0m\n\u001b[0m                                                                           ^\u001b[0m\n\u001b[0;31mSyntaxError\u001b[0m\u001b[0;31m:\u001b[0m invalid syntax\n"
     ]
    }
   ],
   "source": [
    "valid_titles = titles_array(index in ex_word_counts_array if index >= 3)"
   ]
  },
  {
   "cell_type": "markdown",
   "metadata": {},
   "source": [
    "#### Result:"
   ]
  },
  {
   "cell_type": "code",
   "execution_count": null,
   "metadata": {},
   "outputs": [],
   "source": []
  },
  {
   "cell_type": "markdown",
   "metadata": {},
   "source": [
    "#### Task 6\n",
    "##### Use the function we defined in class that takes a list of character strings and a name of an output file and writes it into a txt file."
   ]
  },
  {
   "cell_type": "code",
   "execution_count": 30,
   "metadata": {},
   "outputs": [],
   "source": [
    "# Define function.\n",
    "def write_lines(lines, filename):   #<- given lines to write and filename\n",
    "    joined_lines = '\\n'.join(lines) #<- join lines with line breaks\n",
    "    file = open(ex_out_filename, 'w')  #<- open write only file \n",
    "    file.write(joined_lines)        #<- write lines to file\n",
    "    file.close()                    #<- close connection"
   ]
  },
  {
   "cell_type": "markdown",
   "metadata": {},
   "source": [
    "##### Save output file name to a variable `ex_out_filename` and call the text file \"ex_clean_titles.txt\"."
   ]
  },
  {
   "cell_type": "markdown",
   "metadata": {},
   "source": [
    "#### Result:"
   ]
  },
  {
   "cell_type": "code",
   "execution_count": null,
   "metadata": {},
   "outputs": [],
   "source": []
  },
  {
   "cell_type": "markdown",
   "metadata": {},
   "source": [
    "## Exercise 3"
   ]
  },
  {
   "cell_type": "markdown",
   "metadata": {},
   "source": [
    "#### Task 1\n",
    "##### Create a `CountVectorizer()` and save it as `ex_vec`.\n",
    "##### Create a DTM of the `titles_clean_list` and name it `ex_X`.\n",
    "##### Convert `ex_X` to an array.\n",
    "##### Print the  first 20 feature names of `ex_vec`.\n",
    "##### Convert `ex_X` to a pandas dataframe `ex_DTM` and print the top 5 lines."
   ]
  },
  {
   "cell_type": "markdown",
   "metadata": {},
   "source": [
    "#### Result:"
   ]
  },
  {
   "cell_type": "code",
   "execution_count": null,
   "metadata": {},
   "outputs": [],
   "source": []
  },
  {
   "cell_type": "markdown",
   "metadata": {},
   "source": [
    "#### Task 2\n",
    "##### Use the convenience function that sorts and looks at first n-entries in the dictionary we defined in class."
   ]
  },
  {
   "cell_type": "code",
   "execution_count": 36,
   "metadata": {},
   "outputs": [],
   "source": [
    "def HeadDict(dict_x, n):\n",
    "    # Get items from the dictionary and sort them by\n",
    "    # value key in descending (i.e. reverse) order.\n",
    "    sorted_x = sorted(dict_x.items(),\n",
    "    reverse = True,\n",
    "    key = lambda kv: kv[1])\n",
    "    # Convert sorted dictionary to a list.\n",
    "    dict_x_list = list(sorted_x)\n",
    "    # Return the first `n` values from the dictionary only.\n",
    "    return(dict(dict_x_list[:n]))"
   ]
  },
  {
   "cell_type": "markdown",
   "metadata": {},
   "source": [
    "#####  Sum the counts of each word in all documents and save the series as a dictionary `ex_corpus_freq_dist`.\n",
    "##### Print the top 30 words and their counts in `ex_corpus_freq_dist`."
   ]
  },
  {
   "cell_type": "markdown",
   "metadata": {},
   "source": [
    "#### Result:"
   ]
  },
  {
   "cell_type": "code",
   "execution_count": null,
   "metadata": {},
   "outputs": [],
   "source": []
  },
  {
   "cell_type": "markdown",
   "metadata": {},
   "source": [
    "#### Task 3\n",
    "##### Save `ex_X`, `ex_DTM`, `ex_word_counts_array`, `valid_titles`, `titles_clean`,  `titles_clean_list` and `ex_corpus_freq_dist`  files as pickles `ex_DTM_matrix`, `ex_DTM`, `ex_word_counts_array`, `valid_titles`, `ex_titles_clean`, `ex_titles_clean_list` and `ex_corpus_freq_dist` to be used in the next module."
   ]
  },
  {
   "cell_type": "markdown",
   "metadata": {},
   "source": [
    "#### Result:"
   ]
  },
  {
   "cell_type": "code",
   "execution_count": null,
   "metadata": {},
   "outputs": [],
   "source": []
  }
 ],
 "metadata": {
  "kernelspec": {
   "display_name": "Python 3",
   "language": "python",
   "name": "python3"
  },
  "language_info": {
   "codemirror_mode": {
    "name": "ipython",
    "version": 3
   },
   "file_extension": ".py",
   "mimetype": "text/x-python",
   "name": "python",
   "nbconvert_exporter": "python",
   "pygments_lexer": "ipython3",
   "version": "3.7.11"
  },
  "varInspector": {
   "cols": {
    "lenName": 16,
    "lenType": 16,
    "lenVar": 40
   },
   "kernels_config": {
    "python": {
     "delete_cmd_postfix": "",
     "delete_cmd_prefix": "del ",
     "library": "var_list.py",
     "varRefreshCmd": "print(var_dic_list())"
    },
    "r": {
     "delete_cmd_postfix": ") ",
     "delete_cmd_prefix": "rm(",
     "library": "var_list.r",
     "varRefreshCmd": "cat(var_dic_list()) "
    }
   },
   "types_to_exclude": [
    "module",
    "function",
    "builtin_function_or_method",
    "instance",
    "_Feature"
   ],
   "window_display": false
  }
 },
 "nbformat": 4,
 "nbformat_minor": 2
}
