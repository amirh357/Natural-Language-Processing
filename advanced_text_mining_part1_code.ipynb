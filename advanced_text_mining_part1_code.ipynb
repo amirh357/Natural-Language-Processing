{
 "cells": [
  {
   "cell_type": "code",
   "execution_count": null,
   "id": "859332e2",
   "metadata": {},
   "outputs": [],
   "source": [
    "\n",
    "#######################################################\n",
    "#######################################################\n",
    "############    COPYRIGHT - DATA SOCIETY   ############\n",
    "#######################################################\n",
    "#######################################################\n",
    "\n",
    "## ADVANCED TEXT MINING PART1 ##\n",
    "\n",
    "## NOTE: To run individual pieces of code, select the line of code and\n",
    "##       press ctrl + enter for PCs or command + enter for Macs\n",
    "\n"
   ]
  },
  {
   "cell_type": "code",
   "execution_count": 2,
   "id": "85a05d86",
   "metadata": {},
   "outputs": [
    {
     "name": "stderr",
     "output_type": "stream",
     "text": [
      "/Users/amirmokhtari/anaconda3/lib/python3.7/site-packages/ipykernel/ipkernel.py:287: DeprecationWarning: `should_run_async` will not call `transform_cell` automatically in the future. Please pass the result to `transformed_cell` argument and any exception that happen during thetransform in `preprocessing_exc_tuple` in IPython 7.17 and above.\n",
      "  and should_run_async(code)\n"
     ]
    }
   ],
   "source": [
    "#=================================================-\n",
    "#### Slide 17: Import packages  ####\n",
    "\n",
    "# Helper packages.\n",
    "import os\n",
    "import pickle\n",
    "import pandas as pd\n",
    "import numpy as np\n",
    "\n",
    "# Cosine similarity and clustering packages.\n",
    "from sklearn.metrics.pairwise import cosine_similarity\n",
    "from scipy.cluster.hierarchy import ward, dendrogram, fcluster\n",
    "from gensim import matutils\n",
    "\n",
    "# Network creation and visualization.\n",
    "import networkx as nx\n",
    "from pyvis.network import Network\n",
    "\n",
    "# Other plotting tools.\n",
    "import pyLDAvis\n",
    "import pyLDAvis.gensim\n",
    "import matplotlib.pyplot as plt\n",
    "\n"
   ]
  },
  {
   "cell_type": "code",
   "execution_count": 3,
   "id": "272cafbc",
   "metadata": {},
   "outputs": [
    {
     "name": "stderr",
     "output_type": "stream",
     "text": [
      "/Users/amirmokhtari/anaconda3/lib/python3.7/site-packages/ipykernel/ipkernel.py:287: DeprecationWarning: `should_run_async` will not call `transform_cell` automatically in the future. Please pass the result to `transformed_cell` argument and any exception that happen during thetransform in `preprocessing_exc_tuple` in IPython 7.17 and above.\n",
      "  and should_run_async(code)\n"
     ]
    }
   ],
   "source": [
    "#=================================================-\n",
    "#### Slide 18: Directory settings  ####\n",
    "\n",
    "from pathlib import Path\n",
    "# Set `home_dir` to the root directory of your computer.\n",
    "home_dir = Path.home()\n",
    "\n",
    "# Set `main_dir` to the location of your `booz-allen-hamilton` folder.\n",
    "main_dir = home_dir / \"Documents\" / \"NLP_Intro\" / \"advanced-text-mining-main\"\n",
    "\n",
    "# Make `data_dir` from the `main_dir` and remainder of the path to data directory.\n",
    "data_dir = main_dir / \"data\"\n",
    "# Make `plots_dir` from the `main_dir` and remainder of the path to plots directory.\n",
    "plot_dir = main_dir / \"plots\"\n",
    "\n"
   ]
  },
  {
   "cell_type": "code",
   "execution_count": 4,
   "id": "05e74669",
   "metadata": {},
   "outputs": [
    {
     "name": "stdout",
     "output_type": "stream",
     "text": [
      "/Users/amirmokhtari/Documents/NLP_Intro/advanced-text-mining-main/data\n"
     ]
    },
    {
     "name": "stderr",
     "output_type": "stream",
     "text": [
      "/Users/amirmokhtari/anaconda3/lib/python3.7/site-packages/ipykernel/ipkernel.py:287: DeprecationWarning: `should_run_async` will not call `transform_cell` automatically in the future. Please pass the result to `transformed_cell` argument and any exception that happen during thetransform in `preprocessing_exc_tuple` in IPython 7.17 and above.\n",
      "  and should_run_async(code)\n"
     ]
    }
   ],
   "source": [
    "#=================================================-\n",
    "#### Slide 19: Working directory  ####\n",
    "\n",
    "# Set working directory.\n",
    "os.chdir(data_dir)\n",
    "# Check working directory.\n",
    "print(os.getcwd())\n",
    "\n"
   ]
  },
  {
   "cell_type": "code",
   "execution_count": 5,
   "id": "deacc140",
   "metadata": {},
   "outputs": [
    {
     "name": "stderr",
     "output_type": "stream",
     "text": [
      "/Users/amirmokhtari/anaconda3/lib/python3.7/site-packages/ipykernel/ipkernel.py:287: DeprecationWarning: `should_run_async` will not call `transform_cell` automatically in the future. Please pass the result to `transformed_cell` argument and any exception that happen during thetransform in `preprocessing_exc_tuple` in IPython 7.17 and above.\n",
      "  and should_run_async(code)\n"
     ]
    }
   ],
   "source": [
    "#=================================================-\n",
    "#### Slide 20: Import data  ####\n",
    "\n",
    "# Load NYT article data from original file.\n",
    "NYT = pd.read_csv('NYT_article_data.csv')\n",
    "\n",
    "# Load pickled data and models.\n",
    "\n",
    "# Cosine similarity matrix computed from DTM TF-IDF matrix\n",
    "similarity_df = pickle.load(open(\"similarity_df.sav\",\"rb\"))\n",
    "similarity = pickle.load(open(\"similarity.sav\",\"rb\"))\n",
    "\n",
    "# Indices of documents with word counts over `5`\n",
    "valid_snippets = pickle.load(open(\"valid_snippets.sav\",\"rb\"))\n",
    "\n",
    "# A list of document id, topic id and topic probability for that document derived from LDA model\n",
    "doc_topic_pairs_df = pickle.load(open(\"doc_topic_pairs_df.sav\",\"rb\"))\n",
    "\n",
    "# An array of word counts per snippet.\n",
    "word_counts_array = pickle.load(open(\"word_counts_array.sav\",\"rb\"))\n",
    "\n"
   ]
  },
  {
   "cell_type": "code",
   "execution_count": 31,
   "id": "994516e2",
   "metadata": {},
   "outputs": [
    {
     "name": "stderr",
     "output_type": "stream",
     "text": [
      "/Users/amirmokhtari/anaconda3/lib/python3.7/site-packages/ipykernel/ipkernel.py:287: DeprecationWarning: `should_run_async` will not call `transform_cell` automatically in the future. Please pass the result to `transformed_cell` argument and any exception that happen during thetransform in `preprocessing_exc_tuple` in IPython 7.17 and above.\n",
      "  and should_run_async(code)\n"
     ]
    },
    {
     "data": {
      "text/plain": [
       "array([[1.0000002 , 0.        , 0.        , ..., 0.        , 0.        ,\n",
       "        0.        ],\n",
       "       [0.        , 1.        , 0.        , ..., 0.        , 0.        ,\n",
       "        0.        ],\n",
       "       [0.        , 0.        , 1.        , ..., 0.        , 0.        ,\n",
       "        0.        ],\n",
       "       ...,\n",
       "       [0.        , 0.        , 0.        , ..., 1.        , 0.        ,\n",
       "        0.        ],\n",
       "       [0.        , 0.        , 0.        , ..., 0.        , 1.        ,\n",
       "        0.40786082],\n",
       "       [0.        , 0.        , 0.        , ..., 0.        , 0.40786082,\n",
       "        1.0000001 ]], dtype=float32)"
      ]
     },
     "execution_count": 31,
     "metadata": {},
     "output_type": "execute_result"
    }
   ],
   "source": [
    "similarity"
   ]
  },
  {
   "cell_type": "code",
   "execution_count": 6,
   "id": "06db0f0a",
   "metadata": {},
   "outputs": [
    {
     "name": "stderr",
     "output_type": "stream",
     "text": [
      "/Users/amirmokhtari/anaconda3/lib/python3.7/site-packages/ipykernel/ipkernel.py:287: DeprecationWarning: `should_run_async` will not call `transform_cell` automatically in the future. Please pass the result to `transformed_cell` argument and any exception that happen during thetransform in `preprocessing_exc_tuple` in IPython 7.17 and above.\n",
      "  and should_run_async(code)\n"
     ]
    }
   ],
   "source": [
    "#=================================================-\n",
    "#### Slide 21: Compute a graph from similarity object  ####\n",
    "\n",
    "# Create a graph object from the similarity matrix.\n",
    "graph = nx.from_pandas_adjacency(similarity_df)\n",
    "\n"
   ]
  },
  {
   "cell_type": "code",
   "execution_count": 7,
   "id": "cb8cf32d",
   "metadata": {},
   "outputs": [
    {
     "name": "stdout",
     "output_type": "stream",
     "text": [
      "   source  target    weight\n",
      "0       0       0  1.000000\n",
      "1       0       7  0.101372\n",
      "2       0       8  0.100684\n",
      "3       0       9  0.052663\n",
      "4       0      11  0.084635\n",
      "(6163, 3)\n"
     ]
    },
    {
     "name": "stderr",
     "output_type": "stream",
     "text": [
      "/Users/amirmokhtari/anaconda3/lib/python3.7/site-packages/ipykernel/ipkernel.py:287: DeprecationWarning: `should_run_async` will not call `transform_cell` automatically in the future. Please pass the result to `transformed_cell` argument and any exception that happen during thetransform in `preprocessing_exc_tuple` in IPython 7.17 and above.\n",
      "  and should_run_async(code)\n"
     ]
    }
   ],
   "source": [
    "#=================================================-\n",
    "#### Slide 23: Compute an edgelist from graph  ####\n",
    "\n",
    "# Convert it to a dataframe in a form of an edgelist.\n",
    "edgelist_df = nx.to_pandas_edgelist(graph)\n",
    "\n",
    "# Take a look at the dataframe of edges.\n",
    "print(edgelist_df.head())\n",
    "print(edgelist_df.shape)\n",
    "\n"
   ]
  },
  {
   "cell_type": "code",
   "execution_count": 8,
   "id": "cc562e87",
   "metadata": {},
   "outputs": [
    {
     "name": "stderr",
     "output_type": "stream",
     "text": [
      "/Users/amirmokhtari/anaconda3/lib/python3.7/site-packages/ipykernel/ipkernel.py:287: DeprecationWarning: `should_run_async` will not call `transform_cell` automatically in the future. Please pass the result to `transformed_cell` argument and any exception that happen during thetransform in `preprocessing_exc_tuple` in IPython 7.17 and above.\n",
      "  and should_run_async(code)\n"
     ]
    },
    {
     "data": {
      "image/png": "[encoded data removed]",
      "text/plain": [
       "<Figure size 432x288 with 1 Axes>"
      ]
     },
     "metadata": {
      "needs_background": "light"
     },
     "output_type": "display_data"
    }
   ],
   "source": [
    "#=================================================-\n",
    "#### Slide 24: Cosine similarity score distribution  ####\n",
    "\n",
    "# Plot the weights of edges (i.e. similarity scores).\n",
    "plt.hist(edgelist_df['weight'])\n",
    "plt.xlabel('Cosine similarity score')\n",
    "plt.title('Cosine similarity score distribution')\n",
    "plt.show()\n",
    "\n"
   ]
  },
  {
   "cell_type": "code",
   "execution_count": 9,
   "id": "783f9344",
   "metadata": {},
   "outputs": [
    {
     "name": "stderr",
     "output_type": "stream",
     "text": [
      "/Users/amirmokhtari/anaconda3/lib/python3.7/site-packages/ipykernel/ipkernel.py:287: DeprecationWarning: `should_run_async` will not call `transform_cell` automatically in the future. Please pass the result to `transformed_cell` argument and any exception that happen during thetransform in `preprocessing_exc_tuple` in IPython 7.17 and above.\n",
      "  and should_run_async(code)\n"
     ]
    },
    {
     "data": {
      "image/png": "[encoded data removed]",
      "text/plain": [
       "<Figure size 432x288 with 1 Axes>"
      ]
     },
     "metadata": {
      "needs_background": "light"
     },
     "output_type": "display_data"
    }
   ],
   "source": [
    "#=================================================-\n",
    "#### Slide 25: Filter out edges  ####\n",
    "\n",
    "# Filter out all entries below 0.4 and above 0.9.\n",
    "edgelist_df = edgelist_df.query('weight>0.4 and weight<0.9')\n",
    "\n",
    "# Plot the weights of edges (i.e. similarity scores).\n",
    "plt.hist(edgelist_df['weight'])\n",
    "plt.xlabel('Cosine similarity score')\n",
    "plt.ylabel('Score counts')\n",
    "plt.title('Cosine similarity score distribution')\n",
    "plt.show()\n",
    "\n"
   ]
  },
  {
   "cell_type": "code",
   "execution_count": 10,
   "id": "c0eb1a10",
   "metadata": {},
   "outputs": [
    {
     "name": "stdout",
     "output_type": "stream",
     "text": [
      "     source  target    weight\n",
      "7         0      17  0.402407\n",
      "18        0      60  0.412396\n",
      "127       2     234  0.419921\n",
      "139       2     219  0.419921\n",
      "180       3      58  0.616884\n",
      "(234, 3)\n"
     ]
    },
    {
     "name": "stderr",
     "output_type": "stream",
     "text": [
      "/Users/amirmokhtari/anaconda3/lib/python3.7/site-packages/ipykernel/ipkernel.py:287: DeprecationWarning: `should_run_async` will not call `transform_cell` automatically in the future. Please pass the result to `transformed_cell` argument and any exception that happen during thetransform in `preprocessing_exc_tuple` in IPython 7.17 and above.\n",
      "  and should_run_async(code)\n"
     ]
    }
   ],
   "source": [
    "#=================================================-\n",
    "#### Slide 26: Check edges data and number of edges  ####\n",
    "\n",
    "# Take a look at the dataframe of edges.\n",
    "print(edgelist_df.head())\n",
    "print(edgelist_df.shape)\n",
    "\n"
   ]
  },
  {
   "cell_type": "code",
   "execution_count": 11,
   "id": "f56bcff2",
   "metadata": {},
   "outputs": [
    {
     "name": "stdout",
     "output_type": "stream",
     "text": [
      "{\n",
      "    \"Nodes\": [],\n",
      "    \"Edges\": [],\n",
      "    \"Height\": \"100%\",\n",
      "    \"Width\": \"60%\",\n",
      "    \"Heading\": \"\"\n",
      "}\n"
     ]
    },
    {
     "name": "stderr",
     "output_type": "stream",
     "text": [
      "/Users/amirmokhtari/anaconda3/lib/python3.7/site-packages/ipykernel/ipkernel.py:287: DeprecationWarning: `should_run_async` will not call `transform_cell` automatically in the future. Please pass the result to `transformed_cell` argument and any exception that happen during thetransform in `preprocessing_exc_tuple` in IPython 7.17 and above.\n",
      "  and should_run_async(code)\n"
     ]
    }
   ],
   "source": [
    "#=================================================-\n",
    "#### Slide 29: Create network and set base parameters (cont'd)  ####\n",
    "\n",
    "# Create an empty network object.\n",
    "network = Network(height=\"100%\",\n",
    "                  width=\"60%\",\n",
    "                  bgcolor=\"#FFFFFF\",\n",
    "                  font_color=\"#000000\")\n",
    "\n",
    "# Set the physics layout of the network.\n",
    "network.force_atlas_2based()\n",
    "network.set_edge_smooth('dynamic')\n",
    "print(network)\n",
    "\n"
   ]
  },
  {
   "cell_type": "code",
   "execution_count": 12,
   "id": "6e86554e",
   "metadata": {},
   "outputs": [
    {
     "name": "stderr",
     "output_type": "stream",
     "text": [
      "/Users/amirmokhtari/anaconda3/lib/python3.7/site-packages/ipykernel/ipkernel.py:287: DeprecationWarning: `should_run_async` will not call `transform_cell` automatically in the future. Please pass the result to `transformed_cell` argument and any exception that happen during thetransform in `preprocessing_exc_tuple` in IPython 7.17 and above.\n",
      "  and should_run_async(code)\n"
     ]
    }
   ],
   "source": [
    "#=================================================-\n",
    "#### Slide 30: Populate network with edge and node data  ####\n",
    "\n",
    "# Zip columns of edgelist data into a set of tuples.\n",
    "edge_data = zip(edgelist_df['source'], edgelist_df['target'], edgelist_df['weight'])\n",
    "\n",
    "# Iterate through the edge data.\n",
    "for e in edge_data:\n",
    "    src = e[0] #<- get the source node\n",
    "    dst = e[1] #<- get the destination (i.e. target node)\n",
    "    w = e[2]   #<- get the weight of the edge\n",
    "\n",
    "    # Add a source node with its information.\n",
    "    network.add_node(src, src, title = src)\n",
    "    # Add a destination node with its information.\n",
    "    network.add_node(dst, dst, title = dst)\n",
    "    # Add an edge between source and destination nodes with weight w.\n",
    "    network.add_edge(src, dst, value = w)\n",
    "\n",
    "\n"
   ]
  },
  {
   "cell_type": "code",
   "execution_count": 13,
   "id": "8d920e44",
   "metadata": {},
   "outputs": [
    {
     "name": "stdout",
     "output_type": "stream",
     "text": [
      "[{'title': 0, 'id': 0, 'label': 0, 'shape': 'dot', 'font': {'color': '#000000'}}, {'title': 17, 'id': 17, 'label': 17, 'shape': 'dot', 'font': {'color': '#000000'}}, {'title': 60, 'id': 60, 'label': 60, 'shape': 'dot', 'font': {'color': '#000000'}}, {'title': 2, 'id': 2, 'label': 2, 'shape': 'dot', 'font': {'color': '#000000'}}, {'title': 234, 'id': 234, 'label': 234, 'shape': 'dot', 'font': {'color': '#000000'}}]\n",
      "[{'value': 0.4024067223072052, 'from': 0, 'to': 17}, {'value': 0.41239631175994873, 'from': 0, 'to': 60}, {'value': 0.4199207127094269, 'from': 2, 'to': 234}, {'value': 0.4199207127094269, 'from': 2, 'to': 219}, {'value': 0.6168836951255798, 'from': 3, 'to': 58}]\n"
     ]
    },
    {
     "name": "stderr",
     "output_type": "stream",
     "text": [
      "/Users/amirmokhtari/anaconda3/lib/python3.7/site-packages/ipykernel/ipkernel.py:287: DeprecationWarning: `should_run_async` will not call `transform_cell` automatically in the future. Please pass the result to `transformed_cell` argument and any exception that happen during thetransform in `preprocessing_exc_tuple` in IPython 7.17 and above.\n",
      "  and should_run_async(code)\n"
     ]
    }
   ],
   "source": [
    "#=================================================-\n",
    "#### Slide 31: Inspect populated network  ####\n",
    "\n",
    "print(network.nodes[0:5])\n",
    "print(network.edges[0:5])\n",
    "\n"
   ]
  },
  {
   "cell_type": "code",
   "execution_count": 14,
   "id": "acd476b7",
   "metadata": {},
   "outputs": [
    {
     "name": "stdout",
     "output_type": "stream",
     "text": [
      "{0, 140, 236, 141}\n"
     ]
    },
    {
     "name": "stderr",
     "output_type": "stream",
     "text": [
      "/Users/amirmokhtari/anaconda3/lib/python3.7/site-packages/ipykernel/ipkernel.py:287: DeprecationWarning: `should_run_async` will not call `transform_cell` automatically in the future. Please pass the result to `transformed_cell` argument and any exception that happen during thetransform in `preprocessing_exc_tuple` in IPython 7.17 and above.\n",
      "  and should_run_async(code)\n"
     ]
    }
   ],
   "source": [
    "#=================================================-\n",
    "#### Slide 32: Get neighbor map for each node  ####\n",
    "\n",
    "# Get a list of node neighbors.\n",
    "neighbor_map = network.get_adj_list()\n",
    "\n",
    "# Show documents most similar to document 17.\n",
    "print(neighbor_map[17])\n",
    "\n"
   ]
  },
  {
   "cell_type": "code",
   "execution_count": 15,
   "id": "ee7a3d29",
   "metadata": {},
   "outputs": [
    {
     "name": "stdout",
     "output_type": "stream",
     "text": [
      "{'title': 'Most similar articles: <br>17<br>60', 'id': 0, 'label': 0, 'shape': 'dot', 'font': {'color': '#000000'}}\n"
     ]
    },
    {
     "name": "stderr",
     "output_type": "stream",
     "text": [
      "/Users/amirmokhtari/anaconda3/lib/python3.7/site-packages/ipykernel/ipkernel.py:287: DeprecationWarning: `should_run_async` will not call `transform_cell` automatically in the future. Please pass the result to `transformed_cell` argument and any exception that happen during thetransform in `preprocessing_exc_tuple` in IPython 7.17 and above.\n",
      "  and should_run_async(code)\n"
     ]
    }
   ],
   "source": [
    "#=================================================-\n",
    "#### Slide 33: Add similarity information into the hover over  ####\n",
    "\n",
    "# Add neighbor data to node hover data.\n",
    "for node in network.nodes:\n",
    "    title = \"Most similar articles: <br>\"\n",
    "    neighbors = list(neighbor_map[node[\"id\"]])\n",
    "    title = title + \"<br>\".join(str(neighbor) for neighbor in neighbors)\n",
    "    node[\"title\"] = title\n",
    "\n",
    "print(network.nodes[0])\n",
    "\n"
   ]
  },
  {
   "cell_type": "code",
   "execution_count": 28,
   "id": "fdf37744",
   "metadata": {},
   "outputs": [
    {
     "name": "stderr",
     "output_type": "stream",
     "text": [
      "/Users/amirmokhtari/anaconda3/lib/python3.7/site-packages/ipykernel/ipkernel.py:287: DeprecationWarning: `should_run_async` will not call `transform_cell` automatically in the future. Please pass the result to `transformed_cell` argument and any exception that happen during thetransform in `preprocessing_exc_tuple` in IPython 7.17 and above.\n",
      "  and should_run_async(code)\n"
     ]
    }
   ],
   "source": [
    "#=================================================-\n",
    "#### Slide 34: Save and show the network graph  ####\n",
    "\n",
    "# Save html and show graph in browser.\n",
    "network.show(os.path.join(plot_dir , \"NYT_similar_snippets.html\"))\n",
    "\n"
   ]
  },
  {
   "cell_type": "code",
   "execution_count": 24,
   "id": "d4e76888",
   "metadata": {},
   "outputs": [
    {
     "name": "stderr",
     "output_type": "stream",
     "text": [
      "/Users/amirmokhtari/anaconda3/lib/python3.7/site-packages/ipykernel/ipkernel.py:287: DeprecationWarning: `should_run_async` will not call `transform_cell` automatically in the future. Please pass the result to `transformed_cell` argument and any exception that happen during thetransform in `preprocessing_exc_tuple` in IPython 7.17 and above.\n",
      "  and should_run_async(code)\n"
     ]
    },
    {
     "data": {
      "text/plain": [
       "PosixPath('/Users/amirmokhtari/Documents/NLP_Intro/advanced-text-mining-main/plots')"
      ]
     },
     "execution_count": 24,
     "metadata": {},
     "output_type": "execute_result"
    }
   ],
   "source": [
    "plot_dir"
   ]
  },
  {
   "cell_type": "code",
   "execution_count": 25,
   "id": "6a1cd6ec",
   "metadata": {},
   "outputs": [
    {
     "name": "stdout",
     "output_type": "stream",
     "text": [
      "      source  target    weight\n",
      "1321      31      77  0.539880\n",
      "1326      31     115  0.485577\n",
      "1328      31     118  0.659343\n",
      "1331      31     223  0.659343\n",
      "1332      31     200  0.401721\n",
      "1334      31     192  0.526407\n",
      "1338      31     193  0.447311\n",
      "1344      31     163  0.423019\n"
     ]
    },
    {
     "name": "stderr",
     "output_type": "stream",
     "text": [
      "/Users/amirmokhtari/anaconda3/lib/python3.7/site-packages/ipykernel/ipkernel.py:287: DeprecationWarning: `should_run_async` will not call `transform_cell` automatically in the future. Please pass the result to `transformed_cell` argument and any exception that happen during thetransform in `preprocessing_exc_tuple` in IPython 7.17 and above.\n",
      "  and should_run_async(code)\n"
     ]
    }
   ],
   "source": [
    "#=================================================-\n",
    "#### Slide 37: What does \"most similar articles\" mean?  ####\n",
    "\n",
    "edgelist_df_subset = edgelist_df.query(\"source==31\")\n",
    "print(edgelist_df_subset)\n",
    "\n"
   ]
  },
  {
   "cell_type": "code",
   "execution_count": 26,
   "id": "5a79c7ed",
   "metadata": {},
   "outputs": [
    {
     "name": "stdout",
     "output_type": "stream",
     "text": [
      "      source  target    weight\n",
      "1321      31      77  0.539880\n",
      "1326      31     115  0.485577\n",
      "1328      31     118  0.659343\n",
      "1331      31     223  0.659343\n",
      "1332      31     200  0.401721\n",
      "1334      31     192  0.526407\n",
      "1338      31     193  0.447311\n",
      "1344      31     163  0.423019\n",
      "The Latest on a regional meeting about Venezuela's political crisis. (all times local):\n",
      "The Latest on the fatal shooting of a 7-year-old girl in Houston (all times local):\n",
      "The Latest on California Gov.-elect Gavin Newsom's inauguration (all times local):\n"
     ]
    },
    {
     "name": "stderr",
     "output_type": "stream",
     "text": [
      "/Users/amirmokhtari/anaconda3/lib/python3.7/site-packages/ipykernel/ipkernel.py:287: DeprecationWarning: `should_run_async` will not call `transform_cell` automatically in the future. Please pass the result to `transformed_cell` argument and any exception that happen during thetransform in `preprocessing_exc_tuple` in IPython 7.17 and above.\n",
      "  and should_run_async(code)\n"
     ]
    }
   ],
   "source": [
    "#=================================================-\n",
    "#### Slide 38: Look up the similar article pairs  ####\n",
    "\n",
    "print(edgelist_df_subset)\n",
    "print(NYT.iloc[31, 2])\n",
    "print(NYT.iloc[118, 2])\n",
    "print(NYT.iloc[223, 2])\n",
    "\n"
   ]
  },
  {
   "cell_type": "code",
   "execution_count": 27,
   "id": "1112ec5b",
   "metadata": {},
   "outputs": [
    {
     "name": "stderr",
     "output_type": "stream",
     "text": [
      "/Users/amirmokhtari/anaconda3/lib/python3.7/site-packages/ipykernel/ipkernel.py:287: DeprecationWarning: `should_run_async` will not call `transform_cell` automatically in the future. Please pass the result to `transformed_cell` argument and any exception that happen during thetransform in `preprocessing_exc_tuple` in IPython 7.17 and above.\n",
      "  and should_run_async(code)\n"
     ]
    },
    {
     "ename": "TypeError",
     "evalue": "unsupported operand type(s) for +: 'PosixPath' and 'str'",
     "output_type": "error",
     "traceback": [
      "\u001b[0;31m---------------------------------------------------------------------------\u001b[0m",
      "\u001b[0;31mTypeError\u001b[0m                                 Traceback (most recent call last)",
      "\u001b[0;32m<ipython-input-27-53c7506747ea>\u001b[0m in \u001b[0;36m<module>\u001b[0;34m\u001b[0m\n\u001b[1;32m      6\u001b[0m \u001b[0;34m\u001b[0m\u001b[0m\n\u001b[1;32m      7\u001b[0m \u001b[0;31m# Save html and show graph in browser.\u001b[0m\u001b[0;34m\u001b[0m\u001b[0;34m\u001b[0m\u001b[0;34m\u001b[0m\u001b[0m\n\u001b[0;32m----> 8\u001b[0;31m \u001b[0mnetwork\u001b[0m\u001b[0;34m.\u001b[0m\u001b[0mshow\u001b[0m\u001b[0;34m(\u001b[0m\u001b[0mplot_dir\u001b[0m\u001b[0;34m+\u001b[0m\u001b[0;34m\"/NYT_similar_snippets.html\"\u001b[0m\u001b[0;34m)\u001b[0m\u001b[0;34m\u001b[0m\u001b[0;34m\u001b[0m\u001b[0m\n\u001b[0m\u001b[1;32m      9\u001b[0m \u001b[0;34m\u001b[0m\u001b[0m\n",
      "\u001b[0;31mTypeError\u001b[0m: unsupported operand type(s) for +: 'PosixPath' and 'str'"
     ]
    }
   ],
   "source": [
    "#=================================================-\n",
    "#### Slide 39: Show buttons to modify graph look  ####\n",
    "\n",
    "# Show buttons to modify the look.\n",
    "network.show_buttons(filter_=['physics'])\n",
    "\n",
    "# Save html and show graph in browser.\n",
    "network.show(plot_dir+\"/NYT_similar_snippets.html\")\n",
    "\n"
   ]
  },
  {
   "cell_type": "code",
   "execution_count": null,
   "id": "f98ea92a",
   "metadata": {},
   "outputs": [],
   "source": [
    "#=================================================-\n",
    "#### Slide 45: Hierarchical clustering: compute distance  ####\n",
    "\n",
    "# Compute distance matrix by subtracting similarity from 1.\n",
    "distance = 1 - similarity\n",
    "\n"
   ]
  },
  {
   "cell_type": "code",
   "execution_count": null,
   "id": "c9db7fac",
   "metadata": {},
   "outputs": [],
   "source": [
    "#=================================================-\n",
    "#### Slide 53: Exercise 1  ####\n",
    "\n",
    "\n",
    "\n"
   ]
  },
  {
   "cell_type": "code",
   "execution_count": null,
   "id": "ef9aa749",
   "metadata": {},
   "outputs": [],
   "source": [
    "#=================================================-\n",
    "#### Slide 54: Compute and interpret linkage matrix  ####\n",
    "\n",
    "# Define the `linkage_matrix` using\n",
    "# `ward` clustering algorithm.\n",
    "linkage_matrix = ward(distance)\n",
    "print(linkage_matrix[0:10])\n",
    "\n"
   ]
  },
  {
   "cell_type": "code",
   "execution_count": null,
   "id": "a5acf906",
   "metadata": {},
   "outputs": [],
   "source": [
    "#=================================================-\n",
    "#### Slide 56: Compute and interpret linkage matrix (cont'd)  ####\n",
    "\n",
    "# Print shape of the matrix.\n",
    "print(linkage_matrix.shape)\n",
    "\n"
   ]
  },
  {
   "cell_type": "code",
   "execution_count": null,
   "id": "ae1dc466",
   "metadata": {},
   "outputs": [],
   "source": [
    "#=================================================-\n",
    "#### Slide 57: Compute and interpret linkage matrix (cont'd)  ####\n",
    "\n",
    "print(linkage_matrix[0:2])\n",
    "\n"
   ]
  },
  {
   "cell_type": "code",
   "execution_count": null,
   "id": "28c1e956",
   "metadata": {},
   "outputs": [],
   "source": [
    "#=================================================-\n",
    "#### Slide 58: Compute and interpret linkage matrix (cont'd)  ####\n",
    "\n",
    "print(linkage_matrix[150])\n",
    "\n"
   ]
  },
  {
   "cell_type": "code",
   "execution_count": null,
   "id": "060aae23",
   "metadata": {},
   "outputs": [],
   "source": [
    "#=================================================-\n",
    "#### Slide 59: Compute and interpret linkage matrix (cont'd)  ####\n",
    "\n",
    "print(linkage_matrix[246])\n",
    "\n"
   ]
  },
  {
   "cell_type": "code",
   "execution_count": null,
   "id": "a9a8d9f8",
   "metadata": {},
   "outputs": [],
   "source": [
    "#=================================================-\n",
    "#### Slide 61: Hierarchical clustering: visualize results  ####\n",
    "\n",
    "# Now we can plot the hierarchical clusters.\n",
    "fig, axes = plt.subplots(figsize = (15, 40))\n",
    "axes = dendrogram(linkage_matrix,\n",
    "                  orientation = \"right\",\n",
    "                  labels = valid_snippets,\n",
    "                  leaf_font_size = 11)\n",
    "\n"
   ]
  },
  {
   "cell_type": "code",
   "execution_count": null,
   "id": "821659dc",
   "metadata": {},
   "outputs": [],
   "source": [
    "#=================================================-\n",
    "#### Slide 63: Hierarchical clustering: get cluster labels  ####\n",
    "\n",
    "# Set k - the max number of clusters.\n",
    "k = 5\n",
    "\n",
    "# Get cluster labels for each snippet.\n",
    "cluster_labels = fcluster(linkage_matrix,         #<- linkage matrix\n",
    "                          k,                      #<- max number of clusters\n",
    "                          criterion = 'maxclust') #<- criterion maxclust\n",
    "\n",
    "print(cluster_labels)\n",
    "\n"
   ]
  },
  {
   "cell_type": "code",
   "execution_count": null,
   "id": "b39ed053",
   "metadata": {},
   "outputs": [],
   "source": [
    "#=================================================-\n",
    "#### Slide 64: Combine data with hclust and LDA cluster labels  ####\n",
    "\n",
    "NYT_valid_articles = NYT.loc[valid_snippets]\n",
    "NYT_valid_articles['hclust_label'] = cluster_labels\n",
    "doc_topic_pairs_df = doc_topic_pairs_df.sort_values(by = \"doc_id\")\n",
    "NYT_valid_articles['LDA_topic_label'] = doc_topic_pairs_df['best_topic']\n",
    "\n"
   ]
  },
  {
   "cell_type": "code",
   "execution_count": null,
   "id": "2e64bafa",
   "metadata": {},
   "outputs": [],
   "source": [
    "#=================================================-\n",
    "#### Slide 65: Save plots and data  ####\n",
    "\n",
    "fig.savefig(plot_dir + '/NYT_hclust.png')\n",
    "NYT_valid_articles.to_csv(data_dir + '/NYT_snippets_with_cluster_labels.csv')\n",
    "\n"
   ]
  },
  {
   "cell_type": "code",
   "execution_count": null,
   "id": "0da1f105",
   "metadata": {},
   "outputs": [],
   "source": [
    "#=================================================-\n",
    "#### Slide 68: Exercise 2  ####\n",
    "\n",
    "\n"
   ]
  }
 ],
 "metadata": {
  "kernelspec": {
   "display_name": "Python 3",
   "language": "python",
   "name": "python3"
  },
  "language_info": {
   "codemirror_mode": {
    "name": "ipython",
    "version": 3
   },
   "file_extension": ".py",
   "mimetype": "text/x-python",
   "name": "python",
   "nbconvert_exporter": "python",
   "pygments_lexer": "ipython3",
   "version": "3.7.11"
  },
  "varInspector": {
   "cols": {
    "lenName": 16,
    "lenType": 16,
    "lenVar": 40
   },
   "kernels_config": {
    "python": {
     "delete_cmd_postfix": "",
     "delete_cmd_prefix": "del ",
     "library": "var_list.py",
     "varRefreshCmd": "print(var_dic_list())"
    },
    "r": {
     "delete_cmd_postfix": ") ",
     "delete_cmd_prefix": "rm(",
     "library": "var_list.r",
     "varRefreshCmd": "cat(var_dic_list()) "
    }
   },
   "types_to_exclude": [
    "module",
    "function",
    "builtin_function_or_method",
    "instance",
    "_Feature"
   ],
   "window_display": false
  }
 },
 "nbformat": 4,
 "nbformat_minor": 5
}
